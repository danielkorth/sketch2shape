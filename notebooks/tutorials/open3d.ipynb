{
 "cells": [
  {
   "cell_type": "code",
   "execution_count": null,
   "metadata": {},
   "outputs": [],
   "source": [
    "from lib.utils import load_config\n",
    "import open3d as o3d\n",
    "\n",
    "config = load_config()\n",
    "model_path = \"/shared/data/ShapeNetCore/Chair/03001627/5a61caff5d5b3e22424f8f8e828c9ab9/models/model_normalized.obj\"\n",
    "mesh = o3d.io.read_triangle_mesh(model_path)\n",
    "o3d.visualization.draw_plotly([mesh])"
   ]
  }
 ],
 "metadata": {
  "kernelspec": {
   "display_name": "sketch2shape",
   "language": "python",
   "name": "python3"
  },
  "language_info": {
   "codemirror_mode": {
    "name": "ipython",
    "version": 3
   },
   "file_extension": ".py",
   "mimetype": "text/x-python",
   "name": "python",
   "nbconvert_exporter": "python",
   "pygments_lexer": "ipython3",
   "version": "3.10.13"
  }
 },
 "nbformat": 4,
 "nbformat_minor": 2
}
