{
 "cells": [
  {
   "cell_type": "code",
   "execution_count": null,
   "metadata": {},
   "outputs": [],
   "source": [
    "from lib.data.metainfo import MetaInfo\n",
    "from lib.utils.config import load_config\n",
    "from pathlib import Path\n",
    "from tqdm import tqdm\n",
    "\n",
    "cfg = load_config(\"optimize_sketch\", [\"dataset=shapenet_chair_4096\"])\n",
    "cfg.data.dataset_name = \"shapenet_chair_4096\"\n",
    "metainfo = MetaInfo(cfg.data.data_dir)\n",
    "len(metainfo.obj_ids), metainfo.data_dir\n",
    "source = (Path(cfg.data.data_dir) / \"hand_drawn\")"
   ]
  },
  {
   "cell_type": "code",
   "execution_count": null,
   "metadata": {},
   "outputs": [],
   "source": [
    "from PIL import Image\n",
    "import numpy as np\n",
    "from torchvision.transforms import v2\n",
    "import torch\n",
    "\n",
    "padding = 0.05\n",
    "transform = v2.Compose([v2.ToImage(), v2.ToDtype(torch.float32, scale=True)])\n",
    "final_transform = v2.Compose([v2.Resize((256, 256)), v2.ToPILImage()])\n",
    "shapes_path = Path(cfg.data.data_dir) / \"shapes\"\n",
    "\n",
    "images = []\n",
    "for path in tqdm(Path(source).iterdir()):\n",
    "    obj_id = path.stem\n",
    "    image = Image.open(path)\n",
    "\n",
    "    # extract the sketch\n",
    "    sketch = transform(image)\n",
    "    mask = sketch.sum(0) == 0.0\n",
    "    idx = np.where(mask)\n",
    "    try:\n",
    "        bbox = sketch[:, np.min(idx[0]) : np.max(idx[0]), np.min(idx[1]) : np.max(idx[1])]\n",
    "    except:\n",
    "        print(obj_id)\n",
    "        bbox = sketch\n",
    "\n",
    "    # add padding\n",
    "    max_size = max(bbox.shape[1], bbox.shape[2])\n",
    "    pad_2 = (max_size - bbox.shape[2]) // 2\n",
    "    pad_1 = (max_size - bbox.shape[1]) // 2\n",
    "    bbox = torch.nn.functional.pad(bbox, (pad_2, pad_2, pad_1, pad_1), value=1.0)\n",
    "    margin = int(max_size * padding)\n",
    "    bbox = torch.nn.functional.pad(bbox, (margin, margin, margin, margin), value=1.0)\n",
    "\n",
    "    hand_drawn = final_transform(bbox)\n",
    "    out_path = shapes_path / obj_id / \"hand_drawn_sketch\" / \"00001.png\"\n",
    "    out_path.parent.mkdir(parents=True, exist_ok=True)\n",
    "    hand_drawn.save(out_path)"
   ]
  }
 ],
 "metadata": {
  "kernelspec": {
   "display_name": "sketch2shape",
   "language": "python",
   "name": "python3"
  },
  "language_info": {
   "codemirror_mode": {
    "name": "ipython",
    "version": 3
   },
   "file_extension": ".py",
   "mimetype": "text/x-python",
   "name": "python",
   "nbconvert_exporter": "python",
   "pygments_lexer": "ipython3",
   "version": "3.11.7"
  }
 },
 "nbformat": 4,
 "nbformat_minor": 2
}
