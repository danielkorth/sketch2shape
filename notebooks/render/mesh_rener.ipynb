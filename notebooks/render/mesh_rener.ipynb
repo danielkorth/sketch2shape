{
 "cells": [
  {
   "cell_type": "code",
   "execution_count": 1,
   "metadata": {},
   "outputs": [
    {
     "name": "stderr",
     "output_type": "stream",
     "text": [
      "/home/borth/miniconda3/envs/pytorch3d/lib/python3.9/site-packages/torch/functional.py:504: UserWarning: torch.meshgrid: in an upcoming release, it will be required to pass the indexing argument. (Triggered internally at ../aten/src/ATen/native/TensorShape.cpp:3526.)\n",
      "  return _VF.meshgrid(tensors, **kwargs)  # type: ignore[attr-defined]\n"
     ]
    }
   ],
   "source": [
    "import trimesh\n",
    "from lib.render.camera import Camera\n",
    "\n",
    "sphere_eps = 3e-2\n",
    "azim = 0\n",
    "elev = -45\n",
    "dist = 4\n",
    "\n",
    "camera = Camera(azim=azim, elev=elev, dist=dist, sphere_eps=sphere_eps)\n",
    "points, rays, mask = camera.unit_sphere_intersection_rays()"
   ]
  },
  {
   "cell_type": "code",
   "execution_count": 5,
   "metadata": {},
   "outputs": [],
   "source": [
    "mesh = trimesh.load_mesh(\"/home/borth/sketch2shape/data/shapenet_chair_large/shapes/1a6f615e8b1b5ae4dbbc9440457e303e/model_normalized.obj\")"
   ]
  },
  {
   "cell_type": "code",
   "execution_count": 6,
   "metadata": {},
   "outputs": [
    {
     "ename": "AttributeError",
     "evalue": "'Scene' object has no attribute 'ray'",
     "output_type": "error",
     "traceback": [
      "\u001b[0;31m---------------------------------------------------------------------------\u001b[0m",
      "\u001b[0;31mAttributeError\u001b[0m                            Traceback (most recent call last)",
      "Cell \u001b[0;32mIn[6], line 1\u001b[0m\n\u001b[0;32m----> 1\u001b[0m \u001b[43mmesh\u001b[49m\u001b[38;5;241;43m.\u001b[39;49m\u001b[43mray\u001b[49m\u001b[38;5;241m.\u001b[39mintersects_location(ray_origins\u001b[38;5;241m=\u001b[39mpoints\u001b[38;5;241m.\u001b[39mnumpy(), ray_directions\u001b[38;5;241m=\u001b[39mrays\u001b[38;5;241m.\u001b[39mnumpy())\n",
      "\u001b[0;31mAttributeError\u001b[0m: 'Scene' object has no attribute 'ray'"
     ]
    }
   ],
   "source": [
    "mesh.ray.intersects_location(ray_origins=points.numpy(), ray_directions=rays.numpy())"
   ]
  },
  {
   "cell_type": "code",
   "execution_count": 4,
   "metadata": {},
   "outputs": [
    {
     "ename": "AttributeError",
     "evalue": "'ModuleNotFoundError' object has no attribute 'index'",
     "output_type": "error",
     "traceback": [
      "\u001b[0;31m---------------------------------------------------------------------------\u001b[0m",
      "\u001b[0;31mAttributeError\u001b[0m                            Traceback (most recent call last)",
      "Cell \u001b[0;32mIn[4], line 9\u001b[0m\n\u001b[1;32m      6\u001b[0m ray_origins \u001b[38;5;241m=\u001b[39m np\u001b[38;5;241m.\u001b[39marray([[\u001b[38;5;241m0\u001b[39m, \u001b[38;5;241m0\u001b[39m, \u001b[38;5;241m-\u001b[39m\u001b[38;5;241m5\u001b[39m], [\u001b[38;5;241m2\u001b[39m, \u001b[38;5;241m2\u001b[39m, \u001b[38;5;241m-\u001b[39m\u001b[38;5;241m10\u001b[39m]])\n\u001b[1;32m      7\u001b[0m ray_directions \u001b[38;5;241m=\u001b[39m np\u001b[38;5;241m.\u001b[39marray([[\u001b[38;5;241m0\u001b[39m, \u001b[38;5;241m0\u001b[39m, \u001b[38;5;241m1\u001b[39m], [\u001b[38;5;241m0\u001b[39m, \u001b[38;5;241m0\u001b[39m, \u001b[38;5;241m1\u001b[39m]])\n\u001b[0;32m----> 9\u001b[0m locations, index_ray, index_tri \u001b[38;5;241m=\u001b[39m \u001b[43mmesh\u001b[49m\u001b[38;5;241;43m.\u001b[39;49m\u001b[43mray\u001b[49m\u001b[38;5;241;43m.\u001b[39;49m\u001b[43mintersects_location\u001b[49m\u001b[43m(\u001b[49m\n\u001b[1;32m     10\u001b[0m \u001b[43m    \u001b[49m\u001b[43mray_origins\u001b[49m\u001b[38;5;241;43m=\u001b[39;49m\u001b[43mray_origins\u001b[49m\u001b[43m,\u001b[49m\u001b[43m \u001b[49m\u001b[43mray_directions\u001b[49m\u001b[38;5;241;43m=\u001b[39;49m\u001b[43mray_directions\u001b[49m\u001b[43m,\u001b[49m\u001b[43m \u001b[49m\u001b[43mmultiple_hits\u001b[49m\u001b[38;5;241;43m=\u001b[39;49m\u001b[38;5;28;43;01mTrue\u001b[39;49;00m\n\u001b[1;32m     11\u001b[0m \u001b[43m)\u001b[49m\n",
      "File \u001b[0;32m~/miniconda3/envs/pytorch3d/lib/python3.9/site-packages/trimesh/ray/ray_triangle.py:92\u001b[0m, in \u001b[0;36mRayMeshIntersector.intersects_location\u001b[0;34m(self, ray_origins, ray_directions, **kwargs)\u001b[0m\n\u001b[1;32m     69\u001b[0m \u001b[38;5;28;01mdef\u001b[39;00m \u001b[38;5;21mintersects_location\u001b[39m(\u001b[38;5;28mself\u001b[39m, ray_origins, ray_directions, \u001b[38;5;241m*\u001b[39m\u001b[38;5;241m*\u001b[39mkwargs):\n\u001b[1;32m     70\u001b[0m \u001b[38;5;250m    \u001b[39m\u001b[38;5;124;03m\"\"\"\u001b[39;00m\n\u001b[1;32m     71\u001b[0m \u001b[38;5;124;03m    Return unique cartesian locations where rays hit the mesh.\u001b[39;00m\n\u001b[1;32m     72\u001b[0m \u001b[38;5;124;03m    If you are counting the number of hits a ray had, this method\u001b[39;00m\n\u001b[0;32m   (...)\u001b[0m\n\u001b[1;32m     90\u001b[0m \u001b[38;5;124;03m      Array of triangle (face) indexes\u001b[39;00m\n\u001b[1;32m     91\u001b[0m \u001b[38;5;124;03m    \"\"\"\u001b[39;00m\n\u001b[0;32m---> 92\u001b[0m     (index_tri, index_ray, locations) \u001b[38;5;241m=\u001b[39m \u001b[38;5;28;43mself\u001b[39;49m\u001b[38;5;241;43m.\u001b[39;49m\u001b[43mintersects_id\u001b[49m\u001b[43m(\u001b[49m\n\u001b[1;32m     93\u001b[0m \u001b[43m        \u001b[49m\u001b[43mray_origins\u001b[49m\u001b[38;5;241;43m=\u001b[39;49m\u001b[43mray_origins\u001b[49m\u001b[43m,\u001b[49m\n\u001b[1;32m     94\u001b[0m \u001b[43m        \u001b[49m\u001b[43mray_directions\u001b[49m\u001b[38;5;241;43m=\u001b[39;49m\u001b[43mray_directions\u001b[49m\u001b[43m,\u001b[49m\n\u001b[1;32m     95\u001b[0m \u001b[43m        \u001b[49m\u001b[43mreturn_locations\u001b[49m\u001b[38;5;241;43m=\u001b[39;49m\u001b[38;5;28;43;01mTrue\u001b[39;49;00m\u001b[43m,\u001b[49m\n\u001b[1;32m     96\u001b[0m \u001b[43m        \u001b[49m\u001b[38;5;241;43m*\u001b[39;49m\u001b[38;5;241;43m*\u001b[39;49m\u001b[43mkwargs\u001b[49m\u001b[43m,\u001b[49m\n\u001b[1;32m     97\u001b[0m \u001b[43m    \u001b[49m\u001b[43m)\u001b[49m\n\u001b[1;32m     98\u001b[0m     \u001b[38;5;28;01mreturn\u001b[39;00m locations, index_ray, index_tri\n",
      "File \u001b[0;32m~/miniconda3/envs/pytorch3d/lib/python3.9/site-packages/trimesh/ray/ray_triangle.py:58\u001b[0m, in \u001b[0;36mRayMeshIntersector.intersects_id\u001b[0;34m(self, ray_origins, ray_directions, return_locations, multiple_hits, **kwargs)\u001b[0m\n\u001b[1;32m     22\u001b[0m \u001b[38;5;28;01mdef\u001b[39;00m \u001b[38;5;21mintersects_id\u001b[39m(\n\u001b[1;32m     23\u001b[0m     \u001b[38;5;28mself\u001b[39m,\n\u001b[1;32m     24\u001b[0m     ray_origins,\n\u001b[0;32m   (...)\u001b[0m\n\u001b[1;32m     28\u001b[0m     \u001b[38;5;241m*\u001b[39m\u001b[38;5;241m*\u001b[39mkwargs,\n\u001b[1;32m     29\u001b[0m ):\n\u001b[1;32m     30\u001b[0m \u001b[38;5;250m    \u001b[39m\u001b[38;5;124;03m\"\"\"\u001b[39;00m\n\u001b[1;32m     31\u001b[0m \u001b[38;5;124;03m    Find the intersections between the current mesh and an\u001b[39;00m\n\u001b[1;32m     32\u001b[0m \u001b[38;5;124;03m    array of rays.\u001b[39;00m\n\u001b[0;32m   (...)\u001b[0m\n\u001b[1;32m     52\u001b[0m \u001b[38;5;124;03m      [optional] Position of intersection in space\u001b[39;00m\n\u001b[1;32m     53\u001b[0m \u001b[38;5;124;03m    \"\"\"\u001b[39;00m\n\u001b[1;32m     54\u001b[0m     (index_tri, index_ray, locations) \u001b[38;5;241m=\u001b[39m ray_triangle_id(\n\u001b[1;32m     55\u001b[0m         triangles\u001b[38;5;241m=\u001b[39m\u001b[38;5;28mself\u001b[39m\u001b[38;5;241m.\u001b[39mmesh\u001b[38;5;241m.\u001b[39mtriangles,\n\u001b[1;32m     56\u001b[0m         ray_origins\u001b[38;5;241m=\u001b[39mray_origins,\n\u001b[1;32m     57\u001b[0m         ray_directions\u001b[38;5;241m=\u001b[39mray_directions,\n\u001b[0;32m---> 58\u001b[0m         tree\u001b[38;5;241m=\u001b[39m\u001b[38;5;28;43mself\u001b[39;49m\u001b[38;5;241;43m.\u001b[39;49m\u001b[43mmesh\u001b[49m\u001b[38;5;241;43m.\u001b[39;49m\u001b[43mtriangles_tree\u001b[49m,\n\u001b[1;32m     59\u001b[0m         multiple_hits\u001b[38;5;241m=\u001b[39mmultiple_hits,\n\u001b[1;32m     60\u001b[0m         triangles_normal\u001b[38;5;241m=\u001b[39m\u001b[38;5;28mself\u001b[39m\u001b[38;5;241m.\u001b[39mmesh\u001b[38;5;241m.\u001b[39mface_normals,\n\u001b[1;32m     61\u001b[0m     )\n\u001b[1;32m     62\u001b[0m     \u001b[38;5;28;01mif\u001b[39;00m return_locations:\n\u001b[1;32m     63\u001b[0m         \u001b[38;5;28;01mif\u001b[39;00m \u001b[38;5;28mlen\u001b[39m(index_tri) \u001b[38;5;241m==\u001b[39m \u001b[38;5;241m0\u001b[39m:\n",
      "File \u001b[0;32m~/miniconda3/envs/pytorch3d/lib/python3.9/site-packages/trimesh/caching.py:141\u001b[0m, in \u001b[0;36mcache_decorator.<locals>.get_cached\u001b[0;34m(*args, **kwargs)\u001b[0m\n\u001b[1;32m    139\u001b[0m     \u001b[38;5;28;01mreturn\u001b[39;00m \u001b[38;5;28mself\u001b[39m\u001b[38;5;241m.\u001b[39m_cache\u001b[38;5;241m.\u001b[39mcache[name]\n\u001b[1;32m    140\u001b[0m \u001b[38;5;66;03m# value not in cache so execute the function\u001b[39;00m\n\u001b[0;32m--> 141\u001b[0m value \u001b[38;5;241m=\u001b[39m \u001b[43mfunction\u001b[49m\u001b[43m(\u001b[49m\u001b[38;5;241;43m*\u001b[39;49m\u001b[43margs\u001b[49m\u001b[43m,\u001b[49m\u001b[43m \u001b[49m\u001b[38;5;241;43m*\u001b[39;49m\u001b[38;5;241;43m*\u001b[39;49m\u001b[43mkwargs\u001b[49m\u001b[43m)\u001b[49m\n\u001b[1;32m    142\u001b[0m \u001b[38;5;66;03m# store the value\u001b[39;00m\n\u001b[1;32m    143\u001b[0m \u001b[38;5;28;01mif\u001b[39;00m (\n\u001b[1;32m    144\u001b[0m     \u001b[38;5;28mself\u001b[39m\u001b[38;5;241m.\u001b[39m_cache\u001b[38;5;241m.\u001b[39mforce_immutable\n\u001b[1;32m    145\u001b[0m     \u001b[38;5;129;01mand\u001b[39;00m \u001b[38;5;28mhasattr\u001b[39m(value, \u001b[38;5;124m\"\u001b[39m\u001b[38;5;124mflags\u001b[39m\u001b[38;5;124m\"\u001b[39m)\n\u001b[1;32m    146\u001b[0m     \u001b[38;5;129;01mand\u001b[39;00m \u001b[38;5;28mlen\u001b[39m(value\u001b[38;5;241m.\u001b[39mshape) \u001b[38;5;241m>\u001b[39m \u001b[38;5;241m0\u001b[39m\n\u001b[1;32m    147\u001b[0m ):\n",
      "File \u001b[0;32m~/miniconda3/envs/pytorch3d/lib/python3.9/site-packages/trimesh/base.py:874\u001b[0m, in \u001b[0;36mTrimesh.triangles_tree\u001b[0;34m(self)\u001b[0m\n\u001b[1;32m    864\u001b[0m \u001b[38;5;129m@caching\u001b[39m\u001b[38;5;241m.\u001b[39mcache_decorator\n\u001b[1;32m    865\u001b[0m \u001b[38;5;28;01mdef\u001b[39;00m \u001b[38;5;21mtriangles_tree\u001b[39m(\u001b[38;5;28mself\u001b[39m) \u001b[38;5;241m-\u001b[39m\u001b[38;5;241m>\u001b[39m Index:\n\u001b[1;32m    866\u001b[0m \u001b[38;5;250m    \u001b[39m\u001b[38;5;124;03m\"\"\"\u001b[39;00m\n\u001b[1;32m    867\u001b[0m \u001b[38;5;124;03m    An R-tree containing each face of the mesh.\u001b[39;00m\n\u001b[1;32m    868\u001b[0m \n\u001b[0;32m   (...)\u001b[0m\n\u001b[1;32m    872\u001b[0m \u001b[38;5;124;03m      Each triangle in self.faces has a rectangular cell\u001b[39;00m\n\u001b[1;32m    873\u001b[0m \u001b[38;5;124;03m    \"\"\"\u001b[39;00m\n\u001b[0;32m--> 874\u001b[0m     \u001b[38;5;28;01mreturn\u001b[39;00m \u001b[43mtriangles\u001b[49m\u001b[38;5;241;43m.\u001b[39;49m\u001b[43mbounds_tree\u001b[49m\u001b[43m(\u001b[49m\u001b[38;5;28;43mself\u001b[39;49m\u001b[38;5;241;43m.\u001b[39;49m\u001b[43mtriangles\u001b[49m\u001b[43m)\u001b[49m\n",
      "File \u001b[0;32m~/miniconda3/envs/pytorch3d/lib/python3.9/site-packages/trimesh/triangles.py:377\u001b[0m, in \u001b[0;36mbounds_tree\u001b[0;34m(triangles)\u001b[0m\n\u001b[1;32m    375\u001b[0m \u001b[38;5;66;03m# the (n,6) interleaved bounding box for every triangle\u001b[39;00m\n\u001b[1;32m    376\u001b[0m triangle_bounds \u001b[38;5;241m=\u001b[39m np\u001b[38;5;241m.\u001b[39mcolumn_stack((triangles\u001b[38;5;241m.\u001b[39mmin(axis\u001b[38;5;241m=\u001b[39m\u001b[38;5;241m1\u001b[39m), triangles\u001b[38;5;241m.\u001b[39mmax(axis\u001b[38;5;241m=\u001b[39m\u001b[38;5;241m1\u001b[39m)))\n\u001b[0;32m--> 377\u001b[0m tree \u001b[38;5;241m=\u001b[39m \u001b[43mutil\u001b[49m\u001b[38;5;241;43m.\u001b[39;49m\u001b[43mbounds_tree\u001b[49m\u001b[43m(\u001b[49m\u001b[43mtriangle_bounds\u001b[49m\u001b[43m)\u001b[49m\n\u001b[1;32m    378\u001b[0m \u001b[38;5;28;01mreturn\u001b[39;00m tree\n",
      "File \u001b[0;32m~/miniconda3/envs/pytorch3d/lib/python3.9/site-packages/trimesh/util.py:1785\u001b[0m, in \u001b[0;36mbounds_tree\u001b[0;34m(bounds)\u001b[0m\n\u001b[1;32m   1782\u001b[0m     \u001b[38;5;28;01mraise\u001b[39;00m \u001b[38;5;167;01mValueError\u001b[39;00m(\u001b[38;5;124m\"\u001b[39m\u001b[38;5;124mBounds must be (n,dimension*2)!\u001b[39m\u001b[38;5;124m\"\u001b[39m)\n\u001b[1;32m   1783\u001b[0m dimension \u001b[38;5;241m=\u001b[39m \u001b[38;5;28mint\u001b[39m(dimension \u001b[38;5;241m/\u001b[39m \u001b[38;5;241m2\u001b[39m)\n\u001b[0;32m-> 1785\u001b[0m properties \u001b[38;5;241m=\u001b[39m \u001b[43mrtree\u001b[49m\u001b[38;5;241;43m.\u001b[39;49m\u001b[43mindex\u001b[49m\u001b[38;5;241m.\u001b[39mProperty(dimension\u001b[38;5;241m=\u001b[39mdimension)\n\u001b[1;32m   1786\u001b[0m \u001b[38;5;66;03m# stream load was verified working on import above\u001b[39;00m\n\u001b[1;32m   1787\u001b[0m \u001b[38;5;28;01mreturn\u001b[39;00m rtree\u001b[38;5;241m.\u001b[39mindex\u001b[38;5;241m.\u001b[39mIndex(\n\u001b[1;32m   1788\u001b[0m     \u001b[38;5;28mzip\u001b[39m(np\u001b[38;5;241m.\u001b[39marange(\u001b[38;5;28mlen\u001b[39m(bounds)), bounds, [\u001b[38;5;28;01mNone\u001b[39;00m] \u001b[38;5;241m*\u001b[39m \u001b[38;5;28mlen\u001b[39m(bounds)), properties\u001b[38;5;241m=\u001b[39mproperties\n\u001b[1;32m   1789\u001b[0m )\n",
      "\u001b[0;31mAttributeError\u001b[0m: 'ModuleNotFoundError' object has no attribute 'index'"
     ]
    }
   ],
   "source": [
    "import numpy as np\n",
    "import trimesh\n",
    "\n",
    "mesh = trimesh.primitives.Sphere()\n",
    "# create some rays\n",
    "ray_origins = np.array([[0, 0, -5], [2, 2, -10]])\n",
    "ray_directions = np.array([[0, 0, 1], [0, 0, 1]])\n",
    "\n",
    "locations, index_ray, index_tri = mesh.ray.intersects_location(\n",
    "    ray_origins=ray_origins, ray_directions=ray_directions, multiple_hits=True\n",
    ")"
   ]
  }
 ],
 "metadata": {
  "kernelspec": {
   "display_name": "pytorch3d",
   "language": "python",
   "name": "python3"
  },
  "language_info": {
   "codemirror_mode": {
    "name": "ipython",
    "version": 3
   },
   "file_extension": ".py",
   "mimetype": "text/x-python",
   "name": "python",
   "nbconvert_exporter": "python",
   "pygments_lexer": "ipython3",
   "version": "3.9.18"
  }
 },
 "nbformat": 4,
 "nbformat_minor": 2
}
