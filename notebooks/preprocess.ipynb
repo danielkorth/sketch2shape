{
 "cells": [
  {
   "cell_type": "code",
   "execution_count": null,
   "metadata": {},
   "outputs": [],
   "source": [
    "%load_ext autoreload\n",
    "%autoreload 2"
   ]
  },
  {
   "cell_type": "markdown",
   "metadata": {},
   "source": [
    "# Open3D PreProcessing"
   ]
  },
  {
   "cell_type": "code",
   "execution_count": null,
   "metadata": {},
   "outputs": [],
   "source": [
    "import matplotlib.pyplot as plt\n",
    "import numpy as np\n",
    "from lib.data.metainfo import MetaInfo\n",
    "from lib.visualize.open3d import visualize_object, visualize_pointcloud\n",
    "from lib.data.preprocess import PreprocessSDF, PreprocessMesh, PreprocessSiamese\n",
    "\n",
    "\n",
    "data_dir = \"/home/borth/sketch2shape/data/shapenet_chair_1024\"\n",
    "metainfo = MetaInfo(data_dir=data_dir)\n",
    "obj_id = metainfo.obj_ids[0]"
   ]
  },
  {
   "cell_type": "markdown",
   "metadata": {},
   "source": [
    "## Load And Normalize"
   ]
  },
  {
   "cell_type": "code",
   "execution_count": null,
   "metadata": {},
   "outputs": [],
   "source": [
    "mesh = PreprocessMesh(data_dir=data_dir)\n",
    "normalized_mesh = mesh.preprocess(obj_id)\n",
    "visualize_object(normalized_mesh)"
   ]
  },
  {
   "cell_type": "markdown",
   "metadata": {},
   "source": [
    "## Sphere Tracing and Normals Map"
   ]
  },
  {
   "cell_type": "code",
   "execution_count": null,
   "metadata": {},
   "outputs": [],
   "source": [
    "siamese = PreprocessSiamese(\n",
    "    data_dir=data_dir,\n",
    "    azims=[45],\n",
    "    elevs=[-45],\n",
    ")\n",
    "normals, sketches = siamese.preprocess(obj_id=obj_id)\n",
    "plt.imshow(normals[0])"
   ]
  },
  {
   "cell_type": "markdown",
   "metadata": {},
   "source": [
    "# Sample SDF "
   ]
  },
  {
   "cell_type": "code",
   "execution_count": null,
   "metadata": {},
   "outputs": [],
   "source": [
    "sdf = PreprocessSDF(\n",
    "    data_dir=data_dir,\n",
    "    azims=[0, 30, 60, 90, 120, 150, 180, 210, 240, 270, 300, 330],\n",
    "    elevs=[-90, -60, -30, 0, 30, 60,  90],\n",
    ")\n",
    "sdf_samples, surface_samples = sdf.preprocess(obj_id=obj_id)\n",
    "visualize_pointcloud(surface_samples)"
   ]
  },
  {
   "cell_type": "code",
   "execution_count": null,
   "metadata": {},
   "outputs": [],
   "source": [
    "visualize_pointcloud(sdf_samples[:, :3], sdf_samples[:, 3])"
   ]
  },
  {
   "cell_type": "code",
   "execution_count": null,
   "metadata": {},
   "outputs": [],
   "source": [
    "points, sdfs = metainfo.load_sdf_samples(obj_id)\n",
    "visualize_pointcloud(points, sdfs)"
   ]
  },
  {
   "cell_type": "code",
   "execution_count": null,
   "metadata": {},
   "outputs": [],
   "source": [
    "x = np.load(\"/shared/data/ShapeNetV2/SdfSamples/overfit_1/03001627/787a4db5b3452fc357a847db7547c1f3.npz\")\n",
    "pos = x[\"pos\"]\n",
    "neg = x[\"neg\"]\n",
    "points = np.concatenate([pos[:, :3], neg[:, :3]])\n",
    "sdfs = np.concatenate([pos[:, 3], neg[:, 3]])\n",
    "visualize_pointcloud(points, sdfs)"
   ]
  }
 ],
 "metadata": {
  "kernelspec": {
   "display_name": "sketch2shape",
   "language": "python",
   "name": "python3"
  },
  "language_info": {
   "codemirror_mode": {
    "name": "ipython",
    "version": 3
   },
   "file_extension": ".py",
   "mimetype": "text/x-python",
   "name": "python",
   "nbconvert_exporter": "python",
   "pygments_lexer": "ipython3",
   "version": "3.11.7"
  }
 },
 "nbformat": 4,
 "nbformat_minor": 2
}
