{
 "cells": [
  {
   "cell_type": "code",
   "execution_count": null,
   "metadata": {},
   "outputs": [],
   "source": [
    "%load_ext autoreload\n",
    "%autoreload 2"
   ]
  },
  {
   "cell_type": "markdown",
   "metadata": {},
   "source": [
    "# Open3D PreProcessing"
   ]
  },
  {
   "cell_type": "code",
   "execution_count": null,
   "metadata": {},
   "outputs": [],
   "source": [
    "import matplotlib.pyplot as plt\n",
    "import numpy as np\n",
    "from lib.data.metainfo import MetaInfo\n",
    "from lib.visualize.open3d import visualize_object, visualize_pointcloud\n",
    "from lib.data.preprocess import PreprocessSDF, PreprocessMesh, PreprocessSiamese\n",
    "\n",
    "\n",
    "data_dir = \"/home/borth/sketch2shape/data/shapenet_chair_1024\"\n",
    "metainfo = MetaInfo(data_dir=data_dir)\n",
    "# obj_id = metainfo.obj_ids[0]\n",
    "obj_id = \"5b1744a03be753cf3ccbceb68fb352fd\""
   ]
  },
  {
   "cell_type": "markdown",
   "metadata": {},
   "source": [
    "## Load And Normalize"
   ]
  },
  {
   "cell_type": "code",
   "execution_count": null,
   "metadata": {},
   "outputs": [],
   "source": [
    "mesh = PreprocessMesh(data_dir=data_dir)\n",
    "normalized_mesh = mesh.preprocess(obj_id)\n",
    "visualize_object(normalized_mesh)"
   ]
  },
  {
   "cell_type": "markdown",
   "metadata": {},
   "source": [
    "## Sphere Tracing and Normals Map"
   ]
  },
  {
   "cell_type": "code",
   "execution_count": null,
   "metadata": {},
   "outputs": [],
   "source": [
    "siamese = PreprocessSiamese(\n",
    "    data_dir=data_dir,\n",
    "    azims=[45],\n",
    "    elevs=[-45],\n",
    ")\n",
    "normals, sketches = siamese.preprocess(obj_id=obj_id)\n",
    "plt.imshow(normals[0])"
   ]
  },
  {
   "cell_type": "markdown",
   "metadata": {},
   "source": [
    "# Sample SDF "
   ]
  },
  {
   "cell_type": "code",
   "execution_count": null,
   "metadata": {},
   "outputs": [],
   "source": [
    "sdf = PreprocessSDF(\n",
    "    data_dir=data_dir,\n",
    "    azims=[0, 30, 60, 90, 120, 150, 180, 210, 240, 270, 300, 330],\n",
    "    elevs=[-90, -60, -30, 0, 30, 60,  90],\n",
    ")\n",
    "sdf_samples, surface_samples = sdf.preprocess(obj_id=obj_id)\n",
    "visualize_pointcloud(surface_samples)"
   ]
  },
  {
   "cell_type": "code",
   "execution_count": null,
   "metadata": {},
   "outputs": [],
   "source": [
    "visualize_pointcloud(sdf_samples[:, :3], sdf_samples[:, 3])"
   ]
  },
  {
   "cell_type": "code",
   "execution_count": null,
   "metadata": {},
   "outputs": [],
   "source": [
    "points, sdfs = metainfo.load_sdf_samples(obj_id)\n",
    "mask = np.random.choice(500000, 10000)\n",
    "mask = sdfs < 0\n",
    "visualize_pointcloud(points[mask], sdfs[mask])"
   ]
  },
  {
   "cell_type": "code",
   "execution_count": null,
   "metadata": {},
   "outputs": [],
   "source": [
    "(points[mask][:, 1] > 0.2).sum()"
   ]
  },
  {
   "cell_type": "code",
   "execution_count": null,
   "metadata": {},
   "outputs": [],
   "source": [
    "x = np.load(\"/shared/data/ShapeNetV2/SdfSamples/overfit_1/03001627/787a4db5b3452fc357a847db7547c1f3.npz\")\n",
    "pos = x[\"pos\"]\n",
    "neg = x[\"neg\"]\n",
    "points = np.concatenate([pos[:, :3], neg[:, :3]])\n",
    "sdfs = np.concatenate([pos[:, 3], neg[:, 3]])\n",
    "visualize_pointcloud(points, sdfs)"
   ]
  },
  {
   "cell_type": "code",
   "execution_count": null,
   "metadata": {},
   "outputs": [],
   "source": [
    "import matplotlib.pyplot as plt\n",
    "import numpy as np\n",
    "from lib.data.metainfo import MetaInfo\n",
    "from lib.visualize.open3d import visualize_object, visualize_pointcloud\n",
    "from lib.data.preprocess import PreprocessSDF, PreprocessMesh, PreprocessSiamese\n",
    "\n",
    "\n",
    "data_dir = \"/home/borth/sketch2shape/data/shapenet_chair_1024\"\n",
    "metainfo = MetaInfo(data_dir=data_dir)\n",
    "obj_id = \"5b1744a03be753cf3ccbceb68fb352fd\"\n",
    "sdf = PreprocessSDF(\n",
    "    cloud_samples=500000,\n",
    "    inside_delta_var=1e-01, \n",
    "    data_dir=data_dir,\n",
    "    azims=[0, 30, 60, 90, 120, 150, 180, 210, 240, 270, 300, 330],\n",
    "    elevs=[-90, -60, -30, 0, 30, 60,  90],\n",
    ")\n",
    "sdf.load(obj_id=obj_id)\n",
    "points, sdfs = sdf.sample_surface()\n",
    "points.shape"
   ]
  },
  {
   "cell_type": "code",
   "execution_count": null,
   "metadata": {},
   "outputs": [],
   "source": [
    "import point_cloud_utils as pcu\n",
    "import matplotlib.pyplot as plt\n",
    "import numpy as np\n",
    "from lib.data.metainfo import MetaInfo\n",
    "from lib.visualize.open3d import visualize_object, visualize_pointcloud\n",
    "from lib.data.preprocess import PreprocessSDF, PreprocessMesh, PreprocessSiamese\n",
    "import open3d as o3d\n",
    "\n",
    "\n",
    "data_dir = \"/home/borth/sketch2shape/data/shapenet_chair_1024\"\n",
    "metainfo = MetaInfo(data_dir=data_dir)\n",
    "obj_id = metainfo.obj_ids[4]"
   ]
  },
  {
   "cell_type": "code",
   "execution_count": null,
   "metadata": {},
   "outputs": [],
   "source": [
    "def smooth_watertight_mesh(mesh, resolution: int = 10000, num_iters: int = 1):\n",
    "    # extract verts and faces\n",
    "    verts = np.asarray(mesh.vertices)\n",
    "    faces = np.asarray(mesh.triangles)\n",
    "    # watertight and smooth, note that it's not watertight\n",
    "    vw, fw = pcu.make_mesh_watertight(verts, faces, resolution)\n",
    "    vw = pcu.laplacian_smooth_mesh(\n",
    "        vw, fw, num_iters=num_iters, use_cotan_weights=True\n",
    "    )\n",
    "    # translate back to open3d mesh\n",
    "    verts = o3d.utility.Vector3dVector(vw)\n",
    "    faces = o3d.utility.Vector3iVector(fw) \n",
    "    mesh = o3d.geometry.TriangleMesh(verts, faces)\n",
    "\n",
    "    # normalize mesh\n",
    "    points = np.asarray(mesh.vertices)\n",
    "    translate = (np.min(points, axis=0) + np.max(points, axis=0)) / 2.0\n",
    "    points -= translate\n",
    "    points /= np.linalg.norm(points, axis=-1).max()\n",
    "    mesh.vertices = o3d.utility.Vector3dVector(points)\n",
    "\n",
    "    return mesh\n",
    "\n",
    "mesh = metainfo.load_normalized_mesh(obj_id=obj_id)\n",
    "sw_mesh = smooth_watertight_mesh(mesh, resolution=20000)\n",
    "visualize_object(sw_mesh)"
   ]
  },
  {
   "cell_type": "code",
   "execution_count": null,
   "metadata": {},
   "outputs": [],
   "source": [
    "mesh = metainfo.load_normalized_mesh(obj_id=obj_id)\n",
    "visualize_object(mesh)"
   ]
  },
  {
   "cell_type": "code",
   "execution_count": null,
   "metadata": {},
   "outputs": [],
   "source": [
    "def random_cube_samples(num_samples):\n",
    "    circle = o3d.geometry.TriangleMesh.create_sphere()\n",
    "    point_cloud = circle.sample_points_uniformly(100000)\n",
    "    points = np.asarray(point_cloud.points)\n",
    "    points = points / np.linalg.norm(points, axis=-1)[..., None]\n",
    "    radius = np.random.beta(2, 0.5, points.shape[0])\n",
    "    points = points * radius[..., None]\n",
    "    return points\n",
    "\n",
    "def get_sdf(query, mesh):\n",
    "    query_point = o3d.core.Tensor(query, dtype=o3d.core.Dtype.Float32)\n",
    "    scene = o3d.t.geometry.RaycastingScene()\n",
    "    _mesh = o3d.t.geometry.TriangleMesh.from_legacy(mesh)\n",
    "    _ = scene.add_triangles(_mesh)\n",
    "    return scene.compute_signed_distance(query_point).numpy()\n",
    "\n",
    "query = random_cube_samples(100000)  # sample points in the unit cube\n",
    "sdf = get_sdf(query, mesh)  # get the sdf values from the points w.r.t mesh\n",
    "mask = (sdf < 0)  # only show the points inside the surface\n",
    "visualize_pointcloud(query[mask], sdf[mask])  # visualize"
   ]
  },
  {
   "cell_type": "code",
   "execution_count": null,
   "metadata": {},
   "outputs": [],
   "source": [
    "query = random_cube_samples(500000)  # sample points in the unit cube\n",
    "sdf = get_sdf(query, sw_mesh)  # get the sdf values from the points w.r.t mesh\n",
    "mask = (sdf < 0)  # only show the points inside the surface\n",
    "visualize_pointcloud(query[mask], sdf[mask])  # visualize"
   ]
  },
  {
   "cell_type": "code",
   "execution_count": null,
   "metadata": {},
   "outputs": [],
   "source": [
    "scene = o3d.t.geometry.RaycastingScene()\n",
    "_mesh = o3d.t.geometry.TriangleMesh.from_legacy(mesh)  # NOTE add here the mesh\n",
    "_ = scene.add_triangles(_mesh)\n",
    "\n",
    "min_bound = _mesh.vertex.positions.min(0).numpy()\n",
    "max_bound = _mesh.vertex.positions.max(0).numpy()\n",
    "\n",
    "N = 256\n",
    "query_points = np.random.uniform(low=min_bound, high=max_bound,\n",
    "                                 size=[N, 3]).astype(np.float32)\n",
    "\n",
    "# Compute the signed distance for N random points\n",
    "signed_distance = scene.compute_signed_distance(query_points)\n",
    "xyz_range = np.linspace(min_bound, max_bound, num=32)\n",
    "\n",
    "# query_points is a [32,32,32,3] array ..\n",
    "query_points = np.stack(np.meshgrid(*xyz_range.T), axis=-1).astype(np.float32)\n",
    "\n",
    "# signed distance is a [32,32,32] array\n",
    "signed_distance = scene.compute_signed_distance(query_points)\n",
    "# signed_distance = signed_distance < 0\n",
    "\n",
    "# We can visualize a slice of the distance field directly with matplotlib\n",
    "plt.imshow(signed_distance.numpy()[10, :, :])  # NOTE show slices"
   ]
  },
  {
   "cell_type": "code",
   "execution_count": null,
   "metadata": {},
   "outputs": [],
   "source": []
  }
 ],
 "metadata": {
  "kernelspec": {
   "display_name": "sketch2shape",
   "language": "python",
   "name": "python3"
  },
  "language_info": {
   "codemirror_mode": {
    "name": "ipython",
    "version": 3
   },
   "file_extension": ".py",
   "mimetype": "text/x-python",
   "name": "python",
   "nbconvert_exporter": "python",
   "pygments_lexer": "ipython3",
   "version": "3.11.7"
  }
 },
 "nbformat": 4,
 "nbformat_minor": 2
}
