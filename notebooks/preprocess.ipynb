{
 "cells": [
  {
   "cell_type": "code",
   "execution_count": null,
   "metadata": {},
   "outputs": [],
   "source": [
    "%load_ext autoreload\n",
    "%autoreload 2"
   ]
  },
  {
   "cell_type": "markdown",
   "metadata": {},
   "source": [
    "# Open3D PreProcessing"
   ]
  },
  {
   "cell_type": "code",
   "execution_count": null,
   "metadata": {},
   "outputs": [],
   "source": [
    "from lib.data.metainfo import MetaInfo\n",
    "from lib.visualize.open3d import (\n",
    "    visualize_object,\n",
    "    visualize_pointcloud,\n",
    "    visualize_sdf_slice,\n",
    ")\n",
    "from lib.visualize.image import image_grid\n",
    "from lib.data.preprocess import PreprocessSDF, PreprocessMesh, PreprocessSiamese\n",
    "\n",
    "\n",
    "data_dir = \"/home/borth/sketch2shape/data/shapenet_chair_16\"\n",
    "metainfo = MetaInfo(data_dir=data_dir)\n",
    "obj_id = metainfo.obj_ids[0]"
   ]
  },
  {
   "cell_type": "markdown",
   "metadata": {},
   "source": [
    "## Load And Normalize"
   ]
  },
  {
   "cell_type": "code",
   "execution_count": null,
   "metadata": {},
   "outputs": [],
   "source": [
    "# watertight + laplacian smoothing\n",
    "mesh = PreprocessMesh(\n",
    "    data_dir=data_dir,\n",
    "    laplacian_num_iters=1,\n",
    "    resolution=30000,\n",
    "    smoothing=True,\n",
    ")\n",
    "normalized_mesh = mesh.preprocess(obj_id)\n",
    "\n",
    "# raw mesh\n",
    "# mesh = PreprocessMesh(data_dir=data_dir, laplacian_num_iters=2, resolution=20000)\n",
    "# normalized_mesh = mesh.normalize_mesh(metainfo.load_mesh(obj_id))\n",
    "\n",
    "metainfo.save_normalized_mesh(obj_id=obj_id, mesh=normalized_mesh)\n",
    "visualize_object(normalized_mesh)"
   ]
  },
  {
   "cell_type": "markdown",
   "metadata": {},
   "source": [
    "## Sphere Tracing and Normals Map"
   ]
  },
  {
   "cell_type": "code",
   "execution_count": null,
   "metadata": {},
   "outputs": [],
   "source": [
    "azims = [0, 20, 40]\n",
    "elevs = [-50, -30, -10, 10, 30]\n",
    "print(len(azims) * len(elevs))\n",
    "siamese = PreprocessSiamese(\n",
    "    data_dir=data_dir,\n",
    "    azims=azims,\n",
    "    elevs=elevs,\n",
    "    width=256,\n",
    "    height=256,\n",
    "    focal=512,\n",
    "    t_lower=100,\n",
    "    t_upper=150,\n",
    "    aperture_size=3,\n",
    "    l2_gradient=True,\n",
    "    # width=64,\n",
    "    # 0height=64,\n",
    "    # focal=128,\n",
    ")\n",
    "normals, sketches = siamese.preprocess(obj_id=obj_id)"
   ]
  },
  {
   "cell_type": "code",
   "execution_count": null,
   "metadata": {},
   "outputs": [],
   "source": [
    "_ = image_grid(normals, rows=len(azims), cols=len(elevs))"
   ]
  },
  {
   "cell_type": "code",
   "execution_count": null,
   "metadata": {},
   "outputs": [],
   "source": [
    "_ = image_grid(sketches, rows=len(azims), cols=len(elevs))"
   ]
  },
  {
   "cell_type": "markdown",
   "metadata": {},
   "source": [
    "# Sample SDF "
   ]
  },
  {
   "cell_type": "code",
   "execution_count": null,
   "metadata": {},
   "outputs": [],
   "source": [
    "preprocess_sdf = PreprocessSDF(data_dir=data_dir)\n",
    "preprocess_sdf.load(obj_id=obj_id)\n",
    "points, sdfs = preprocess_sdf.sample_near_surface(100000, scale=5e-02)\n",
    "visualize_pointcloud(points, sdfs)"
   ]
  },
  {
   "cell_type": "code",
   "execution_count": null,
   "metadata": {},
   "outputs": [],
   "source": [
    "points, sdfs = preprocess_sdf.sample_near_surface(100000, scale=5e-03)\n",
    "visualize_pointcloud(points, sdfs)"
   ]
  },
  {
   "cell_type": "code",
   "execution_count": null,
   "metadata": {},
   "outputs": [],
   "source": [
    "points, sdfs = preprocess_sdf.sample_unit_ball(100000)\n",
    "mask = sdfs < 0\n",
    "visualize_pointcloud(points[mask], sdfs[mask])"
   ]
  },
  {
   "cell_type": "code",
   "execution_count": null,
   "metadata": {},
   "outputs": [],
   "source": [
    "preprocess_sdf = PreprocessSDF(data_dir=data_dir, unit_samples=50000)\n",
    "sdfs, surface = preprocess_sdf.preprocess(obj_id=obj_id)\n",
    "visualize_pointcloud(sdfs[:, :3], sdfs[:, 3])"
   ]
  },
  {
   "cell_type": "code",
   "execution_count": null,
   "metadata": {},
   "outputs": [],
   "source": [
    "_ = visualize_sdf_slice(normalized_mesh, dim=\"x\", mask=True)"
   ]
  },
  {
   "cell_type": "code",
   "execution_count": null,
   "metadata": {},
   "outputs": [],
   "source": [
    "_ = visualize_sdf_slice(normalized_mesh, dim=\"y\", mask=True)"
   ]
  },
  {
   "cell_type": "code",
   "execution_count": null,
   "metadata": {},
   "outputs": [],
   "source": [
    "_ = visualize_sdf_slice(normalized_mesh, dim=\"y\", mask=True)"
   ]
  }
 ],
 "metadata": {
  "kernelspec": {
   "display_name": "sketch2shape",
   "language": "python",
   "name": "python3"
  },
  "language_info": {
   "codemirror_mode": {
    "name": "ipython",
    "version": 3
   },
   "file_extension": ".py",
   "mimetype": "text/x-python",
   "name": "python",
   "nbconvert_exporter": "python",
   "pygments_lexer": "ipython3",
   "version": "3.11.7"
  }
 },
 "nbformat": 4,
 "nbformat_minor": 2
}
