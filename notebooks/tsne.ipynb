{
 "cells": [
  {
   "cell_type": "code",
   "execution_count": 1,
   "metadata": {},
   "outputs": [
    {
     "data": {
      "text/plain": [
       "(4, 2)"
      ]
     },
     "execution_count": 1,
     "metadata": {},
     "output_type": "execute_result"
    }
   ],
   "source": [
    "import numpy as np\n",
    "from sklearn.manifold import TSNE\n",
    "X = np.array([[0, 0, 0], [0, 1, 1], [1, 0, 1], [1, 1, 1]])\n",
    "X_embedded = TSNE(n_components=2, learning_rate='auto',\n",
    "                  init='random', perplexity=3).fit_transform(X)\n",
    "X_embedded.shape"
   ]
  },
  {
   "cell_type": "code",
   "execution_count": 10,
   "metadata": {},
   "outputs": [
    {
     "data": {
      "image/png": "[encoded data removed]",
      "text/plain": [
       "<Figure size 640x480 with 1 Axes>"
      ]
     },
     "metadata": {},
     "output_type": "display_data"
    }
   ],
   "source": [
    "import numpy as np\n",
    "from sklearn.manifold import TSNE\n",
    "import matplotlib.pyplot as plt\n",
    "\n",
    "# Define your data\n",
    "X = np.random.randn(256, 128)\n",
    "\n",
    "# Apply t-SNE\n",
    "X_embedded = TSNE(n_components=2, learning_rate='auto',\n",
    "                  init='random').fit_transform(X)\n",
    "\n",
    "# # Visualize the t-SNE embeddings\n",
    "plt.scatter(X_embedded[:, 0], X_embedded[:, 1])\n",
    "\n",
    "# Show the plot\n",
    "plt.title('t-SNE Visualization')\n",
    "plt.show()\n"
   ]
  },
  {
   "cell_type": "code",
   "execution_count": 13,
   "metadata": {},
   "outputs": [
    {
     "data": {
      "application/vnd.plotly.v1+json": {
       "config": {
        "plotlyServerURL": "https://plot.ly"
       },
       "data": [
        {
         "hovertemplate": "X0=%{x}<br>X1=%{y}<br>Class=%{marker.color}<extra></extra>",
         "legendgroup": "",
         "marker": {
          "color": [
           7,
           2,
           2,
           3,
           15,
           12,
           5,
           6,
           3,
           11,
           8,
           9,
           9,
           0,
           11,
           13,
           5,
           7,
           4,
           9,
           0,
           2,
           1,
           1,
           8,
           8,
           8,
           1,
           6,
           2,
           15,
           12,
           10,
           1,
           11,
           12,
           1,
           9,
           4,
           10,
           4,
           6,
           12,
           7,
           8,
           1,
           8,
           2,
           11,
           8,
           6,
           10,
           0,
           2,
           2,
           12,
           15,
           7,
           0,
           14,
           12,
           2,
           6,
           8,
           2,
           1,
           7,
           9,
           10,
           11,
           12,
           10,
           0,
           12,
           3,
           10,
           14,
           5,
           7,
           13,
           2,
           12,
           13,
           1,
           1,
           15,
           15,
           15,
           0,
           11,
           9,
           1,
           6,
           7,
           5,
           12,
           11,
           1,
           6,
           8,
           9,
           2,
           13,
           10,
           0,
           3,
           5,
           2,
           4,
           13,
           6,
           14,
           0,
           5,
           4,
           11,
           11,
           9,
           2,
           13,
           4,
           8,
           0,
           15,
           15,
           14,
           4,
           10,
           1,
           3,
           5,
           10,
           4,
           9,
           6,
           14,
           9,
           2,
           0,
           13,
           12,
           14,
           12,
           8,
           3,
           5,
           11,
           0,
           8,
           9,
           6,
           8,
           9,
           5,
           1,
           10,
           10,
           1,
           8,
           4,
           4,
           9,
           6,
           15,
           11,
           0,
           3,
           2,
           8,
           14,
           10,
           7,
           14,
           2,
           15,
           13,
           9,
           8,
           7,
           12,
           7,
           6,
           13,
           3,
           11,
           3,
           12,
           2,
           14,
           12,
           0,
           14,
           0,
           12,
           15,
           6,
           0,
           12,
           6,
           4,
           15,
           8,
           11,
           14,
           1,
           12,
           5,
           4,
           4,
           1,
           15,
           2,
           10,
           2,
           12,
           0,
           7,
           9,
           13,
           4,
           6,
           15,
           12,
           3,
           14,
           9,
           15,
           5,
           6,
           2,
           6,
           1,
           3,
           1,
           11,
           13,
           0,
           5,
           2,
           12,
           6,
           14,
           14,
           9,
           0,
           8,
           7,
           8,
           1,
           11,
           0,
           10,
           13,
           9,
           13,
           6
          ],
          "coloraxis": "coloraxis",
          "symbol": "circle"
         },
         "mode": "markers",
         "name": "",
         "orientation": "v",
         "showlegend": false,
         "type": "scatter",
         "x": [
          2.7700815200805664,
          0.11255192011594772,
          0.7403056025505066,
          -0.15516100823879242,
          0.576212465763092,
          1.060272455215454,
          -0.4972851574420929,
          -0.46964457631111145,
          -0.9000139236450195,
          -0.3199906647205353,
          -0.9987313747406006,
          2.3981642723083496,
          -0.9547090530395508,
          1.914304494857788,
          0.34078145027160645,
          0.6650303602218628,
          -0.07915737479925156,
          -0.3486095368862152,
          1.1181007623672485,
          -0.27973294258117676,
          1.6415319442749023,
          0.17622676491737366,
          -2.42655086517334,
          2.7819926738739014,
          0.48152825236320496,
          3.374940872192383,
          -1.0828105211257935,
          1.6233073472976685,
          -1.5385241508483887,
          0.93039470911026,
          2.4398980140686035,
          -0.5267032980918884,
          0.9783726930618286,
          0.48052796721458435,
          -1.0252989530563354,
          1.082007884979248,
          -0.5017174482345581,
          2.02602219581604,
          3.1259918212890625,
          0.7324201464653015,
          -0.9346140623092651,
          3.046598434448242,
          0.34120649099349976,
          1.1921923160552979,
          -2.8147854804992676,
          1.2153345346450806,
          -0.6225361227989197,
          -0.3728504478931427,
          0.3373722732067108,
          0.372653603553772,
          0.8438621759414673,
          -1.7197543382644653,
          1.2019329071044922,
          -1.9683220386505127,
          1.2435264587402344,
          0.46722546219825745,
          -1.1085195541381836,
          0.6259298324584961,
          1.6714849472045898,
          1.3314812183380127,
          1.5732300281524658,
          -1.4165563583374023,
          -0.25641244649887085,
          0.6827061772346497,
          1.2763676643371582,
          -0.8524113297462463,
          -0.07516592741012573,
          -0.2326594889163971,
          0.05998263508081436,
          -0.5119016766548157,
          2.3285820484161377,
          -1.9750914573669434,
          1.1296002864837646,
          1.6413054466247559,
          0.09876350313425064,
          0.24579784274101257,
          -1.5492364168167114,
          2.1300089359283447,
          0.5798979997634888,
          1.8446316719055176,
          0.6668903827667236,
          -0.0946405678987503,
          1.828765630722046,
          1.2266379594802856,
          -0.4773029386997223,
          0.7012936472892761,
          -2.7492096424102783,
          -2.257514238357544,
          2.019568920135498,
          1.367653727531433,
          1.588230013847351,
          2.2404985427856445,
          -2.496603012084961,
          -0.7928710579872131,
          -1.7710891962051392,
          0.231418639421463,
          0.1453731507062912,
          2.0623362064361572,
          -0.45516470074653625,
          -0.8145560026168823,
          1.602055549621582,
          -2.1882898807525635,
          2.0034003257751465,
          -2.6087639331817627,
          1.3787850141525269,
          -0.08898361027240753,
          0.10866071283817291,
          0.25555041432380676,
          -0.16216623783111572,
          1.308752179145813,
          -0.8854709267616272,
          3.155071496963501,
          -1.0403167009353638,
          3.337895154953003,
          1.3651095628738403,
          1.515516996383667,
          0.5455715656280518,
          1.0175726413726807,
          -0.030761854723095894,
          2.74147367477417,
          -0.776071310043335,
          -0.028923828154802322,
          0.3837168216705322,
          -1.4292587041854858,
          0.6193801164627075,
          -1.7224041223526,
          -2.130551338195801,
          1.9703994989395142,
          -0.6375784277915955,
          0.15654689073562622,
          2.8983566761016846,
          0.8659983277320862,
          -0.8149191737174988,
          -0.5092876553535461,
          0.2432214617729187,
          -1.3485583066940308,
          0.09931693226099014,
          1.9458156824111938,
          0.017231781035661697,
          1.7898647785186768,
          2.1282904148101807,
          -0.09459654986858368,
          1.9870966672897339,
          2.9031877517700195,
          0.36895862221717834,
          1.1913999319076538,
          0.3180307447910309,
          1.9090536832809448,
          -2.350137948989868,
          -1.3509044647216797,
          1.1242040395736694,
          1.5136312246322632,
          0.28483372926712036,
          0.8247177004814148,
          -1.4528621435165405,
          -1.3339457511901855,
          -0.17498038709163666,
          -0.20323829352855682,
          1.996212124824524,
          -0.39211833477020264,
          -0.965195894241333,
          -0.5142585635185242,
          -0.2852410674095154,
          -2.424431324005127,
          1.095110535621643,
          0.12525317072868347,
          -0.8489662408828735,
          -0.9611604809761047,
          -0.8438736200332642,
          -0.35563406348228455,
          1.2964454889297485,
          0.608921229839325,
          0.2990194261074066,
          -2.368936777114868,
          0.45857447385787964,
          0.6229689121246338,
          -2.03924298286438,
          2.644643783569336,
          -0.9959717988967896,
          -0.6555107235908508,
          2.446319818496704,
          -1.4721144437789917,
          -1.705883264541626,
          -1.2666269540786743,
          -0.4890894293785095,
          -2.917433500289917,
          -1.0782902240753174,
          -0.4985796809196472,
          0.11548925936222076,
          0.8463256359100342,
          -0.39104318618774414,
          0.8457871675491333,
          1.4733761548995972,
          2.1226606369018555,
          -1.045960783958435,
          0.9087926149368286,
          0.8250434398651123,
          -1.993888020515442,
          -0.877872109413147,
          -0.692512035369873,
          0.542879045009613,
          0.5283666849136353,
          -1.3607726097106934,
          1.9640867710113525,
          2.3738436698913574,
          1.1561906337738037,
          1.3108445405960083,
          0.6466373205184937,
          0.19811207056045532,
          1.3813598155975342,
          -1.5570406913757324,
          -0.705044686794281,
          0.4236781895160675,
          -1.1537892818450928,
          -0.46834796667099,
          -0.17979782819747925,
          0.014752066694200039,
          -1.9208409786224365,
          -0.22792279720306396,
          0.8470587134361267,
          -0.9944949746131897,
          2.377293348312378,
          -1.1742900609970093,
          -2.4180610179901123,
          -0.535717248916626,
          2.9315543174743652,
          -1.3484832048416138,
          -0.48719802498817444,
          0.3925314247608185,
          0.6480911374092102,
          -0.07255468517541885,
          -1.951567530632019,
          1.3539092540740967,
          -0.6131526231765747,
          -0.7473582625389099,
          1.3697062730789185,
          -2.2979252338409424,
          -0.061312101781368256,
          0.44678086042404175,
          -1.3812482357025146,
          1.2513039112091064,
          0.2787298858165741,
          -2.951171875,
          -1.3094518184661865,
          0.19121454656124115,
          -0.41793954372406006,
          2.7650084495544434,
          -1.6095362901687622,
          2.586536169052124,
          1.6397345066070557,
          1.176961064338684,
          -1.555855393409729,
          -0.06718470901250839,
          1.0800964832305908,
          0.06977398693561554,
          -1.4680815935134888
         ],
         "xaxis": "x",
         "y": [
          -2.179058790206909,
          0.014592890627682209,
          -2.1719300746917725,
          1.3112742900848389,
          -1.4241820573806763,
          0.030406590551137924,
          1.7275493144989014,
          1.5556447505950928,
          -3.4240329265594482,
          0.097505122423172,
          0.35059985518455505,
          -0.9768778681755066,
          -2.820234775543213,
          -2.5735673904418945,
          -0.34146320819854736,
          0.18785348534584045,
          -0.8771958947181702,
          -2.210392951965332,
          -0.23916679620742798,
          0.6688953042030334,
          1.0202465057373047,
          2.9586360454559326,
          -0.6647830009460449,
          1.482277750968933,
          -0.7450655102729797,
          -0.6532958149909973,
          -2.6009521484375,
          -1.5731589794158936,
          0.9658396244049072,
          1.1149388551712036,
          -1.0415003299713135,
          -1.6183124780654907,
          0.6768630146980286,
          -1.5852733850479126,
          -1.1392443180084229,
          0.14897125959396362,
          2.5711357593536377,
          0.2792108654975891,
          -0.5096911191940308,
          -0.06188575550913811,
          -0.4181171953678131,
          0.8660762310028076,
          -0.42057958245277405,
          -0.7192976474761963,
          -1.31689453125,
          2.1416244506835938,
          -0.6792237758636475,
          -0.344724178314209,
          -1.9853347539901733,
          0.28861889243125916,
          -1.3385694026947021,
          2.0313377380371094,
          -1.716685175895691,
          -1.2183630466461182,
          -0.787093460559845,
          -0.40669697523117065,
          1.60685396194458,
          0.520024299621582,
          0.017650330439209938,
          2.0897793769836426,
          -1.1599000692367554,
          0.4287329614162445,
          -1.748885154724121,
          -1.5380252599716187,
          -3.12115478515625,
          0.05541921779513359,
          -1.9418851137161255,
          -1.6055809259414673,
          -0.7178646922111511,
          -1.0168006420135498,
          -0.7080131769180298,
          0.37321990728378296,
          -1.7915582656860352,
          0.6754579544067383,
          -0.5160506367683411,
          -0.9943343997001648,
          -1.6080479621887207,
          1.386680245399475,
          -1.822381854057312,
          0.39899349212646484,
          -1.173134207725525,
          -0.12944869697093964,
          -2.7180092334747314,
          0.054696328938007355,
          1.6719691753387451,
          -2.8903555870056152,
          0.4470655918121338,
          -1.508055329322815,
          0.43435409665107727,
          0.011986907571554184,
          -0.733997106552124,
          1.3523069620132446,
          1.1987144947052002,
          -0.8865837454795837,
          -1.263486623764038,
          -0.7234798669815063,
          0.2558300793170929,
          -0.5506393909454346,
          -2.48051118850708,
          -2.074578046798706,
          -0.723506510257721,
          0.09012031555175781,
          -1.288655161857605,
          0.2685497999191284,
          1.5432387590408325,
          1.1480159759521484,
          1.5022339820861816,
          -1.6764971017837524,
          -1.2547069787979126,
          -2.5939691066741943,
          -2.296072483062744,
          0.1799069344997406,
          -0.3177110552787781,
          -1.0963901281356812,
          -0.27141091227531433,
          -1.9707224369049072,
          2.2959487438201904,
          1.219307780265808,
          -3.298590660095215,
          0.43299663066864014,
          0.20963510870933533,
          0.4094330370426178,
          1.032693862915039,
          -1.7517313957214355,
          0.5427795648574829,
          -0.383771151304245,
          -0.6255573630332947,
          2.0397188663482666,
          0.5004629492759705,
          -2.723900556564331,
          -2.4520606994628906,
          -0.6348696947097778,
          0.03409312665462494,
          -0.2481207251548767,
          -0.16164925694465637,
          0.5802082419395447,
          -0.6451670527458191,
          -0.004284488968551159,
          1.7643588781356812,
          -1.0121515989303589,
          -0.7478154301643372,
          -2.147968292236328,
          1.1025327444076538,
          -1.345885992050171,
          -2.0410115718841553,
          0.09404193609952927,
          0.2873772382736206,
          -2.576876640319824,
          -2.188199996948242,
          -0.3987506926059723,
          -1.2270077466964722,
          2.3287394046783447,
          -2.8030776977539062,
          -3.015840530395508,
          -2.907160758972168,
          -1.372609257698059,
          -0.6480673551559448,
          -1.5137070417404175,
          -0.5063669681549072,
          -3.0598716735839844,
          1.6542448997497559,
          2.6263420581817627,
          0.8723078966140747,
          -0.10467537492513657,
          -1.3081691265106201,
          0.07324834167957306,
          -0.37196722626686096,
          -1.6203490495681763,
          -0.6436864137649536,
          0.3607300817966461,
          -3.0213918685913086,
          -0.6488221287727356,
          -1.1278005838394165,
          1.3579246997833252,
          1.2387075424194336,
          0.9792894124984741,
          0.0785594955086708,
          0.4765116572380066,
          -1.479977011680603,
          0.5412359833717346,
          0.6915242075920105,
          1.5217441320419312,
          -2.5433499813079834,
          -0.7312428951263428,
          0.8929222822189331,
          -0.1767929047346115,
          -0.35023337602615356,
          -3.2946617603302,
          -0.9940162301063538,
          2.4410815238952637,
          -1.0573047399520874,
          -2.398128032684326,
          1.053066611289978,
          -1.7595396041870117,
          1.249831199645996,
          -0.7945277094841003,
          0.8696891665458679,
          -1.1857469081878662,
          -1.0238014459609985,
          -1.686872959136963,
          2.033730983734131,
          1.848796010017395,
          -2.8842997550964355,
          0.41688480973243713,
          -1.9682892560958862,
          0.8962062001228333,
          -1.3999892473220825,
          -0.7335675954818726,
          -0.07219841331243515,
          -0.17505542933940887,
          -1.694063425064087,
          1.6621252298355103,
          0.24065342545509338,
          0.7606762647628784,
          -1.0837937593460083,
          -1.5158051252365112,
          -0.5964017510414124,
          -2.642094850540161,
          -1.03263258934021,
          1.6203936338424683,
          -0.902484655380249,
          -2.1270322799682617,
          0.18714500963687897,
          0.3155178129673004,
          -2.01399564743042,
          0.3106663227081299,
          0.43015778064727783,
          -0.028330005705356598,
          0.043419744819402695,
          -1.1502881050109863,
          1.3283442258834839,
          -2.0579235553741455,
          -0.028461460024118423,
          -1.9401447772979736,
          -0.8475621938705444,
          0.7135331630706787,
          -0.7699177861213684,
          -0.22804385423660278,
          0.7714429497718811,
          0.22754067182540894,
          0.12370788305997849,
          -1.3734387159347534,
          -0.7892835140228271,
          1.8879477977752686,
          -2.624452829360962,
          -2.2724106311798096,
          -1.6415822505950928,
          1.0067628622055054,
          0.023073717951774597,
          -0.3087967038154602,
          -1.1013597249984741,
          0.9426966905593872,
          0.3707866072654724,
          -2.2542965412139893,
          -0.7555288672447205,
          0.4501587748527527
         ],
         "yaxis": "y"
        }
       ],
       "layout": {
        "coloraxis": {
         "colorbar": {
          "title": {
           "text": "Class"
          }
         },
         "colorscale": [
          [
           0,
           "#0d0887"
          ],
          [
           0.1111111111111111,
           "#46039f"
          ],
          [
           0.2222222222222222,
           "#7201a8"
          ],
          [
           0.3333333333333333,
           "#9c179e"
          ],
          [
           0.4444444444444444,
           "#bd3786"
          ],
          [
           0.5555555555555556,
           "#d8576b"
          ],
          [
           0.6666666666666666,
           "#ed7953"
          ],
          [
           0.7777777777777778,
           "#fb9f3a"
          ],
          [
           0.8888888888888888,
           "#fdca26"
          ],
          [
           1,
           "#f0f921"
          ]
         ]
        },
        "height": 600,
        "legend": {
         "tracegroupgap": 0
        },
        "template": {
         "data": {
          "bar": [
           {
            "error_x": {
             "color": "#2a3f5f"
            },
            "error_y": {
             "color": "#2a3f5f"
            },
            "marker": {
             "line": {
              "color": "#E5ECF6",
              "width": 0.5
             },
             "pattern": {
              "fillmode": "overlay",
              "size": 10,
              "solidity": 0.2
             }
            },
            "type": "bar"
           }
          ],
          "barpolar": [
           {
            "marker": {
             "line": {
              "color": "#E5ECF6",
              "width": 0.5
             },
             "pattern": {
              "fillmode": "overlay",
              "size": 10,
              "solidity": 0.2
             }
            },
            "type": "barpolar"
           }
          ],
          "carpet": [
           {
            "aaxis": {
             "endlinecolor": "#2a3f5f",
             "gridcolor": "white",
             "linecolor": "white",
             "minorgridcolor": "white",
             "startlinecolor": "#2a3f5f"
            },
            "baxis": {
             "endlinecolor": "#2a3f5f",
             "gridcolor": "white",
             "linecolor": "white",
             "minorgridcolor": "white",
             "startlinecolor": "#2a3f5f"
            },
            "type": "carpet"
           }
          ],
          "choropleth": [
           {
            "colorbar": {
             "outlinewidth": 0,
             "ticks": ""
            },
            "type": "choropleth"
           }
          ],
          "contour": [
           {
            "colorbar": {
             "outlinewidth": 0,
             "ticks": ""
            },
            "colorscale": [
             [
              0,
              "#0d0887"
             ],
             [
              0.1111111111111111,
              "#46039f"
             ],
             [
              0.2222222222222222,
              "#7201a8"
             ],
             [
              0.3333333333333333,
              "#9c179e"
             ],
             [
              0.4444444444444444,
              "#bd3786"
             ],
             [
              0.5555555555555556,
              "#d8576b"
             ],
             [
              0.6666666666666666,
              "#ed7953"
             ],
             [
              0.7777777777777778,
              "#fb9f3a"
             ],
             [
              0.8888888888888888,
              "#fdca26"
             ],
             [
              1,
              "#f0f921"
             ]
            ],
            "type": "contour"
           }
          ],
          "contourcarpet": [
           {
            "colorbar": {
             "outlinewidth": 0,
             "ticks": ""
            },
            "type": "contourcarpet"
           }
          ],
          "heatmap": [
           {
            "colorbar": {
             "outlinewidth": 0,
             "ticks": ""
            },
            "colorscale": [
             [
              0,
              "#0d0887"
             ],
             [
              0.1111111111111111,
              "#46039f"
             ],
             [
              0.2222222222222222,
              "#7201a8"
             ],
             [
              0.3333333333333333,
              "#9c179e"
             ],
             [
              0.4444444444444444,
              "#bd3786"
             ],
             [
              0.5555555555555556,
              "#d8576b"
             ],
             [
              0.6666666666666666,
              "#ed7953"
             ],
             [
              0.7777777777777778,
              "#fb9f3a"
             ],
             [
              0.8888888888888888,
              "#fdca26"
             ],
             [
              1,
              "#f0f921"
             ]
            ],
            "type": "heatmap"
           }
          ],
          "heatmapgl": [
           {
            "colorbar": {
             "outlinewidth": 0,
             "ticks": ""
            },
            "colorscale": [
             [
              0,
              "#0d0887"
             ],
             [
              0.1111111111111111,
              "#46039f"
             ],
             [
              0.2222222222222222,
              "#7201a8"
             ],
             [
              0.3333333333333333,
              "#9c179e"
             ],
             [
              0.4444444444444444,
              "#bd3786"
             ],
             [
              0.5555555555555556,
              "#d8576b"
             ],
             [
              0.6666666666666666,
              "#ed7953"
             ],
             [
              0.7777777777777778,
              "#fb9f3a"
             ],
             [
              0.8888888888888888,
              "#fdca26"
             ],
             [
              1,
              "#f0f921"
             ]
            ],
            "type": "heatmapgl"
           }
          ],
          "histogram": [
           {
            "marker": {
             "pattern": {
              "fillmode": "overlay",
              "size": 10,
              "solidity": 0.2
             }
            },
            "type": "histogram"
           }
          ],
          "histogram2d": [
           {
            "colorbar": {
             "outlinewidth": 0,
             "ticks": ""
            },
            "colorscale": [
             [
              0,
              "#0d0887"
             ],
             [
              0.1111111111111111,
              "#46039f"
             ],
             [
              0.2222222222222222,
              "#7201a8"
             ],
             [
              0.3333333333333333,
              "#9c179e"
             ],
             [
              0.4444444444444444,
              "#bd3786"
             ],
             [
              0.5555555555555556,
              "#d8576b"
             ],
             [
              0.6666666666666666,
              "#ed7953"
             ],
             [
              0.7777777777777778,
              "#fb9f3a"
             ],
             [
              0.8888888888888888,
              "#fdca26"
             ],
             [
              1,
              "#f0f921"
             ]
            ],
            "type": "histogram2d"
           }
          ],
          "histogram2dcontour": [
           {
            "colorbar": {
             "outlinewidth": 0,
             "ticks": ""
            },
            "colorscale": [
             [
              0,
              "#0d0887"
             ],
             [
              0.1111111111111111,
              "#46039f"
             ],
             [
              0.2222222222222222,
              "#7201a8"
             ],
             [
              0.3333333333333333,
              "#9c179e"
             ],
             [
              0.4444444444444444,
              "#bd3786"
             ],
             [
              0.5555555555555556,
              "#d8576b"
             ],
             [
              0.6666666666666666,
              "#ed7953"
             ],
             [
              0.7777777777777778,
              "#fb9f3a"
             ],
             [
              0.8888888888888888,
              "#fdca26"
             ],
             [
              1,
              "#f0f921"
             ]
            ],
            "type": "histogram2dcontour"
           }
          ],
          "mesh3d": [
           {
            "colorbar": {
             "outlinewidth": 0,
             "ticks": ""
            },
            "type": "mesh3d"
           }
          ],
          "parcoords": [
           {
            "line": {
             "colorbar": {
              "outlinewidth": 0,
              "ticks": ""
             }
            },
            "type": "parcoords"
           }
          ],
          "pie": [
           {
            "automargin": true,
            "type": "pie"
           }
          ],
          "scatter": [
           {
            "fillpattern": {
             "fillmode": "overlay",
             "size": 10,
             "solidity": 0.2
            },
            "type": "scatter"
           }
          ],
          "scatter3d": [
           {
            "line": {
             "colorbar": {
              "outlinewidth": 0,
              "ticks": ""
             }
            },
            "marker": {
             "colorbar": {
              "outlinewidth": 0,
              "ticks": ""
             }
            },
            "type": "scatter3d"
           }
          ],
          "scattercarpet": [
           {
            "marker": {
             "colorbar": {
              "outlinewidth": 0,
              "ticks": ""
             }
            },
            "type": "scattercarpet"
           }
          ],
          "scattergeo": [
           {
            "marker": {
             "colorbar": {
              "outlinewidth": 0,
              "ticks": ""
             }
            },
            "type": "scattergeo"
           }
          ],
          "scattergl": [
           {
            "marker": {
             "colorbar": {
              "outlinewidth": 0,
              "ticks": ""
             }
            },
            "type": "scattergl"
           }
          ],
          "scattermapbox": [
           {
            "marker": {
             "colorbar": {
              "outlinewidth": 0,
              "ticks": ""
             }
            },
            "type": "scattermapbox"
           }
          ],
          "scatterpolar": [
           {
            "marker": {
             "colorbar": {
              "outlinewidth": 0,
              "ticks": ""
             }
            },
            "type": "scatterpolar"
           }
          ],
          "scatterpolargl": [
           {
            "marker": {
             "colorbar": {
              "outlinewidth": 0,
              "ticks": ""
             }
            },
            "type": "scatterpolargl"
           }
          ],
          "scatterternary": [
           {
            "marker": {
             "colorbar": {
              "outlinewidth": 0,
              "ticks": ""
             }
            },
            "type": "scatterternary"
           }
          ],
          "surface": [
           {
            "colorbar": {
             "outlinewidth": 0,
             "ticks": ""
            },
            "colorscale": [
             [
              0,
              "#0d0887"
             ],
             [
              0.1111111111111111,
              "#46039f"
             ],
             [
              0.2222222222222222,
              "#7201a8"
             ],
             [
              0.3333333333333333,
              "#9c179e"
             ],
             [
              0.4444444444444444,
              "#bd3786"
             ],
             [
              0.5555555555555556,
              "#d8576b"
             ],
             [
              0.6666666666666666,
              "#ed7953"
             ],
             [
              0.7777777777777778,
              "#fb9f3a"
             ],
             [
              0.8888888888888888,
              "#fdca26"
             ],
             [
              1,
              "#f0f921"
             ]
            ],
            "type": "surface"
           }
          ],
          "table": [
           {
            "cells": {
             "fill": {
              "color": "#EBF0F8"
             },
             "line": {
              "color": "white"
             }
            },
            "header": {
             "fill": {
              "color": "#C8D4E3"
             },
             "line": {
              "color": "white"
             }
            },
            "type": "table"
           }
          ]
         },
         "layout": {
          "annotationdefaults": {
           "arrowcolor": "#2a3f5f",
           "arrowhead": 0,
           "arrowwidth": 1
          },
          "autotypenumbers": "strict",
          "coloraxis": {
           "colorbar": {
            "outlinewidth": 0,
            "ticks": ""
           }
          },
          "colorscale": {
           "diverging": [
            [
             0,
             "#8e0152"
            ],
            [
             0.1,
             "#c51b7d"
            ],
            [
             0.2,
             "#de77ae"
            ],
            [
             0.3,
             "#f1b6da"
            ],
            [
             0.4,
             "#fde0ef"
            ],
            [
             0.5,
             "#f7f7f7"
            ],
            [
             0.6,
             "#e6f5d0"
            ],
            [
             0.7,
             "#b8e186"
            ],
            [
             0.8,
             "#7fbc41"
            ],
            [
             0.9,
             "#4d9221"
            ],
            [
             1,
             "#276419"
            ]
           ],
           "sequential": [
            [
             0,
             "#0d0887"
            ],
            [
             0.1111111111111111,
             "#46039f"
            ],
            [
             0.2222222222222222,
             "#7201a8"
            ],
            [
             0.3333333333333333,
             "#9c179e"
            ],
            [
             0.4444444444444444,
             "#bd3786"
            ],
            [
             0.5555555555555556,
             "#d8576b"
            ],
            [
             0.6666666666666666,
             "#ed7953"
            ],
            [
             0.7777777777777778,
             "#fb9f3a"
            ],
            [
             0.8888888888888888,
             "#fdca26"
            ],
            [
             1,
             "#f0f921"
            ]
           ],
           "sequentialminus": [
            [
             0,
             "#0d0887"
            ],
            [
             0.1111111111111111,
             "#46039f"
            ],
            [
             0.2222222222222222,
             "#7201a8"
            ],
            [
             0.3333333333333333,
             "#9c179e"
            ],
            [
             0.4444444444444444,
             "#bd3786"
            ],
            [
             0.5555555555555556,
             "#d8576b"
            ],
            [
             0.6666666666666666,
             "#ed7953"
            ],
            [
             0.7777777777777778,
             "#fb9f3a"
            ],
            [
             0.8888888888888888,
             "#fdca26"
            ],
            [
             1,
             "#f0f921"
            ]
           ]
          },
          "colorway": [
           "#636efa",
           "#EF553B",
           "#00cc96",
           "#ab63fa",
           "#FFA15A",
           "#19d3f3",
           "#FF6692",
           "#B6E880",
           "#FF97FF",
           "#FECB52"
          ],
          "font": {
           "color": "#2a3f5f"
          },
          "geo": {
           "bgcolor": "white",
           "lakecolor": "white",
           "landcolor": "#E5ECF6",
           "showlakes": true,
           "showland": true,
           "subunitcolor": "white"
          },
          "hoverlabel": {
           "align": "left"
          },
          "hovermode": "closest",
          "mapbox": {
           "style": "light"
          },
          "paper_bgcolor": "white",
          "plot_bgcolor": "#E5ECF6",
          "polar": {
           "angularaxis": {
            "gridcolor": "white",
            "linecolor": "white",
            "ticks": ""
           },
           "bgcolor": "#E5ECF6",
           "radialaxis": {
            "gridcolor": "white",
            "linecolor": "white",
            "ticks": ""
           }
          },
          "scene": {
           "xaxis": {
            "backgroundcolor": "#E5ECF6",
            "gridcolor": "white",
            "gridwidth": 2,
            "linecolor": "white",
            "showbackground": true,
            "ticks": "",
            "zerolinecolor": "white"
           },
           "yaxis": {
            "backgroundcolor": "#E5ECF6",
            "gridcolor": "white",
            "gridwidth": 2,
            "linecolor": "white",
            "showbackground": true,
            "ticks": "",
            "zerolinecolor": "white"
           },
           "zaxis": {
            "backgroundcolor": "#E5ECF6",
            "gridcolor": "white",
            "gridwidth": 2,
            "linecolor": "white",
            "showbackground": true,
            "ticks": "",
            "zerolinecolor": "white"
           }
          },
          "shapedefaults": {
           "line": {
            "color": "#2a3f5f"
           }
          },
          "ternary": {
           "aaxis": {
            "gridcolor": "white",
            "linecolor": "white",
            "ticks": ""
           },
           "baxis": {
            "gridcolor": "white",
            "linecolor": "white",
            "ticks": ""
           },
           "bgcolor": "#E5ECF6",
           "caxis": {
            "gridcolor": "white",
            "linecolor": "white",
            "ticks": ""
           }
          },
          "title": {
           "x": 0.05
          },
          "xaxis": {
           "automargin": true,
           "gridcolor": "white",
           "linecolor": "white",
           "ticks": "",
           "title": {
            "standoff": 15
           },
           "zerolinecolor": "white",
           "zerolinewidth": 2
          },
          "yaxis": {
           "automargin": true,
           "gridcolor": "white",
           "linecolor": "white",
           "ticks": "",
           "title": {
            "standoff": 15
           },
           "zerolinecolor": "white",
           "zerolinewidth": 2
          }
         }
        },
        "title": {
         "text": "t-SNE Visualization"
        },
        "width": 600,
        "xaxis": {
         "anchor": "y",
         "domain": [
          0,
          1
         ],
         "title": {
          "text": "X0"
         }
        },
        "yaxis": {
         "anchor": "x",
         "domain": [
          0,
          1
         ],
         "title": {
          "text": "X1"
         }
        }
       }
      },
      "text/html": [
       "<div>                            <div id=\"3c990867-9d75-4a54-8c62-79f80fb2d109\" class=\"plotly-graph-div\" style=\"height:600px; width:600px;\"></div>            <script type=\"text/javascript\">                require([\"plotly\"], function(Plotly) {                    window.PLOTLYENV=window.PLOTLYENV || {};                                    if (document.getElementById(\"3c990867-9d75-4a54-8c62-79f80fb2d109\")) {                    Plotly.newPlot(                        \"3c990867-9d75-4a54-8c62-79f80fb2d109\",                        [{\"hovertemplate\":\"X0=%{x}\\u003cbr\\u003eX1=%{y}\\u003cbr\\u003eClass=%{marker.color}\\u003cextra\\u003e\\u003c\\u002fextra\\u003e\",\"legendgroup\":\"\",\"marker\":{\"color\":[7,2,2,3,15,12,5,6,3,11,8,9,9,0,11,13,5,7,4,9,0,2,1,1,8,8,8,1,6,2,15,12,10,1,11,12,1,9,4,10,4,6,12,7,8,1,8,2,11,8,6,10,0,2,2,12,15,7,0,14,12,2,6,8,2,1,7,9,10,11,12,10,0,12,3,10,14,5,7,13,2,12,13,1,1,15,15,15,0,11,9,1,6,7,5,12,11,1,6,8,9,2,13,10,0,3,5,2,4,13,6,14,0,5,4,11,11,9,2,13,4,8,0,15,15,14,4,10,1,3,5,10,4,9,6,14,9,2,0,13,12,14,12,8,3,5,11,0,8,9,6,8,9,5,1,10,10,1,8,4,4,9,6,15,11,0,3,2,8,14,10,7,14,2,15,13,9,8,7,12,7,6,13,3,11,3,12,2,14,12,0,14,0,12,15,6,0,12,6,4,15,8,11,14,1,12,5,4,4,1,15,2,10,2,12,0,7,9,13,4,6,15,12,3,14,9,15,5,6,2,6,1,3,1,11,13,0,5,2,12,6,14,14,9,0,8,7,8,1,11,0,10,13,9,13,6],\"coloraxis\":\"coloraxis\",\"symbol\":\"circle\"},\"mode\":\"markers\",\"name\":\"\",\"orientation\":\"v\",\"showlegend\":false,\"x\":[2.7700815200805664,0.11255192011594772,0.7403056025505066,-0.15516100823879242,0.576212465763092,1.060272455215454,-0.4972851574420929,-0.46964457631111145,-0.9000139236450195,-0.3199906647205353,-0.9987313747406006,2.3981642723083496,-0.9547090530395508,1.914304494857788,0.34078145027160645,0.6650303602218628,-0.07915737479925156,-0.3486095368862152,1.1181007623672485,-0.27973294258117676,1.6415319442749023,0.17622676491737366,-2.42655086517334,2.7819926738739014,0.48152825236320496,3.374940872192383,-1.0828105211257935,1.6233073472976685,-1.5385241508483887,0.93039470911026,2.4398980140686035,-0.5267032980918884,0.9783726930618286,0.48052796721458435,-1.0252989530563354,1.082007884979248,-0.5017174482345581,2.02602219581604,3.1259918212890625,0.7324201464653015,-0.9346140623092651,3.046598434448242,0.34120649099349976,1.1921923160552979,-2.8147854804992676,1.2153345346450806,-0.6225361227989197,-0.3728504478931427,0.3373722732067108,0.372653603553772,0.8438621759414673,-1.7197543382644653,1.2019329071044922,-1.9683220386505127,1.2435264587402344,0.46722546219825745,-1.1085195541381836,0.6259298324584961,1.6714849472045898,1.3314812183380127,1.5732300281524658,-1.4165563583374023,-0.25641244649887085,0.6827061772346497,1.2763676643371582,-0.8524113297462463,-0.07516592741012573,-0.2326594889163971,0.05998263508081436,-0.5119016766548157,2.3285820484161377,-1.9750914573669434,1.1296002864837646,1.6413054466247559,0.09876350313425064,0.24579784274101257,-1.5492364168167114,2.1300089359283447,0.5798979997634888,1.8446316719055176,0.6668903827667236,-0.0946405678987503,1.828765630722046,1.2266379594802856,-0.4773029386997223,0.7012936472892761,-2.7492096424102783,-2.257514238357544,2.019568920135498,1.367653727531433,1.588230013847351,2.2404985427856445,-2.496603012084961,-0.7928710579872131,-1.7710891962051392,0.231418639421463,0.1453731507062912,2.0623362064361572,-0.45516470074653625,-0.8145560026168823,1.602055549621582,-2.1882898807525635,2.0034003257751465,-2.6087639331817627,1.3787850141525269,-0.08898361027240753,0.10866071283817291,0.25555041432380676,-0.16216623783111572,1.308752179145813,-0.8854709267616272,3.155071496963501,-1.0403167009353638,3.337895154953003,1.3651095628738403,1.515516996383667,0.5455715656280518,1.0175726413726807,-0.030761854723095894,2.74147367477417,-0.776071310043335,-0.028923828154802322,0.3837168216705322,-1.4292587041854858,0.6193801164627075,-1.7224041223526,-2.130551338195801,1.9703994989395142,-0.6375784277915955,0.15654689073562622,2.8983566761016846,0.8659983277320862,-0.8149191737174988,-0.5092876553535461,0.2432214617729187,-1.3485583066940308,0.09931693226099014,1.9458156824111938,0.017231781035661697,1.7898647785186768,2.1282904148101807,-0.09459654986858368,1.9870966672897339,2.9031877517700195,0.36895862221717834,1.1913999319076538,0.3180307447910309,1.9090536832809448,-2.350137948989868,-1.3509044647216797,1.1242040395736694,1.5136312246322632,0.28483372926712036,0.8247177004814148,-1.4528621435165405,-1.3339457511901855,-0.17498038709163666,-0.20323829352855682,1.996212124824524,-0.39211833477020264,-0.965195894241333,-0.5142585635185242,-0.2852410674095154,-2.424431324005127,1.095110535621643,0.12525317072868347,-0.8489662408828735,-0.9611604809761047,-0.8438736200332642,-0.35563406348228455,1.2964454889297485,0.608921229839325,0.2990194261074066,-2.368936777114868,0.45857447385787964,0.6229689121246338,-2.03924298286438,2.644643783569336,-0.9959717988967896,-0.6555107235908508,2.446319818496704,-1.4721144437789917,-1.705883264541626,-1.2666269540786743,-0.4890894293785095,-2.917433500289917,-1.0782902240753174,-0.4985796809196472,0.11548925936222076,0.8463256359100342,-0.39104318618774414,0.8457871675491333,1.4733761548995972,2.1226606369018555,-1.045960783958435,0.9087926149368286,0.8250434398651123,-1.993888020515442,-0.877872109413147,-0.692512035369873,0.542879045009613,0.5283666849136353,-1.3607726097106934,1.9640867710113525,2.3738436698913574,1.1561906337738037,1.3108445405960083,0.6466373205184937,0.19811207056045532,1.3813598155975342,-1.5570406913757324,-0.705044686794281,0.4236781895160675,-1.1537892818450928,-0.46834796667099,-0.17979782819747925,0.014752066694200039,-1.9208409786224365,-0.22792279720306396,0.8470587134361267,-0.9944949746131897,2.377293348312378,-1.1742900609970093,-2.4180610179901123,-0.535717248916626,2.9315543174743652,-1.3484832048416138,-0.48719802498817444,0.3925314247608185,0.6480911374092102,-0.07255468517541885,-1.951567530632019,1.3539092540740967,-0.6131526231765747,-0.7473582625389099,1.3697062730789185,-2.2979252338409424,-0.061312101781368256,0.44678086042404175,-1.3812482357025146,1.2513039112091064,0.2787298858165741,-2.951171875,-1.3094518184661865,0.19121454656124115,-0.41793954372406006,2.7650084495544434,-1.6095362901687622,2.586536169052124,1.6397345066070557,1.176961064338684,-1.555855393409729,-0.06718470901250839,1.0800964832305908,0.06977398693561554,-1.4680815935134888],\"xaxis\":\"x\",\"y\":[-2.179058790206909,0.014592890627682209,-2.1719300746917725,1.3112742900848389,-1.4241820573806763,0.030406590551137924,1.7275493144989014,1.5556447505950928,-3.4240329265594482,0.097505122423172,0.35059985518455505,-0.9768778681755066,-2.820234775543213,-2.5735673904418945,-0.34146320819854736,0.18785348534584045,-0.8771958947181702,-2.210392951965332,-0.23916679620742798,0.6688953042030334,1.0202465057373047,2.9586360454559326,-0.6647830009460449,1.482277750968933,-0.7450655102729797,-0.6532958149909973,-2.6009521484375,-1.5731589794158936,0.9658396244049072,1.1149388551712036,-1.0415003299713135,-1.6183124780654907,0.6768630146980286,-1.5852733850479126,-1.1392443180084229,0.14897125959396362,2.5711357593536377,0.2792108654975891,-0.5096911191940308,-0.06188575550913811,-0.4181171953678131,0.8660762310028076,-0.42057958245277405,-0.7192976474761963,-1.31689453125,2.1416244506835938,-0.6792237758636475,-0.344724178314209,-1.9853347539901733,0.28861889243125916,-1.3385694026947021,2.0313377380371094,-1.716685175895691,-1.2183630466461182,-0.787093460559845,-0.40669697523117065,1.60685396194458,0.520024299621582,0.017650330439209938,2.0897793769836426,-1.1599000692367554,0.4287329614162445,-1.748885154724121,-1.5380252599716187,-3.12115478515625,0.05541921779513359,-1.9418851137161255,-1.6055809259414673,-0.7178646922111511,-1.0168006420135498,-0.7080131769180298,0.37321990728378296,-1.7915582656860352,0.6754579544067383,-0.5160506367683411,-0.9943343997001648,-1.6080479621887207,1.386680245399475,-1.822381854057312,0.39899349212646484,-1.173134207725525,-0.12944869697093964,-2.7180092334747314,0.054696328938007355,1.6719691753387451,-2.8903555870056152,0.4470655918121338,-1.508055329322815,0.43435409665107727,0.011986907571554184,-0.733997106552124,1.3523069620132446,1.1987144947052002,-0.8865837454795837,-1.263486623764038,-0.7234798669815063,0.2558300793170929,-0.5506393909454346,-2.48051118850708,-2.074578046798706,-0.723506510257721,0.09012031555175781,-1.288655161857605,0.2685497999191284,1.5432387590408325,1.1480159759521484,1.5022339820861816,-1.6764971017837524,-1.2547069787979126,-2.5939691066741943,-2.296072483062744,0.1799069344997406,-0.3177110552787781,-1.0963901281356812,-0.27141091227531433,-1.9707224369049072,2.2959487438201904,1.219307780265808,-3.298590660095215,0.43299663066864014,0.20963510870933533,0.4094330370426178,1.032693862915039,-1.7517313957214355,0.5427795648574829,-0.383771151304245,-0.6255573630332947,2.0397188663482666,0.5004629492759705,-2.723900556564331,-2.4520606994628906,-0.6348696947097778,0.03409312665462494,-0.2481207251548767,-0.16164925694465637,0.5802082419395447,-0.6451670527458191,-0.004284488968551159,1.7643588781356812,-1.0121515989303589,-0.7478154301643372,-2.147968292236328,1.1025327444076538,-1.345885992050171,-2.0410115718841553,0.09404193609952927,0.2873772382736206,-2.576876640319824,-2.188199996948242,-0.3987506926059723,-1.2270077466964722,2.3287394046783447,-2.8030776977539062,-3.015840530395508,-2.907160758972168,-1.372609257698059,-0.6480673551559448,-1.5137070417404175,-0.5063669681549072,-3.0598716735839844,1.6542448997497559,2.6263420581817627,0.8723078966140747,-0.10467537492513657,-1.3081691265106201,0.07324834167957306,-0.37196722626686096,-1.6203490495681763,-0.6436864137649536,0.3607300817966461,-3.0213918685913086,-0.6488221287727356,-1.1278005838394165,1.3579246997833252,1.2387075424194336,0.9792894124984741,0.0785594955086708,0.4765116572380066,-1.479977011680603,0.5412359833717346,0.6915242075920105,1.5217441320419312,-2.5433499813079834,-0.7312428951263428,0.8929222822189331,-0.1767929047346115,-0.35023337602615356,-3.2946617603302,-0.9940162301063538,2.4410815238952637,-1.0573047399520874,-2.398128032684326,1.053066611289978,-1.7595396041870117,1.249831199645996,-0.7945277094841003,0.8696891665458679,-1.1857469081878662,-1.0238014459609985,-1.686872959136963,2.033730983734131,1.848796010017395,-2.8842997550964355,0.41688480973243713,-1.9682892560958862,0.8962062001228333,-1.3999892473220825,-0.7335675954818726,-0.07219841331243515,-0.17505542933940887,-1.694063425064087,1.6621252298355103,0.24065342545509338,0.7606762647628784,-1.0837937593460083,-1.5158051252365112,-0.5964017510414124,-2.642094850540161,-1.03263258934021,1.6203936338424683,-0.902484655380249,-2.1270322799682617,0.18714500963687897,0.3155178129673004,-2.01399564743042,0.3106663227081299,0.43015778064727783,-0.028330005705356598,0.043419744819402695,-1.1502881050109863,1.3283442258834839,-2.0579235553741455,-0.028461460024118423,-1.9401447772979736,-0.8475621938705444,0.7135331630706787,-0.7699177861213684,-0.22804385423660278,0.7714429497718811,0.22754067182540894,0.12370788305997849,-1.3734387159347534,-0.7892835140228271,1.8879477977752686,-2.624452829360962,-2.2724106311798096,-1.6415822505950928,1.0067628622055054,0.023073717951774597,-0.3087967038154602,-1.1013597249984741,0.9426966905593872,0.3707866072654724,-2.2542965412139893,-0.7555288672447205,0.4501587748527527],\"yaxis\":\"y\",\"type\":\"scatter\"}],                        {\"template\":{\"data\":{\"histogram2dcontour\":[{\"type\":\"histogram2dcontour\",\"colorbar\":{\"outlinewidth\":0,\"ticks\":\"\"},\"colorscale\":[[0.0,\"#0d0887\"],[0.1111111111111111,\"#46039f\"],[0.2222222222222222,\"#7201a8\"],[0.3333333333333333,\"#9c179e\"],[0.4444444444444444,\"#bd3786\"],[0.5555555555555556,\"#d8576b\"],[0.6666666666666666,\"#ed7953\"],[0.7777777777777778,\"#fb9f3a\"],[0.8888888888888888,\"#fdca26\"],[1.0,\"#f0f921\"]]}],\"choropleth\":[{\"type\":\"choropleth\",\"colorbar\":{\"outlinewidth\":0,\"ticks\":\"\"}}],\"histogram2d\":[{\"type\":\"histogram2d\",\"colorbar\":{\"outlinewidth\":0,\"ticks\":\"\"},\"colorscale\":[[0.0,\"#0d0887\"],[0.1111111111111111,\"#46039f\"],[0.2222222222222222,\"#7201a8\"],[0.3333333333333333,\"#9c179e\"],[0.4444444444444444,\"#bd3786\"],[0.5555555555555556,\"#d8576b\"],[0.6666666666666666,\"#ed7953\"],[0.7777777777777778,\"#fb9f3a\"],[0.8888888888888888,\"#fdca26\"],[1.0,\"#f0f921\"]]}],\"heatmap\":[{\"type\":\"heatmap\",\"colorbar\":{\"outlinewidth\":0,\"ticks\":\"\"},\"colorscale\":[[0.0,\"#0d0887\"],[0.1111111111111111,\"#46039f\"],[0.2222222222222222,\"#7201a8\"],[0.3333333333333333,\"#9c179e\"],[0.4444444444444444,\"#bd3786\"],[0.5555555555555556,\"#d8576b\"],[0.6666666666666666,\"#ed7953\"],[0.7777777777777778,\"#fb9f3a\"],[0.8888888888888888,\"#fdca26\"],[1.0,\"#f0f921\"]]}],\"heatmapgl\":[{\"type\":\"heatmapgl\",\"colorbar\":{\"outlinewidth\":0,\"ticks\":\"\"},\"colorscale\":[[0.0,\"#0d0887\"],[0.1111111111111111,\"#46039f\"],[0.2222222222222222,\"#7201a8\"],[0.3333333333333333,\"#9c179e\"],[0.4444444444444444,\"#bd3786\"],[0.5555555555555556,\"#d8576b\"],[0.6666666666666666,\"#ed7953\"],[0.7777777777777778,\"#fb9f3a\"],[0.8888888888888888,\"#fdca26\"],[1.0,\"#f0f921\"]]}],\"contourcarpet\":[{\"type\":\"contourcarpet\",\"colorbar\":{\"outlinewidth\":0,\"ticks\":\"\"}}],\"contour\":[{\"type\":\"contour\",\"colorbar\":{\"outlinewidth\":0,\"ticks\":\"\"},\"colorscale\":[[0.0,\"#0d0887\"],[0.1111111111111111,\"#46039f\"],[0.2222222222222222,\"#7201a8\"],[0.3333333333333333,\"#9c179e\"],[0.4444444444444444,\"#bd3786\"],[0.5555555555555556,\"#d8576b\"],[0.6666666666666666,\"#ed7953\"],[0.7777777777777778,\"#fb9f3a\"],[0.8888888888888888,\"#fdca26\"],[1.0,\"#f0f921\"]]}],\"surface\":[{\"type\":\"surface\",\"colorbar\":{\"outlinewidth\":0,\"ticks\":\"\"},\"colorscale\":[[0.0,\"#0d0887\"],[0.1111111111111111,\"#46039f\"],[0.2222222222222222,\"#7201a8\"],[0.3333333333333333,\"#9c179e\"],[0.4444444444444444,\"#bd3786\"],[0.5555555555555556,\"#d8576b\"],[0.6666666666666666,\"#ed7953\"],[0.7777777777777778,\"#fb9f3a\"],[0.8888888888888888,\"#fdca26\"],[1.0,\"#f0f921\"]]}],\"mesh3d\":[{\"type\":\"mesh3d\",\"colorbar\":{\"outlinewidth\":0,\"ticks\":\"\"}}],\"scatter\":[{\"fillpattern\":{\"fillmode\":\"overlay\",\"size\":10,\"solidity\":0.2},\"type\":\"scatter\"}],\"parcoords\":[{\"type\":\"parcoords\",\"line\":{\"colorbar\":{\"outlinewidth\":0,\"ticks\":\"\"}}}],\"scatterpolargl\":[{\"type\":\"scatterpolargl\",\"marker\":{\"colorbar\":{\"outlinewidth\":0,\"ticks\":\"\"}}}],\"bar\":[{\"error_x\":{\"color\":\"#2a3f5f\"},\"error_y\":{\"color\":\"#2a3f5f\"},\"marker\":{\"line\":{\"color\":\"#E5ECF6\",\"width\":0.5},\"pattern\":{\"fillmode\":\"overlay\",\"size\":10,\"solidity\":0.2}},\"type\":\"bar\"}],\"scattergeo\":[{\"type\":\"scattergeo\",\"marker\":{\"colorbar\":{\"outlinewidth\":0,\"ticks\":\"\"}}}],\"scatterpolar\":[{\"type\":\"scatterpolar\",\"marker\":{\"colorbar\":{\"outlinewidth\":0,\"ticks\":\"\"}}}],\"histogram\":[{\"marker\":{\"pattern\":{\"fillmode\":\"overlay\",\"size\":10,\"solidity\":0.2}},\"type\":\"histogram\"}],\"scattergl\":[{\"type\":\"scattergl\",\"marker\":{\"colorbar\":{\"outlinewidth\":0,\"ticks\":\"\"}}}],\"scatter3d\":[{\"type\":\"scatter3d\",\"line\":{\"colorbar\":{\"outlinewidth\":0,\"ticks\":\"\"}},\"marker\":{\"colorbar\":{\"outlinewidth\":0,\"ticks\":\"\"}}}],\"scattermapbox\":[{\"type\":\"scattermapbox\",\"marker\":{\"colorbar\":{\"outlinewidth\":0,\"ticks\":\"\"}}}],\"scatterternary\":[{\"type\":\"scatterternary\",\"marker\":{\"colorbar\":{\"outlinewidth\":0,\"ticks\":\"\"}}}],\"scattercarpet\":[{\"type\":\"scattercarpet\",\"marker\":{\"colorbar\":{\"outlinewidth\":0,\"ticks\":\"\"}}}],\"carpet\":[{\"aaxis\":{\"endlinecolor\":\"#2a3f5f\",\"gridcolor\":\"white\",\"linecolor\":\"white\",\"minorgridcolor\":\"white\",\"startlinecolor\":\"#2a3f5f\"},\"baxis\":{\"endlinecolor\":\"#2a3f5f\",\"gridcolor\":\"white\",\"linecolor\":\"white\",\"minorgridcolor\":\"white\",\"startlinecolor\":\"#2a3f5f\"},\"type\":\"carpet\"}],\"table\":[{\"cells\":{\"fill\":{\"color\":\"#EBF0F8\"},\"line\":{\"color\":\"white\"}},\"header\":{\"fill\":{\"color\":\"#C8D4E3\"},\"line\":{\"color\":\"white\"}},\"type\":\"table\"}],\"barpolar\":[{\"marker\":{\"line\":{\"color\":\"#E5ECF6\",\"width\":0.5},\"pattern\":{\"fillmode\":\"overlay\",\"size\":10,\"solidity\":0.2}},\"type\":\"barpolar\"}],\"pie\":[{\"automargin\":true,\"type\":\"pie\"}]},\"layout\":{\"autotypenumbers\":\"strict\",\"colorway\":[\"#636efa\",\"#EF553B\",\"#00cc96\",\"#ab63fa\",\"#FFA15A\",\"#19d3f3\",\"#FF6692\",\"#B6E880\",\"#FF97FF\",\"#FECB52\"],\"font\":{\"color\":\"#2a3f5f\"},\"hovermode\":\"closest\",\"hoverlabel\":{\"align\":\"left\"},\"paper_bgcolor\":\"white\",\"plot_bgcolor\":\"#E5ECF6\",\"polar\":{\"bgcolor\":\"#E5ECF6\",\"angularaxis\":{\"gridcolor\":\"white\",\"linecolor\":\"white\",\"ticks\":\"\"},\"radialaxis\":{\"gridcolor\":\"white\",\"linecolor\":\"white\",\"ticks\":\"\"}},\"ternary\":{\"bgcolor\":\"#E5ECF6\",\"aaxis\":{\"gridcolor\":\"white\",\"linecolor\":\"white\",\"ticks\":\"\"},\"baxis\":{\"gridcolor\":\"white\",\"linecolor\":\"white\",\"ticks\":\"\"},\"caxis\":{\"gridcolor\":\"white\",\"linecolor\":\"white\",\"ticks\":\"\"}},\"coloraxis\":{\"colorbar\":{\"outlinewidth\":0,\"ticks\":\"\"}},\"colorscale\":{\"sequential\":[[0.0,\"#0d0887\"],[0.1111111111111111,\"#46039f\"],[0.2222222222222222,\"#7201a8\"],[0.3333333333333333,\"#9c179e\"],[0.4444444444444444,\"#bd3786\"],[0.5555555555555556,\"#d8576b\"],[0.6666666666666666,\"#ed7953\"],[0.7777777777777778,\"#fb9f3a\"],[0.8888888888888888,\"#fdca26\"],[1.0,\"#f0f921\"]],\"sequentialminus\":[[0.0,\"#0d0887\"],[0.1111111111111111,\"#46039f\"],[0.2222222222222222,\"#7201a8\"],[0.3333333333333333,\"#9c179e\"],[0.4444444444444444,\"#bd3786\"],[0.5555555555555556,\"#d8576b\"],[0.6666666666666666,\"#ed7953\"],[0.7777777777777778,\"#fb9f3a\"],[0.8888888888888888,\"#fdca26\"],[1.0,\"#f0f921\"]],\"diverging\":[[0,\"#8e0152\"],[0.1,\"#c51b7d\"],[0.2,\"#de77ae\"],[0.3,\"#f1b6da\"],[0.4,\"#fde0ef\"],[0.5,\"#f7f7f7\"],[0.6,\"#e6f5d0\"],[0.7,\"#b8e186\"],[0.8,\"#7fbc41\"],[0.9,\"#4d9221\"],[1,\"#276419\"]]},\"xaxis\":{\"gridcolor\":\"white\",\"linecolor\":\"white\",\"ticks\":\"\",\"title\":{\"standoff\":15},\"zerolinecolor\":\"white\",\"automargin\":true,\"zerolinewidth\":2},\"yaxis\":{\"gridcolor\":\"white\",\"linecolor\":\"white\",\"ticks\":\"\",\"title\":{\"standoff\":15},\"zerolinecolor\":\"white\",\"automargin\":true,\"zerolinewidth\":2},\"scene\":{\"xaxis\":{\"backgroundcolor\":\"#E5ECF6\",\"gridcolor\":\"white\",\"linecolor\":\"white\",\"showbackground\":true,\"ticks\":\"\",\"zerolinecolor\":\"white\",\"gridwidth\":2},\"yaxis\":{\"backgroundcolor\":\"#E5ECF6\",\"gridcolor\":\"white\",\"linecolor\":\"white\",\"showbackground\":true,\"ticks\":\"\",\"zerolinecolor\":\"white\",\"gridwidth\":2},\"zaxis\":{\"backgroundcolor\":\"#E5ECF6\",\"gridcolor\":\"white\",\"linecolor\":\"white\",\"showbackground\":true,\"ticks\":\"\",\"zerolinecolor\":\"white\",\"gridwidth\":2}},\"shapedefaults\":{\"line\":{\"color\":\"#2a3f5f\"}},\"annotationdefaults\":{\"arrowcolor\":\"#2a3f5f\",\"arrowhead\":0,\"arrowwidth\":1},\"geo\":{\"bgcolor\":\"white\",\"landcolor\":\"#E5ECF6\",\"subunitcolor\":\"white\",\"showland\":true,\"showlakes\":true,\"lakecolor\":\"white\"},\"title\":{\"x\":0.05},\"mapbox\":{\"style\":\"light\"}}},\"xaxis\":{\"anchor\":\"y\",\"domain\":[0.0,1.0],\"title\":{\"text\":\"X0\"}},\"yaxis\":{\"anchor\":\"x\",\"domain\":[0.0,1.0],\"title\":{\"text\":\"X1\"}},\"coloraxis\":{\"colorbar\":{\"title\":{\"text\":\"Class\"}},\"colorscale\":[[0.0,\"#0d0887\"],[0.1111111111111111,\"#46039f\"],[0.2222222222222222,\"#7201a8\"],[0.3333333333333333,\"#9c179e\"],[0.4444444444444444,\"#bd3786\"],[0.5555555555555556,\"#d8576b\"],[0.6666666666666666,\"#ed7953\"],[0.7777777777777778,\"#fb9f3a\"],[0.8888888888888888,\"#fdca26\"],[1.0,\"#f0f921\"]]},\"legend\":{\"tracegroupgap\":0},\"title\":{\"text\":\"t-SNE Visualization\"},\"width\":600,\"height\":600},                        {\"responsive\": true}                    ).then(function(){\n",
       "                            \n",
       "var gd = document.getElementById('3c990867-9d75-4a54-8c62-79f80fb2d109');\n",
       "var x = new MutationObserver(function (mutations, observer) {{\n",
       "        var display = window.getComputedStyle(gd).display;\n",
       "        if (!display || display === 'none') {{\n",
       "            console.log([gd, 'removed!']);\n",
       "            Plotly.purge(gd);\n",
       "            observer.disconnect();\n",
       "        }}\n",
       "}});\n",
       "\n",
       "// Listen for the removal of the full notebook cells\n",
       "var notebookContainer = gd.closest('#notebook-container');\n",
       "if (notebookContainer) {{\n",
       "    x.observe(notebookContainer, {childList: true});\n",
       "}}\n",
       "\n",
       "// Listen for the clearing of the current output cell\n",
       "var outputEl = gd.closest('.output');\n",
       "if (outputEl) {{\n",
       "    x.observe(outputEl, {childList: true});\n",
       "}}\n",
       "\n",
       "                        })                };                });            </script>        </div>"
      ]
     },
     "metadata": {},
     "output_type": "display_data"
    }
   ],
   "source": [
    "import numpy as np\n",
    "import pandas as pd\n",
    "from sklearn.manifold import TSNE\n",
    "import plotly.express as px\n",
    "\n",
    "# Define your data\n",
    "X = np.random.randn(256, 128)\n",
    "\n",
    "# Apply t-SNE\n",
    "X_embedded = TSNE(n_components=2, learning_rate='auto',\n",
    "                  init='random').fit_transform(X)\n",
    "\n",
    "# Create a DataFrame with t-SNE results and class labels\n",
    "classes = np.random.randint(0, 16, 256)  # Assuming you have 16 classes\n",
    "data = {'X0': X_embedded[:, 0], 'X1': X_embedded[:, 1], 'Class': classes}\n",
    "df = pd.DataFrame(data)\n",
    "\n",
    "# Visualize the t-SNE embeddings with Plotly\n",
    "fig = px.scatter(df, x='X0', y='X1', color='Class', title='t-SNE Visualization',\n",
    "                 labels={'Class': 'Class'})\n",
    "\n",
    "# Set the width and height of the figure (you can adjust these values)\n",
    "fig.update_layout(width=600, height=600)\n",
    "\n",
    "fig.show()"
   ]
  },
  {
   "cell_type": "code",
   "execution_count": 22,
   "metadata": {},
   "outputs": [
    {
     "data": {
      "application/vnd.plotly.v1+json": {
       "config": {
        "plotlyServerURL": "https://plot.ly"
       },
       "data": [
        {
         "hovertemplate": "Class=Class 3<br>X0=%{x}<br>X1=%{y}<extra></extra>",
         "legendgroup": "Class 3",
         "marker": {
          "color": "#636efa",
          "symbol": "circle"
         },
         "mode": "markers",
         "name": "Class 3",
         "orientation": "v",
         "showlegend": true,
         "type": "scatter",
         "x": [
          2.3669652938842773,
          2.146101951599121,
          -2.1396307945251465,
          0.00038451034924946725,
          -0.35168033838272095,
          0.7915765643119812,
          3.3822124004364014,
          4.4979729652404785,
          -1.3901787996292114,
          -1.9474942684173584,
          2.859431266784668,
          3.901641607284546,
          3.290930986404419,
          -1.5830516815185547
         ],
         "xaxis": "x",
         "y": [
          3.1626040935516357,
          0.04025304317474365,
          -1.0095261335372925,
          2.268725633621216,
          -1.8874661922454834,
          0.8317938446998596,
          -0.568973183631897,
          -0.8237098455429077,
          -0.47716856002807617,
          -2.366107702255249,
          0.31762459874153137,
          0.4378672242164612,
          0.6530329585075378,
          -3.5090088844299316
         ],
         "yaxis": "y"
        },
        {
         "hovertemplate": "Class=Class 9<br>X0=%{x}<br>X1=%{y}<extra></extra>",
         "legendgroup": "Class 9",
         "marker": {
          "color": "#EF553B",
          "symbol": "circle"
         },
         "mode": "markers",
         "name": "Class 9",
         "orientation": "v",
         "showlegend": true,
         "type": "scatter",
         "x": [
          0.6123242974281311,
          0.41702598333358765,
          -0.06596960127353668,
          -0.5463437438011169,
          1.0834906101226807,
          1.124849796295166,
          0.8660736680030823,
          0.006913562770932913,
          1.7704863548278809,
          -1.435731291770935,
          0.2096865177154541
         ],
         "xaxis": "x",
         "y": [
          -0.09298491477966309,
          -0.20354817807674408,
          0.08335624635219574,
          2.7456486225128174,
          -0.3040139675140381,
          0.13835327327251434,
          -2.4822781085968018,
          2.9768378734588623,
          -3.557769536972046,
          -1.6838626861572266,
          1.4515916109085083
         ],
         "yaxis": "y"
        },
        {
         "hovertemplate": "Class=Class 6<br>X0=%{x}<br>X1=%{y}<extra></extra>",
         "legendgroup": "Class 6",
         "marker": {
          "color": "#00cc96",
          "symbol": "circle"
         },
         "mode": "markers",
         "name": "Class 6",
         "orientation": "v",
         "showlegend": true,
         "type": "scatter",
         "x": [
          1.450866937637329,
          -1.6874810457229614,
          2.3335204124450684,
          3.8052828311920166,
          -0.21156513690948486,
          0.20328941941261292,
          2.056171178817749,
          2.7888364791870117,
          2.425356149673462,
          3.8721609115600586,
          -0.40708062052726746,
          0.7638925313949585,
          0.7201998233795166,
          0.8725259900093079,
          -1.8059006929397583,
          2.456580638885498,
          2.6184380054473877,
          -0.6199785470962524,
          1.6416044235229492,
          0.4054723083972931,
          1.33543062210083,
          1.2348026037216187,
          0.7504478693008423,
          1.4123491048812866,
          0.44135403633117676,
          -1.2757377624511719,
          -2.55114483833313,
          2.457465410232544,
          0.8062912821769714,
          3.529374122619629,
          2.905611753463745
         ],
         "xaxis": "x",
         "y": [
          -0.6849802136421204,
          -2.934257745742798,
          -2.8812503814697266,
          -1.1987836360931396,
          -3.1465561389923096,
          0.3799773156642914,
          -0.3575386703014374,
          0.40218839049339294,
          -2.753605604171753,
          1.587066650390625,
          -1.0007654428482056,
          3.4435694217681885,
          -1.8984830379486084,
          0.1699017584323883,
          -1.6538132429122925,
          -1.278186559677124,
          -0.8747630715370178,
          -3.950058937072754,
          -1.614640235900879,
          -2.8457162380218506,
          2.9833872318267822,
          -2.1324050426483154,
          -1.2807096242904663,
          1.9884872436523438,
          1.0063155889511108,
          -1.2103899717330933,
          -1.4617892503738403,
          1.9840631484985352,
          -1.8716362714767456,
          -2.8671700954437256,
          -1.0775682926177979
         ],
         "yaxis": "y"
        },
        {
         "hovertemplate": "Class=Class 7<br>X0=%{x}<br>X1=%{y}<extra></extra>",
         "legendgroup": "Class 7",
         "marker": {
          "color": "#ab63fa",
          "symbol": "circle"
         },
         "mode": "markers",
         "name": "Class 7",
         "orientation": "v",
         "showlegend": true,
         "type": "scatter",
         "x": [
          0.9597379565238953,
          -2.3819870948791504,
          1.5153419971466064,
          3.866469383239746,
          3.0790634155273438,
          -1.7958534955978394,
          4.469247817993164,
          -2.4183197021484375,
          2.8265130519866943,
          2.2190113067626953,
          3.401216745376587,
          2.2083446979522705,
          -1.3778305053710938,
          0.992554783821106,
          -1.3808010816574097
         ],
         "xaxis": "x",
         "y": [
          -0.4456932246685028,
          0.6954449415206909,
          0.23723194003105164,
          -0.01037515513598919,
          -1.5515350103378296,
          -0.6383863687515259,
          -0.7538151741027832,
          -0.30958685278892517,
          0.42340371012687683,
          -2.3105735778808594,
          1.0147349834442139,
          -0.9558615684509277,
          -3.614583969116211,
          0.35396021604537964,
          1.1054941415786743
         ],
         "yaxis": "y"
        },
        {
         "hovertemplate": "Class=Class 8<br>X0=%{x}<br>X1=%{y}<extra></extra>",
         "legendgroup": "Class 8",
         "marker": {
          "color": "#FFA15A",
          "symbol": "circle"
         },
         "mode": "markers",
         "name": "Class 8",
         "orientation": "v",
         "showlegend": true,
         "type": "scatter",
         "x": [
          2.0151729583740234,
          -0.9317675828933716,
          -0.8025310635566711,
          0.8369594812393188,
          1.5605216026306152,
          0.5179135799407959,
          -1.3396930694580078,
          2.612386465072632,
          1.4870672225952148,
          1.9792901277542114,
          -0.3979184329509735,
          2.4808316230773926,
          -0.32238611578941345,
          -2.5148282051086426,
          -0.4733363091945648,
          -1.7769834995269775,
          3.288320779800415,
          0.6283398270606995,
          2.8940110206604004,
          1.571305513381958,
          -0.8595097661018372
         ],
         "xaxis": "x",
         "y": [
          1.2879621982574463,
          1.9096750020980835,
          -1.5206481218338013,
          1.9162043333053589,
          0.04659299924969673,
          -1.6648601293563843,
          -2.0340378284454346,
          -0.6380518674850464,
          1.2953770160675049,
          0.6159076690673828,
          -1.7687397003173828,
          -3.5973262786865234,
          -0.08060017973184586,
          -0.410964697599411,
          -1.1123281717300415,
          0.8745836615562439,
          0.13226920366287231,
          2.170067071914673,
          -0.4217175543308258,
          -2.3808395862579346,
          -2.08323073387146
         ],
         "yaxis": "y"
        },
        {
         "hovertemplate": "Class=Class 11<br>X0=%{x}<br>X1=%{y}<extra></extra>",
         "legendgroup": "Class 11",
         "marker": {
          "color": "#19d3f3",
          "symbol": "circle"
         },
         "mode": "markers",
         "name": "Class 11",
         "orientation": "v",
         "showlegend": true,
         "type": "scatter",
         "x": [
          -0.32096067070961,
          3.828944444656372,
          2.040433168411255,
          2.3903138637542725,
          2.4566116333007812,
          2.268160343170166,
          3.0342891216278076,
          0.43091753125190735,
          0.9030565619468689,
          1.5761802196502686,
          2.204289197921753,
          1.5807416439056396,
          1.3268592357635498
         ],
         "xaxis": "x",
         "y": [
          1.1183894872665405,
          -1.6198792457580566,
          1.030773639678955,
          -0.23741433024406433,
          2.1135592460632324,
          -2.3463313579559326,
          -0.8536754846572876,
          -3.7197983264923096,
          -1.5847290754318237,
          -0.15567956864833832,
          1.1822404861450195,
          -1.1433634757995605,
          0.6872974634170532
         ],
         "yaxis": "y"
        },
        {
         "hovertemplate": "Class=Class 14<br>X0=%{x}<br>X1=%{y}<extra></extra>",
         "legendgroup": "Class 14",
         "marker": {
          "color": "#FF6692",
          "symbol": "circle"
         },
         "mode": "markers",
         "name": "Class 14",
         "orientation": "v",
         "showlegend": true,
         "type": "scatter",
         "x": [
          4.819435119628906,
          1.703675389289856,
          -1.49967360496521,
          3.160228967666626,
          -1.1232634782791138,
          1.959996223449707,
          1.6443554162979126,
          0.49686962366104126,
          1.6185476779937744
         ],
         "xaxis": "x",
         "y": [
          -0.42005518078804016,
          -1.0284291505813599,
          -1.050230860710144,
          -0.41086483001708984,
          0.5465399026870728,
          -1.462700605392456,
          1.4679049253463745,
          1.4862369298934937,
          -1.7088377475738525
         ],
         "yaxis": "y"
        },
        {
         "hovertemplate": "Class=Class 1<br>X0=%{x}<br>X1=%{y}<extra></extra>",
         "legendgroup": "Class 1",
         "marker": {
          "color": "#B6E880",
          "symbol": "circle"
         },
         "mode": "markers",
         "name": "Class 1",
         "orientation": "v",
         "showlegend": true,
         "type": "scatter",
         "x": [
          0.6342518925666809,
          -1.7284189462661743,
          -0.3097746670246124,
          -1.3136117458343506,
          3.260838508605957,
          3.641754150390625,
          0.6986203193664551,
          0.8617696166038513,
          0.3226802349090576,
          1.4027576446533203,
          3.58366060256958,
          0.20549669861793518,
          2.835608959197998
         ],
         "xaxis": "x",
         "y": [
          -2.2645020484924316,
          0.23243539035320282,
          -0.785980761051178,
          2.4204177856445312,
          -2.9785962104797363,
          2.558767318725586,
          -2.9579885005950928,
          -1.3868236541748047,
          1.331045150756836,
          -3.130077838897705,
          -1.4152612686157227,
          -0.6386092901229858,
          -0.3785855174064636
         ],
         "yaxis": "y"
        },
        {
         "hovertemplate": "Class=Class 12<br>X0=%{x}<br>X1=%{y}<extra></extra>",
         "legendgroup": "Class 12",
         "marker": {
          "color": "#FF97FF",
          "symbol": "circle"
         },
         "mode": "markers",
         "name": "Class 12",
         "orientation": "v",
         "showlegend": true,
         "type": "scatter",
         "x": [
          4.171557903289795,
          1.884168028831482,
          2.6740810871124268,
          0.14002007246017456,
          0.8988624811172485,
          0.782493531703949,
          -0.20273764431476593,
          0.10548871010541916,
          -2.165714740753174,
          0.5425388216972351,
          -1.127856969833374,
          2.014265298843384,
          4.647983074188232,
          -0.9573552012443542,
          -0.4268033802509308,
          1.011501669883728,
          3.3252999782562256,
          -0.7441442608833313,
          1.0433385372161865,
          -1.6150414943695068,
          -0.03967263922095299,
          -1.3140288591384888,
          1.6156325340270996,
          0.9097023606300354
         ],
         "xaxis": "x",
         "y": [
          0.4505003094673157,
          -4.121108531951904,
          0.9437733292579651,
          0.7576514482498169,
          -1.5360348224639893,
          -0.19311116635799408,
          1.6795670986175537,
          0.3392844796180725,
          0.6824923753738403,
          -1.5041433572769165,
          -0.5927630066871643,
          0.7902328968048096,
          1.4438424110412598,
          2.7614705562591553,
          0.7747067809104919,
          -0.14995044469833374,
          -2.661935806274414,
          -1.1527974605560303,
          -3.419243812561035,
          2.0743985176086426,
          -2.2135794162750244,
          -0.29952436685562134,
          -3.188131093978882,
          2.4517822265625
         ],
         "yaxis": "y"
        },
        {
         "hovertemplate": "Class=Class 0<br>X0=%{x}<br>X1=%{y}<extra></extra>",
         "legendgroup": "Class 0",
         "marker": {
          "color": "#FECB52",
          "symbol": "circle"
         },
         "mode": "markers",
         "name": "Class 0",
         "orientation": "v",
         "showlegend": true,
         "type": "scatter",
         "x": [
          -0.765635073184967,
          0.4846819043159485,
          4.811453342437744,
          0.42875322699546814,
          4.770437717437744,
          2.0061497688293457,
          3.628586769104004,
          -0.4838365614414215,
          0.8132100701332092,
          -0.4654926359653473,
          1.6722743511199951,
          -1.4657783508300781,
          0.2793656289577484,
          3.2876226902008057,
          0.6174029111862183,
          0.27681994438171387
         ],
         "xaxis": "x",
         "y": [
          0.19739973545074463,
          0.7486209273338318,
          -0.9484951496124268,
          -1.358776330947876,
          -0.18881238996982574,
          0.135330930352211,
          2.6543450355529785,
          0.05586165562272072,
          -0.3411687910556793,
          -3.0659430027008057,
          2.278507709503174,
          2.029649257659912,
          2.3254127502441406,
          -2.7211320400238037,
          -1.3832377195358276,
          0.5537647604942322
         ],
         "yaxis": "y"
        },
        {
         "hovertemplate": "Class=Class 13<br>X0=%{x}<br>X1=%{y}<extra></extra>",
         "legendgroup": "Class 13",
         "marker": {
          "color": "#636efa",
          "symbol": "circle"
         },
         "mode": "markers",
         "name": "Class 13",
         "orientation": "v",
         "showlegend": true,
         "type": "scatter",
         "x": [
          2.3339099884033203,
          -2.675837516784668,
          -0.2575322687625885,
          3.9046666622161865,
          1.299682378768921,
          0.41360676288604736,
          -1.9206769466400146,
          1.1448872089385986,
          2.3439114093780518,
          3.074429750442505,
          0.16743968427181244,
          1.8092858791351318,
          0.07262824475765228,
          0.8469125032424927,
          -0.05865073576569557,
          1.6269477605819702
         ],
         "xaxis": "x",
         "y": [
          -1.7826284170150757,
          -2.0801424980163574,
          0.7995025515556335,
          0.10581263899803162,
          -2.0079526901245117,
          -0.3579235076904297,
          -0.3454987704753876,
          -4.102659225463867,
          0.17911793291568756,
          1.856603980064392,
          -3.680013418197632,
          2.172130584716797,
          -1.4742248058319092,
          1.004082202911377,
          2.0546369552612305,
          -2.8071343898773193
         ],
         "yaxis": "y"
        },
        {
         "hovertemplate": "Class=Class 5<br>X0=%{x}<br>X1=%{y}<extra></extra>",
         "legendgroup": "Class 5",
         "marker": {
          "color": "#EF553B",
          "symbol": "circle"
         },
         "mode": "markers",
         "name": "Class 5",
         "orientation": "v",
         "showlegend": true,
         "type": "scatter",
         "x": [
          2.6521589756011963,
          -1.9384981393814087,
          2.6685354709625244,
          0.5538551211357117,
          1.6739476919174194,
          3.639972448348999,
          1.584003210067749,
          3.394202709197998,
          1.8136593103408813,
          1.4898135662078857,
          4.529498100280762,
          1.4535176753997803,
          -0.1441720724105835,
          -0.13397693634033203
         ],
         "xaxis": "x",
         "y": [
          2.625516653060913,
          -3.221172332763672,
          -1.4390249252319336,
          0.4374551475048065,
          1.471940040588379,
          -1.5952404737472534,
          2.0959970951080322,
          1.259010672569275,
          -1.4592292308807373,
          -0.9195220470428467,
          -0.6644155979156494,
          -0.5075762867927551,
          -2.2159056663513184,
          1.1359294652938843
         ],
         "yaxis": "y"
        },
        {
         "hovertemplate": "Class=Class 4<br>X0=%{x}<br>X1=%{y}<extra></extra>",
         "legendgroup": "Class 4",
         "marker": {
          "color": "#00cc96",
          "symbol": "circle"
         },
         "mode": "markers",
         "name": "Class 4",
         "orientation": "v",
         "showlegend": true,
         "type": "scatter",
         "x": [
          2.3927154541015625,
          2.56308650970459,
          1.411818265914917,
          1.7764233350753784,
          1.109131932258606,
          2.9990596771240234,
          2.2804007530212402,
          1.735846757888794,
          0.5355079174041748,
          -0.9799593091011047,
          -1.376321792602539,
          -0.5568938255310059,
          0.1325118988752365,
          -1.2997031211853027,
          0.33738988637924194,
          -2.927185535430908,
          0.4999030530452728,
          0.8711212277412415,
          4.630038261413574,
          0.9042015075683594
         ],
         "xaxis": "x",
         "y": [
          -0.5659849643707275,
          0.653258740901947,
          0.5727018713951111,
          0.07785247266292572,
          -0.0792771726846695,
          1.2655961513519287,
          -0.73798006772995,
          0.5846441388130188,
          -0.4518682360649109,
          -0.3346543312072754,
          0.9015770554542542,
          -2.5052545070648193,
          -1.5706496238708496,
          -1.704360842704773,
          -4.386429786682129,
          0.8521308898925781,
          0.900698184967041,
          2.055558919906616,
          1.4853955507278442,
          0.692595899105072
         ],
         "yaxis": "y"
        },
        {
         "hovertemplate": "Class=Class 2<br>X0=%{x}<br>X1=%{y}<extra></extra>",
         "legendgroup": "Class 2",
         "marker": {
          "color": "#ab63fa",
          "symbol": "circle"
         },
         "mode": "markers",
         "name": "Class 2",
         "orientation": "v",
         "showlegend": true,
         "type": "scatter",
         "x": [
          0.2915860414505005,
          3.0314345359802246,
          1.5352429151535034,
          0.11950023472309113,
          0.817776083946228,
          0.775456428527832,
          1.2503925561904907,
          1.7924901247024536,
          0.3228965699672699,
          2.487400531768799,
          0.425702303647995,
          -0.405802845954895,
          -1.436448097229004,
          2.856952667236328,
          2.4188106060028076,
          0.8664336800575256
         ],
         "xaxis": "x",
         "y": [
          -2.6192617416381836,
          -2.4644784927368164,
          -0.08301134407520294,
          -0.47936397790908813,
          -0.9442153573036194,
          3.6963610649108887,
          0.8958080410957336,
          -0.18824827671051025,
          -0.63274085521698,
          -2.816817283630371,
          -0.6922878623008728,
          -1.3613420724868774,
          0.8863769769668579,
          1.8267323970794678,
          -0.9365651607513428,
          -1.5100377798080444
         ],
         "yaxis": "y"
        },
        {
         "hovertemplate": "Class=Class 15<br>X0=%{x}<br>X1=%{y}<extra></extra>",
         "legendgroup": "Class 15",
         "marker": {
          "color": "#FFA15A",
          "symbol": "circle"
         },
         "mode": "markers",
         "name": "Class 15",
         "orientation": "v",
         "showlegend": true,
         "type": "scatter",
         "x": [
          -0.630064845085144,
          4.0943450927734375,
          -2.194276809692383,
          -0.8487218022346497,
          4.125735282897949,
          -1.256773591041565,
          -0.7708463072776794,
          2.2001538276672363,
          2.8383820056915283,
          -2.4057137966156006,
          -1.3290834426879883,
          0.9492666721343994,
          1.4064778089523315
         ],
         "xaxis": "x",
         "y": [
          -2.2231454849243164,
          -2.2556686401367188,
          0.5359725952148438,
          1.9893569946289062,
          -3.062927722930908,
          -0.5262026786804199,
          -1.1221120357513428,
          -2.0565879344940186,
          -3.7951972484588623,
          1.6333755254745483,
          -0.783436119556427,
          -0.5711135268211365,
          -0.9572644233703613
         ],
         "yaxis": "y"
        },
        {
         "hovertemplate": "Class=Class 10<br>X0=%{x}<br>X1=%{y}<extra></extra>",
         "legendgroup": "Class 10",
         "marker": {
          "color": "#19d3f3",
          "symbol": "circle"
         },
         "mode": "markers",
         "name": "Class 10",
         "orientation": "v",
         "showlegend": true,
         "type": "scatter",
         "x": [
          1.6084275245666504,
          -0.5147998929023743,
          -0.29804638028144836,
          1.4237312078475952,
          1.1045734882354736,
          2.367147207260132,
          -0.7459914088249207,
          -0.9347248077392578,
          -1.2085046768188477,
          -0.14709486067295074
         ],
         "xaxis": "x",
         "y": [
          1.6921334266662598,
          -2.613492250442505,
          -0.07669158279895782,
          -2.4461324214935303,
          -1.3430079221725464,
          -2.0421528816223145,
          0.9435855150222778,
          0.08107157051563263,
          1.2721787691116333,
          -1.7002325057983398
         ],
         "yaxis": "y"
        }
       ],
       "layout": {
        "height": 600,
        "legend": {
         "title": {
          "text": "Class"
         },
         "tracegroupgap": 0
        },
        "template": {
         "data": {
          "bar": [
           {
            "error_x": {
             "color": "#2a3f5f"
            },
            "error_y": {
             "color": "#2a3f5f"
            },
            "marker": {
             "line": {
              "color": "#E5ECF6",
              "width": 0.5
             },
             "pattern": {
              "fillmode": "overlay",
              "size": 10,
              "solidity": 0.2
             }
            },
            "type": "bar"
           }
          ],
          "barpolar": [
           {
            "marker": {
             "line": {
              "color": "#E5ECF6",
              "width": 0.5
             },
             "pattern": {
              "fillmode": "overlay",
              "size": 10,
              "solidity": 0.2
             }
            },
            "type": "barpolar"
           }
          ],
          "carpet": [
           {
            "aaxis": {
             "endlinecolor": "#2a3f5f",
             "gridcolor": "white",
             "linecolor": "white",
             "minorgridcolor": "white",
             "startlinecolor": "#2a3f5f"
            },
            "baxis": {
             "endlinecolor": "#2a3f5f",
             "gridcolor": "white",
             "linecolor": "white",
             "minorgridcolor": "white",
             "startlinecolor": "#2a3f5f"
            },
            "type": "carpet"
           }
          ],
          "choropleth": [
           {
            "colorbar": {
             "outlinewidth": 0,
             "ticks": ""
            },
            "type": "choropleth"
           }
          ],
          "contour": [
           {
            "colorbar": {
             "outlinewidth": 0,
             "ticks": ""
            },
            "colorscale": [
             [
              0,
              "#0d0887"
             ],
             [
              0.1111111111111111,
              "#46039f"
             ],
             [
              0.2222222222222222,
              "#7201a8"
             ],
             [
              0.3333333333333333,
              "#9c179e"
             ],
             [
              0.4444444444444444,
              "#bd3786"
             ],
             [
              0.5555555555555556,
              "#d8576b"
             ],
             [
              0.6666666666666666,
              "#ed7953"
             ],
             [
              0.7777777777777778,
              "#fb9f3a"
             ],
             [
              0.8888888888888888,
              "#fdca26"
             ],
             [
              1,
              "#f0f921"
             ]
            ],
            "type": "contour"
           }
          ],
          "contourcarpet": [
           {
            "colorbar": {
             "outlinewidth": 0,
             "ticks": ""
            },
            "type": "contourcarpet"
           }
          ],
          "heatmap": [
           {
            "colorbar": {
             "outlinewidth": 0,
             "ticks": ""
            },
            "colorscale": [
             [
              0,
              "#0d0887"
             ],
             [
              0.1111111111111111,
              "#46039f"
             ],
             [
              0.2222222222222222,
              "#7201a8"
             ],
             [
              0.3333333333333333,
              "#9c179e"
             ],
             [
              0.4444444444444444,
              "#bd3786"
             ],
             [
              0.5555555555555556,
              "#d8576b"
             ],
             [
              0.6666666666666666,
              "#ed7953"
             ],
             [
              0.7777777777777778,
              "#fb9f3a"
             ],
             [
              0.8888888888888888,
              "#fdca26"
             ],
             [
              1,
              "#f0f921"
             ]
            ],
            "type": "heatmap"
           }
          ],
          "heatmapgl": [
           {
            "colorbar": {
             "outlinewidth": 0,
             "ticks": ""
            },
            "colorscale": [
             [
              0,
              "#0d0887"
             ],
             [
              0.1111111111111111,
              "#46039f"
             ],
             [
              0.2222222222222222,
              "#7201a8"
             ],
             [
              0.3333333333333333,
              "#9c179e"
             ],
             [
              0.4444444444444444,
              "#bd3786"
             ],
             [
              0.5555555555555556,
              "#d8576b"
             ],
             [
              0.6666666666666666,
              "#ed7953"
             ],
             [
              0.7777777777777778,
              "#fb9f3a"
             ],
             [
              0.8888888888888888,
              "#fdca26"
             ],
             [
              1,
              "#f0f921"
             ]
            ],
            "type": "heatmapgl"
           }
          ],
          "histogram": [
           {
            "marker": {
             "pattern": {
              "fillmode": "overlay",
              "size": 10,
              "solidity": 0.2
             }
            },
            "type": "histogram"
           }
          ],
          "histogram2d": [
           {
            "colorbar": {
             "outlinewidth": 0,
             "ticks": ""
            },
            "colorscale": [
             [
              0,
              "#0d0887"
             ],
             [
              0.1111111111111111,
              "#46039f"
             ],
             [
              0.2222222222222222,
              "#7201a8"
             ],
             [
              0.3333333333333333,
              "#9c179e"
             ],
             [
              0.4444444444444444,
              "#bd3786"
             ],
             [
              0.5555555555555556,
              "#d8576b"
             ],
             [
              0.6666666666666666,
              "#ed7953"
             ],
             [
              0.7777777777777778,
              "#fb9f3a"
             ],
             [
              0.8888888888888888,
              "#fdca26"
             ],
             [
              1,
              "#f0f921"
             ]
            ],
            "type": "histogram2d"
           }
          ],
          "histogram2dcontour": [
           {
            "colorbar": {
             "outlinewidth": 0,
             "ticks": ""
            },
            "colorscale": [
             [
              0,
              "#0d0887"
             ],
             [
              0.1111111111111111,
              "#46039f"
             ],
             [
              0.2222222222222222,
              "#7201a8"
             ],
             [
              0.3333333333333333,
              "#9c179e"
             ],
             [
              0.4444444444444444,
              "#bd3786"
             ],
             [
              0.5555555555555556,
              "#d8576b"
             ],
             [
              0.6666666666666666,
              "#ed7953"
             ],
             [
              0.7777777777777778,
              "#fb9f3a"
             ],
             [
              0.8888888888888888,
              "#fdca26"
             ],
             [
              1,
              "#f0f921"
             ]
            ],
            "type": "histogram2dcontour"
           }
          ],
          "mesh3d": [
           {
            "colorbar": {
             "outlinewidth": 0,
             "ticks": ""
            },
            "type": "mesh3d"
           }
          ],
          "parcoords": [
           {
            "line": {
             "colorbar": {
              "outlinewidth": 0,
              "ticks": ""
             }
            },
            "type": "parcoords"
           }
          ],
          "pie": [
           {
            "automargin": true,
            "type": "pie"
           }
          ],
          "scatter": [
           {
            "fillpattern": {
             "fillmode": "overlay",
             "size": 10,
             "solidity": 0.2
            },
            "type": "scatter"
           }
          ],
          "scatter3d": [
           {
            "line": {
             "colorbar": {
              "outlinewidth": 0,
              "ticks": ""
             }
            },
            "marker": {
             "colorbar": {
              "outlinewidth": 0,
              "ticks": ""
             }
            },
            "type": "scatter3d"
           }
          ],
          "scattercarpet": [
           {
            "marker": {
             "colorbar": {
              "outlinewidth": 0,
              "ticks": ""
             }
            },
            "type": "scattercarpet"
           }
          ],
          "scattergeo": [
           {
            "marker": {
             "colorbar": {
              "outlinewidth": 0,
              "ticks": ""
             }
            },
            "type": "scattergeo"
           }
          ],
          "scattergl": [
           {
            "marker": {
             "colorbar": {
              "outlinewidth": 0,
              "ticks": ""
             }
            },
            "type": "scattergl"
           }
          ],
          "scattermapbox": [
           {
            "marker": {
             "colorbar": {
              "outlinewidth": 0,
              "ticks": ""
             }
            },
            "type": "scattermapbox"
           }
          ],
          "scatterpolar": [
           {
            "marker": {
             "colorbar": {
              "outlinewidth": 0,
              "ticks": ""
             }
            },
            "type": "scatterpolar"
           }
          ],
          "scatterpolargl": [
           {
            "marker": {
             "colorbar": {
              "outlinewidth": 0,
              "ticks": ""
             }
            },
            "type": "scatterpolargl"
           }
          ],
          "scatterternary": [
           {
            "marker": {
             "colorbar": {
              "outlinewidth": 0,
              "ticks": ""
             }
            },
            "type": "scatterternary"
           }
          ],
          "surface": [
           {
            "colorbar": {
             "outlinewidth": 0,
             "ticks": ""
            },
            "colorscale": [
             [
              0,
              "#0d0887"
             ],
             [
              0.1111111111111111,
              "#46039f"
             ],
             [
              0.2222222222222222,
              "#7201a8"
             ],
             [
              0.3333333333333333,
              "#9c179e"
             ],
             [
              0.4444444444444444,
              "#bd3786"
             ],
             [
              0.5555555555555556,
              "#d8576b"
             ],
             [
              0.6666666666666666,
              "#ed7953"
             ],
             [
              0.7777777777777778,
              "#fb9f3a"
             ],
             [
              0.8888888888888888,
              "#fdca26"
             ],
             [
              1,
              "#f0f921"
             ]
            ],
            "type": "surface"
           }
          ],
          "table": [
           {
            "cells": {
             "fill": {
              "color": "#EBF0F8"
             },
             "line": {
              "color": "white"
             }
            },
            "header": {
             "fill": {
              "color": "#C8D4E3"
             },
             "line": {
              "color": "white"
             }
            },
            "type": "table"
           }
          ]
         },
         "layout": {
          "annotationdefaults": {
           "arrowcolor": "#2a3f5f",
           "arrowhead": 0,
           "arrowwidth": 1
          },
          "autotypenumbers": "strict",
          "coloraxis": {
           "colorbar": {
            "outlinewidth": 0,
            "ticks": ""
           }
          },
          "colorscale": {
           "diverging": [
            [
             0,
             "#8e0152"
            ],
            [
             0.1,
             "#c51b7d"
            ],
            [
             0.2,
             "#de77ae"
            ],
            [
             0.3,
             "#f1b6da"
            ],
            [
             0.4,
             "#fde0ef"
            ],
            [
             0.5,
             "#f7f7f7"
            ],
            [
             0.6,
             "#e6f5d0"
            ],
            [
             0.7,
             "#b8e186"
            ],
            [
             0.8,
             "#7fbc41"
            ],
            [
             0.9,
             "#4d9221"
            ],
            [
             1,
             "#276419"
            ]
           ],
           "sequential": [
            [
             0,
             "#0d0887"
            ],
            [
             0.1111111111111111,
             "#46039f"
            ],
            [
             0.2222222222222222,
             "#7201a8"
            ],
            [
             0.3333333333333333,
             "#9c179e"
            ],
            [
             0.4444444444444444,
             "#bd3786"
            ],
            [
             0.5555555555555556,
             "#d8576b"
            ],
            [
             0.6666666666666666,
             "#ed7953"
            ],
            [
             0.7777777777777778,
             "#fb9f3a"
            ],
            [
             0.8888888888888888,
             "#fdca26"
            ],
            [
             1,
             "#f0f921"
            ]
           ],
           "sequentialminus": [
            [
             0,
             "#0d0887"
            ],
            [
             0.1111111111111111,
             "#46039f"
            ],
            [
             0.2222222222222222,
             "#7201a8"
            ],
            [
             0.3333333333333333,
             "#9c179e"
            ],
            [
             0.4444444444444444,
             "#bd3786"
            ],
            [
             0.5555555555555556,
             "#d8576b"
            ],
            [
             0.6666666666666666,
             "#ed7953"
            ],
            [
             0.7777777777777778,
             "#fb9f3a"
            ],
            [
             0.8888888888888888,
             "#fdca26"
            ],
            [
             1,
             "#f0f921"
            ]
           ]
          },
          "colorway": [
           "#636efa",
           "#EF553B",
           "#00cc96",
           "#ab63fa",
           "#FFA15A",
           "#19d3f3",
           "#FF6692",
           "#B6E880",
           "#FF97FF",
           "#FECB52"
          ],
          "font": {
           "color": "#2a3f5f"
          },
          "geo": {
           "bgcolor": "white",
           "lakecolor": "white",
           "landcolor": "#E5ECF6",
           "showlakes": true,
           "showland": true,
           "subunitcolor": "white"
          },
          "hoverlabel": {
           "align": "left"
          },
          "hovermode": "closest",
          "mapbox": {
           "style": "light"
          },
          "paper_bgcolor": "white",
          "plot_bgcolor": "#E5ECF6",
          "polar": {
           "angularaxis": {
            "gridcolor": "white",
            "linecolor": "white",
            "ticks": ""
           },
           "bgcolor": "#E5ECF6",
           "radialaxis": {
            "gridcolor": "white",
            "linecolor": "white",
            "ticks": ""
           }
          },
          "scene": {
           "xaxis": {
            "backgroundcolor": "#E5ECF6",
            "gridcolor": "white",
            "gridwidth": 2,
            "linecolor": "white",
            "showbackground": true,
            "ticks": "",
            "zerolinecolor": "white"
           },
           "yaxis": {
            "backgroundcolor": "#E5ECF6",
            "gridcolor": "white",
            "gridwidth": 2,
            "linecolor": "white",
            "showbackground": true,
            "ticks": "",
            "zerolinecolor": "white"
           },
           "zaxis": {
            "backgroundcolor": "#E5ECF6",
            "gridcolor": "white",
            "gridwidth": 2,
            "linecolor": "white",
            "showbackground": true,
            "ticks": "",
            "zerolinecolor": "white"
           }
          },
          "shapedefaults": {
           "line": {
            "color": "#2a3f5f"
           }
          },
          "ternary": {
           "aaxis": {
            "gridcolor": "white",
            "linecolor": "white",
            "ticks": ""
           },
           "baxis": {
            "gridcolor": "white",
            "linecolor": "white",
            "ticks": ""
           },
           "bgcolor": "#E5ECF6",
           "caxis": {
            "gridcolor": "white",
            "linecolor": "white",
            "ticks": ""
           }
          },
          "title": {
           "x": 0.05
          },
          "xaxis": {
           "automargin": true,
           "gridcolor": "white",
           "linecolor": "white",
           "ticks": "",
           "title": {
            "standoff": 15
           },
           "zerolinecolor": "white",
           "zerolinewidth": 2
          },
          "yaxis": {
           "automargin": true,
           "gridcolor": "white",
           "linecolor": "white",
           "ticks": "",
           "title": {
            "standoff": 15
           },
           "zerolinecolor": "white",
           "zerolinewidth": 2
          }
         }
        },
        "title": {
         "text": "t-SNE Visualization"
        },
        "width": 800,
        "xaxis": {
         "anchor": "y",
         "domain": [
          0,
          1
         ],
         "title": {
          "text": "X0"
         }
        },
        "yaxis": {
         "anchor": "x",
         "domain": [
          0,
          1
         ],
         "title": {
          "text": "X1"
         }
        }
       }
      },
      "text/html": [
       "<div>                            <div id=\"c9e54d4c-38d8-4b2c-9c47-c276f8288014\" class=\"plotly-graph-div\" style=\"height:600px; width:800px;\"></div>            <script type=\"text/javascript\">                require([\"plotly\"], function(Plotly) {                    window.PLOTLYENV=window.PLOTLYENV || {};                                    if (document.getElementById(\"c9e54d4c-38d8-4b2c-9c47-c276f8288014\")) {                    Plotly.newPlot(                        \"c9e54d4c-38d8-4b2c-9c47-c276f8288014\",                        [{\"hovertemplate\":\"Class=Class 3\\u003cbr\\u003eX0=%{x}\\u003cbr\\u003eX1=%{y}\\u003cextra\\u003e\\u003c\\u002fextra\\u003e\",\"legendgroup\":\"Class 3\",\"marker\":{\"color\":\"#636efa\",\"symbol\":\"circle\"},\"mode\":\"markers\",\"name\":\"Class 3\",\"orientation\":\"v\",\"showlegend\":true,\"x\":[2.3669652938842773,2.146101951599121,-2.1396307945251465,0.00038451034924946725,-0.35168033838272095,0.7915765643119812,3.3822124004364014,4.4979729652404785,-1.3901787996292114,-1.9474942684173584,2.859431266784668,3.901641607284546,3.290930986404419,-1.5830516815185547],\"xaxis\":\"x\",\"y\":[3.1626040935516357,0.04025304317474365,-1.0095261335372925,2.268725633621216,-1.8874661922454834,0.8317938446998596,-0.568973183631897,-0.8237098455429077,-0.47716856002807617,-2.366107702255249,0.31762459874153137,0.4378672242164612,0.6530329585075378,-3.5090088844299316],\"yaxis\":\"y\",\"type\":\"scatter\"},{\"hovertemplate\":\"Class=Class 9\\u003cbr\\u003eX0=%{x}\\u003cbr\\u003eX1=%{y}\\u003cextra\\u003e\\u003c\\u002fextra\\u003e\",\"legendgroup\":\"Class 9\",\"marker\":{\"color\":\"#EF553B\",\"symbol\":\"circle\"},\"mode\":\"markers\",\"name\":\"Class 9\",\"orientation\":\"v\",\"showlegend\":true,\"x\":[0.6123242974281311,0.41702598333358765,-0.06596960127353668,-0.5463437438011169,1.0834906101226807,1.124849796295166,0.8660736680030823,0.006913562770932913,1.7704863548278809,-1.435731291770935,0.2096865177154541],\"xaxis\":\"x\",\"y\":[-0.09298491477966309,-0.20354817807674408,0.08335624635219574,2.7456486225128174,-0.3040139675140381,0.13835327327251434,-2.4822781085968018,2.9768378734588623,-3.557769536972046,-1.6838626861572266,1.4515916109085083],\"yaxis\":\"y\",\"type\":\"scatter\"},{\"hovertemplate\":\"Class=Class 6\\u003cbr\\u003eX0=%{x}\\u003cbr\\u003eX1=%{y}\\u003cextra\\u003e\\u003c\\u002fextra\\u003e\",\"legendgroup\":\"Class 6\",\"marker\":{\"color\":\"#00cc96\",\"symbol\":\"circle\"},\"mode\":\"markers\",\"name\":\"Class 6\",\"orientation\":\"v\",\"showlegend\":true,\"x\":[1.450866937637329,-1.6874810457229614,2.3335204124450684,3.8052828311920166,-0.21156513690948486,0.20328941941261292,2.056171178817749,2.7888364791870117,2.425356149673462,3.8721609115600586,-0.40708062052726746,0.7638925313949585,0.7201998233795166,0.8725259900093079,-1.8059006929397583,2.456580638885498,2.6184380054473877,-0.6199785470962524,1.6416044235229492,0.4054723083972931,1.33543062210083,1.2348026037216187,0.7504478693008423,1.4123491048812866,0.44135403633117676,-1.2757377624511719,-2.55114483833313,2.457465410232544,0.8062912821769714,3.529374122619629,2.905611753463745],\"xaxis\":\"x\",\"y\":[-0.6849802136421204,-2.934257745742798,-2.8812503814697266,-1.1987836360931396,-3.1465561389923096,0.3799773156642914,-0.3575386703014374,0.40218839049339294,-2.753605604171753,1.587066650390625,-1.0007654428482056,3.4435694217681885,-1.8984830379486084,0.1699017584323883,-1.6538132429122925,-1.278186559677124,-0.8747630715370178,-3.950058937072754,-1.614640235900879,-2.8457162380218506,2.9833872318267822,-2.1324050426483154,-1.2807096242904663,1.9884872436523438,1.0063155889511108,-1.2103899717330933,-1.4617892503738403,1.9840631484985352,-1.8716362714767456,-2.8671700954437256,-1.0775682926177979],\"yaxis\":\"y\",\"type\":\"scatter\"},{\"hovertemplate\":\"Class=Class 7\\u003cbr\\u003eX0=%{x}\\u003cbr\\u003eX1=%{y}\\u003cextra\\u003e\\u003c\\u002fextra\\u003e\",\"legendgroup\":\"Class 7\",\"marker\":{\"color\":\"#ab63fa\",\"symbol\":\"circle\"},\"mode\":\"markers\",\"name\":\"Class 7\",\"orientation\":\"v\",\"showlegend\":true,\"x\":[0.9597379565238953,-2.3819870948791504,1.5153419971466064,3.866469383239746,3.0790634155273438,-1.7958534955978394,4.469247817993164,-2.4183197021484375,2.8265130519866943,2.2190113067626953,3.401216745376587,2.2083446979522705,-1.3778305053710938,0.992554783821106,-1.3808010816574097],\"xaxis\":\"x\",\"y\":[-0.4456932246685028,0.6954449415206909,0.23723194003105164,-0.01037515513598919,-1.5515350103378296,-0.6383863687515259,-0.7538151741027832,-0.30958685278892517,0.42340371012687683,-2.3105735778808594,1.0147349834442139,-0.9558615684509277,-3.614583969116211,0.35396021604537964,1.1054941415786743],\"yaxis\":\"y\",\"type\":\"scatter\"},{\"hovertemplate\":\"Class=Class 8\\u003cbr\\u003eX0=%{x}\\u003cbr\\u003eX1=%{y}\\u003cextra\\u003e\\u003c\\u002fextra\\u003e\",\"legendgroup\":\"Class 8\",\"marker\":{\"color\":\"#FFA15A\",\"symbol\":\"circle\"},\"mode\":\"markers\",\"name\":\"Class 8\",\"orientation\":\"v\",\"showlegend\":true,\"x\":[2.0151729583740234,-0.9317675828933716,-0.8025310635566711,0.8369594812393188,1.5605216026306152,0.5179135799407959,-1.3396930694580078,2.612386465072632,1.4870672225952148,1.9792901277542114,-0.3979184329509735,2.4808316230773926,-0.32238611578941345,-2.5148282051086426,-0.4733363091945648,-1.7769834995269775,3.288320779800415,0.6283398270606995,2.8940110206604004,1.571305513381958,-0.8595097661018372],\"xaxis\":\"x\",\"y\":[1.2879621982574463,1.9096750020980835,-1.5206481218338013,1.9162043333053589,0.04659299924969673,-1.6648601293563843,-2.0340378284454346,-0.6380518674850464,1.2953770160675049,0.6159076690673828,-1.7687397003173828,-3.5973262786865234,-0.08060017973184586,-0.410964697599411,-1.1123281717300415,0.8745836615562439,0.13226920366287231,2.170067071914673,-0.4217175543308258,-2.3808395862579346,-2.08323073387146],\"yaxis\":\"y\",\"type\":\"scatter\"},{\"hovertemplate\":\"Class=Class 11\\u003cbr\\u003eX0=%{x}\\u003cbr\\u003eX1=%{y}\\u003cextra\\u003e\\u003c\\u002fextra\\u003e\",\"legendgroup\":\"Class 11\",\"marker\":{\"color\":\"#19d3f3\",\"symbol\":\"circle\"},\"mode\":\"markers\",\"name\":\"Class 11\",\"orientation\":\"v\",\"showlegend\":true,\"x\":[-0.32096067070961,3.828944444656372,2.040433168411255,2.3903138637542725,2.4566116333007812,2.268160343170166,3.0342891216278076,0.43091753125190735,0.9030565619468689,1.5761802196502686,2.204289197921753,1.5807416439056396,1.3268592357635498],\"xaxis\":\"x\",\"y\":[1.1183894872665405,-1.6198792457580566,1.030773639678955,-0.23741433024406433,2.1135592460632324,-2.3463313579559326,-0.8536754846572876,-3.7197983264923096,-1.5847290754318237,-0.15567956864833832,1.1822404861450195,-1.1433634757995605,0.6872974634170532],\"yaxis\":\"y\",\"type\":\"scatter\"},{\"hovertemplate\":\"Class=Class 14\\u003cbr\\u003eX0=%{x}\\u003cbr\\u003eX1=%{y}\\u003cextra\\u003e\\u003c\\u002fextra\\u003e\",\"legendgroup\":\"Class 14\",\"marker\":{\"color\":\"#FF6692\",\"symbol\":\"circle\"},\"mode\":\"markers\",\"name\":\"Class 14\",\"orientation\":\"v\",\"showlegend\":true,\"x\":[4.819435119628906,1.703675389289856,-1.49967360496521,3.160228967666626,-1.1232634782791138,1.959996223449707,1.6443554162979126,0.49686962366104126,1.6185476779937744],\"xaxis\":\"x\",\"y\":[-0.42005518078804016,-1.0284291505813599,-1.050230860710144,-0.41086483001708984,0.5465399026870728,-1.462700605392456,1.4679049253463745,1.4862369298934937,-1.7088377475738525],\"yaxis\":\"y\",\"type\":\"scatter\"},{\"hovertemplate\":\"Class=Class 1\\u003cbr\\u003eX0=%{x}\\u003cbr\\u003eX1=%{y}\\u003cextra\\u003e\\u003c\\u002fextra\\u003e\",\"legendgroup\":\"Class 1\",\"marker\":{\"color\":\"#B6E880\",\"symbol\":\"circle\"},\"mode\":\"markers\",\"name\":\"Class 1\",\"orientation\":\"v\",\"showlegend\":true,\"x\":[0.6342518925666809,-1.7284189462661743,-0.3097746670246124,-1.3136117458343506,3.260838508605957,3.641754150390625,0.6986203193664551,0.8617696166038513,0.3226802349090576,1.4027576446533203,3.58366060256958,0.20549669861793518,2.835608959197998],\"xaxis\":\"x\",\"y\":[-2.2645020484924316,0.23243539035320282,-0.785980761051178,2.4204177856445312,-2.9785962104797363,2.558767318725586,-2.9579885005950928,-1.3868236541748047,1.331045150756836,-3.130077838897705,-1.4152612686157227,-0.6386092901229858,-0.3785855174064636],\"yaxis\":\"y\",\"type\":\"scatter\"},{\"hovertemplate\":\"Class=Class 12\\u003cbr\\u003eX0=%{x}\\u003cbr\\u003eX1=%{y}\\u003cextra\\u003e\\u003c\\u002fextra\\u003e\",\"legendgroup\":\"Class 12\",\"marker\":{\"color\":\"#FF97FF\",\"symbol\":\"circle\"},\"mode\":\"markers\",\"name\":\"Class 12\",\"orientation\":\"v\",\"showlegend\":true,\"x\":[4.171557903289795,1.884168028831482,2.6740810871124268,0.14002007246017456,0.8988624811172485,0.782493531703949,-0.20273764431476593,0.10548871010541916,-2.165714740753174,0.5425388216972351,-1.127856969833374,2.014265298843384,4.647983074188232,-0.9573552012443542,-0.4268033802509308,1.011501669883728,3.3252999782562256,-0.7441442608833313,1.0433385372161865,-1.6150414943695068,-0.03967263922095299,-1.3140288591384888,1.6156325340270996,0.9097023606300354],\"xaxis\":\"x\",\"y\":[0.4505003094673157,-4.121108531951904,0.9437733292579651,0.7576514482498169,-1.5360348224639893,-0.19311116635799408,1.6795670986175537,0.3392844796180725,0.6824923753738403,-1.5041433572769165,-0.5927630066871643,0.7902328968048096,1.4438424110412598,2.7614705562591553,0.7747067809104919,-0.14995044469833374,-2.661935806274414,-1.1527974605560303,-3.419243812561035,2.0743985176086426,-2.2135794162750244,-0.29952436685562134,-3.188131093978882,2.4517822265625],\"yaxis\":\"y\",\"type\":\"scatter\"},{\"hovertemplate\":\"Class=Class 0\\u003cbr\\u003eX0=%{x}\\u003cbr\\u003eX1=%{y}\\u003cextra\\u003e\\u003c\\u002fextra\\u003e\",\"legendgroup\":\"Class 0\",\"marker\":{\"color\":\"#FECB52\",\"symbol\":\"circle\"},\"mode\":\"markers\",\"name\":\"Class 0\",\"orientation\":\"v\",\"showlegend\":true,\"x\":[-0.765635073184967,0.4846819043159485,4.811453342437744,0.42875322699546814,4.770437717437744,2.0061497688293457,3.628586769104004,-0.4838365614414215,0.8132100701332092,-0.4654926359653473,1.6722743511199951,-1.4657783508300781,0.2793656289577484,3.2876226902008057,0.6174029111862183,0.27681994438171387],\"xaxis\":\"x\",\"y\":[0.19739973545074463,0.7486209273338318,-0.9484951496124268,-1.358776330947876,-0.18881238996982574,0.135330930352211,2.6543450355529785,0.05586165562272072,-0.3411687910556793,-3.0659430027008057,2.278507709503174,2.029649257659912,2.3254127502441406,-2.7211320400238037,-1.3832377195358276,0.5537647604942322],\"yaxis\":\"y\",\"type\":\"scatter\"},{\"hovertemplate\":\"Class=Class 13\\u003cbr\\u003eX0=%{x}\\u003cbr\\u003eX1=%{y}\\u003cextra\\u003e\\u003c\\u002fextra\\u003e\",\"legendgroup\":\"Class 13\",\"marker\":{\"color\":\"#636efa\",\"symbol\":\"circle\"},\"mode\":\"markers\",\"name\":\"Class 13\",\"orientation\":\"v\",\"showlegend\":true,\"x\":[2.3339099884033203,-2.675837516784668,-0.2575322687625885,3.9046666622161865,1.299682378768921,0.41360676288604736,-1.9206769466400146,1.1448872089385986,2.3439114093780518,3.074429750442505,0.16743968427181244,1.8092858791351318,0.07262824475765228,0.8469125032424927,-0.05865073576569557,1.6269477605819702],\"xaxis\":\"x\",\"y\":[-1.7826284170150757,-2.0801424980163574,0.7995025515556335,0.10581263899803162,-2.0079526901245117,-0.3579235076904297,-0.3454987704753876,-4.102659225463867,0.17911793291568756,1.856603980064392,-3.680013418197632,2.172130584716797,-1.4742248058319092,1.004082202911377,2.0546369552612305,-2.8071343898773193],\"yaxis\":\"y\",\"type\":\"scatter\"},{\"hovertemplate\":\"Class=Class 5\\u003cbr\\u003eX0=%{x}\\u003cbr\\u003eX1=%{y}\\u003cextra\\u003e\\u003c\\u002fextra\\u003e\",\"legendgroup\":\"Class 5\",\"marker\":{\"color\":\"#EF553B\",\"symbol\":\"circle\"},\"mode\":\"markers\",\"name\":\"Class 5\",\"orientation\":\"v\",\"showlegend\":true,\"x\":[2.6521589756011963,-1.9384981393814087,2.6685354709625244,0.5538551211357117,1.6739476919174194,3.639972448348999,1.584003210067749,3.394202709197998,1.8136593103408813,1.4898135662078857,4.529498100280762,1.4535176753997803,-0.1441720724105835,-0.13397693634033203],\"xaxis\":\"x\",\"y\":[2.625516653060913,-3.221172332763672,-1.4390249252319336,0.4374551475048065,1.471940040588379,-1.5952404737472534,2.0959970951080322,1.259010672569275,-1.4592292308807373,-0.9195220470428467,-0.6644155979156494,-0.5075762867927551,-2.2159056663513184,1.1359294652938843],\"yaxis\":\"y\",\"type\":\"scatter\"},{\"hovertemplate\":\"Class=Class 4\\u003cbr\\u003eX0=%{x}\\u003cbr\\u003eX1=%{y}\\u003cextra\\u003e\\u003c\\u002fextra\\u003e\",\"legendgroup\":\"Class 4\",\"marker\":{\"color\":\"#00cc96\",\"symbol\":\"circle\"},\"mode\":\"markers\",\"name\":\"Class 4\",\"orientation\":\"v\",\"showlegend\":true,\"x\":[2.3927154541015625,2.56308650970459,1.411818265914917,1.7764233350753784,1.109131932258606,2.9990596771240234,2.2804007530212402,1.735846757888794,0.5355079174041748,-0.9799593091011047,-1.376321792602539,-0.5568938255310059,0.1325118988752365,-1.2997031211853027,0.33738988637924194,-2.927185535430908,0.4999030530452728,0.8711212277412415,4.630038261413574,0.9042015075683594],\"xaxis\":\"x\",\"y\":[-0.5659849643707275,0.653258740901947,0.5727018713951111,0.07785247266292572,-0.0792771726846695,1.2655961513519287,-0.73798006772995,0.5846441388130188,-0.4518682360649109,-0.3346543312072754,0.9015770554542542,-2.5052545070648193,-1.5706496238708496,-1.704360842704773,-4.386429786682129,0.8521308898925781,0.900698184967041,2.055558919906616,1.4853955507278442,0.692595899105072],\"yaxis\":\"y\",\"type\":\"scatter\"},{\"hovertemplate\":\"Class=Class 2\\u003cbr\\u003eX0=%{x}\\u003cbr\\u003eX1=%{y}\\u003cextra\\u003e\\u003c\\u002fextra\\u003e\",\"legendgroup\":\"Class 2\",\"marker\":{\"color\":\"#ab63fa\",\"symbol\":\"circle\"},\"mode\":\"markers\",\"name\":\"Class 2\",\"orientation\":\"v\",\"showlegend\":true,\"x\":[0.2915860414505005,3.0314345359802246,1.5352429151535034,0.11950023472309113,0.817776083946228,0.775456428527832,1.2503925561904907,1.7924901247024536,0.3228965699672699,2.487400531768799,0.425702303647995,-0.405802845954895,-1.436448097229004,2.856952667236328,2.4188106060028076,0.8664336800575256],\"xaxis\":\"x\",\"y\":[-2.6192617416381836,-2.4644784927368164,-0.08301134407520294,-0.47936397790908813,-0.9442153573036194,3.6963610649108887,0.8958080410957336,-0.18824827671051025,-0.63274085521698,-2.816817283630371,-0.6922878623008728,-1.3613420724868774,0.8863769769668579,1.8267323970794678,-0.9365651607513428,-1.5100377798080444],\"yaxis\":\"y\",\"type\":\"scatter\"},{\"hovertemplate\":\"Class=Class 15\\u003cbr\\u003eX0=%{x}\\u003cbr\\u003eX1=%{y}\\u003cextra\\u003e\\u003c\\u002fextra\\u003e\",\"legendgroup\":\"Class 15\",\"marker\":{\"color\":\"#FFA15A\",\"symbol\":\"circle\"},\"mode\":\"markers\",\"name\":\"Class 15\",\"orientation\":\"v\",\"showlegend\":true,\"x\":[-0.630064845085144,4.0943450927734375,-2.194276809692383,-0.8487218022346497,4.125735282897949,-1.256773591041565,-0.7708463072776794,2.2001538276672363,2.8383820056915283,-2.4057137966156006,-1.3290834426879883,0.9492666721343994,1.4064778089523315],\"xaxis\":\"x\",\"y\":[-2.2231454849243164,-2.2556686401367188,0.5359725952148438,1.9893569946289062,-3.062927722930908,-0.5262026786804199,-1.1221120357513428,-2.0565879344940186,-3.7951972484588623,1.6333755254745483,-0.783436119556427,-0.5711135268211365,-0.9572644233703613],\"yaxis\":\"y\",\"type\":\"scatter\"},{\"hovertemplate\":\"Class=Class 10\\u003cbr\\u003eX0=%{x}\\u003cbr\\u003eX1=%{y}\\u003cextra\\u003e\\u003c\\u002fextra\\u003e\",\"legendgroup\":\"Class 10\",\"marker\":{\"color\":\"#19d3f3\",\"symbol\":\"circle\"},\"mode\":\"markers\",\"name\":\"Class 10\",\"orientation\":\"v\",\"showlegend\":true,\"x\":[1.6084275245666504,-0.5147998929023743,-0.29804638028144836,1.4237312078475952,1.1045734882354736,2.367147207260132,-0.7459914088249207,-0.9347248077392578,-1.2085046768188477,-0.14709486067295074],\"xaxis\":\"x\",\"y\":[1.6921334266662598,-2.613492250442505,-0.07669158279895782,-2.4461324214935303,-1.3430079221725464,-2.0421528816223145,0.9435855150222778,0.08107157051563263,1.2721787691116333,-1.7002325057983398],\"yaxis\":\"y\",\"type\":\"scatter\"}],                        {\"template\":{\"data\":{\"histogram2dcontour\":[{\"type\":\"histogram2dcontour\",\"colorbar\":{\"outlinewidth\":0,\"ticks\":\"\"},\"colorscale\":[[0.0,\"#0d0887\"],[0.1111111111111111,\"#46039f\"],[0.2222222222222222,\"#7201a8\"],[0.3333333333333333,\"#9c179e\"],[0.4444444444444444,\"#bd3786\"],[0.5555555555555556,\"#d8576b\"],[0.6666666666666666,\"#ed7953\"],[0.7777777777777778,\"#fb9f3a\"],[0.8888888888888888,\"#fdca26\"],[1.0,\"#f0f921\"]]}],\"choropleth\":[{\"type\":\"choropleth\",\"colorbar\":{\"outlinewidth\":0,\"ticks\":\"\"}}],\"histogram2d\":[{\"type\":\"histogram2d\",\"colorbar\":{\"outlinewidth\":0,\"ticks\":\"\"},\"colorscale\":[[0.0,\"#0d0887\"],[0.1111111111111111,\"#46039f\"],[0.2222222222222222,\"#7201a8\"],[0.3333333333333333,\"#9c179e\"],[0.4444444444444444,\"#bd3786\"],[0.5555555555555556,\"#d8576b\"],[0.6666666666666666,\"#ed7953\"],[0.7777777777777778,\"#fb9f3a\"],[0.8888888888888888,\"#fdca26\"],[1.0,\"#f0f921\"]]}],\"heatmap\":[{\"type\":\"heatmap\",\"colorbar\":{\"outlinewidth\":0,\"ticks\":\"\"},\"colorscale\":[[0.0,\"#0d0887\"],[0.1111111111111111,\"#46039f\"],[0.2222222222222222,\"#7201a8\"],[0.3333333333333333,\"#9c179e\"],[0.4444444444444444,\"#bd3786\"],[0.5555555555555556,\"#d8576b\"],[0.6666666666666666,\"#ed7953\"],[0.7777777777777778,\"#fb9f3a\"],[0.8888888888888888,\"#fdca26\"],[1.0,\"#f0f921\"]]}],\"heatmapgl\":[{\"type\":\"heatmapgl\",\"colorbar\":{\"outlinewidth\":0,\"ticks\":\"\"},\"colorscale\":[[0.0,\"#0d0887\"],[0.1111111111111111,\"#46039f\"],[0.2222222222222222,\"#7201a8\"],[0.3333333333333333,\"#9c179e\"],[0.4444444444444444,\"#bd3786\"],[0.5555555555555556,\"#d8576b\"],[0.6666666666666666,\"#ed7953\"],[0.7777777777777778,\"#fb9f3a\"],[0.8888888888888888,\"#fdca26\"],[1.0,\"#f0f921\"]]}],\"contourcarpet\":[{\"type\":\"contourcarpet\",\"colorbar\":{\"outlinewidth\":0,\"ticks\":\"\"}}],\"contour\":[{\"type\":\"contour\",\"colorbar\":{\"outlinewidth\":0,\"ticks\":\"\"},\"colorscale\":[[0.0,\"#0d0887\"],[0.1111111111111111,\"#46039f\"],[0.2222222222222222,\"#7201a8\"],[0.3333333333333333,\"#9c179e\"],[0.4444444444444444,\"#bd3786\"],[0.5555555555555556,\"#d8576b\"],[0.6666666666666666,\"#ed7953\"],[0.7777777777777778,\"#fb9f3a\"],[0.8888888888888888,\"#fdca26\"],[1.0,\"#f0f921\"]]}],\"surface\":[{\"type\":\"surface\",\"colorbar\":{\"outlinewidth\":0,\"ticks\":\"\"},\"colorscale\":[[0.0,\"#0d0887\"],[0.1111111111111111,\"#46039f\"],[0.2222222222222222,\"#7201a8\"],[0.3333333333333333,\"#9c179e\"],[0.4444444444444444,\"#bd3786\"],[0.5555555555555556,\"#d8576b\"],[0.6666666666666666,\"#ed7953\"],[0.7777777777777778,\"#fb9f3a\"],[0.8888888888888888,\"#fdca26\"],[1.0,\"#f0f921\"]]}],\"mesh3d\":[{\"type\":\"mesh3d\",\"colorbar\":{\"outlinewidth\":0,\"ticks\":\"\"}}],\"scatter\":[{\"fillpattern\":{\"fillmode\":\"overlay\",\"size\":10,\"solidity\":0.2},\"type\":\"scatter\"}],\"parcoords\":[{\"type\":\"parcoords\",\"line\":{\"colorbar\":{\"outlinewidth\":0,\"ticks\":\"\"}}}],\"scatterpolargl\":[{\"type\":\"scatterpolargl\",\"marker\":{\"colorbar\":{\"outlinewidth\":0,\"ticks\":\"\"}}}],\"bar\":[{\"error_x\":{\"color\":\"#2a3f5f\"},\"error_y\":{\"color\":\"#2a3f5f\"},\"marker\":{\"line\":{\"color\":\"#E5ECF6\",\"width\":0.5},\"pattern\":{\"fillmode\":\"overlay\",\"size\":10,\"solidity\":0.2}},\"type\":\"bar\"}],\"scattergeo\":[{\"type\":\"scattergeo\",\"marker\":{\"colorbar\":{\"outlinewidth\":0,\"ticks\":\"\"}}}],\"scatterpolar\":[{\"type\":\"scatterpolar\",\"marker\":{\"colorbar\":{\"outlinewidth\":0,\"ticks\":\"\"}}}],\"histogram\":[{\"marker\":{\"pattern\":{\"fillmode\":\"overlay\",\"size\":10,\"solidity\":0.2}},\"type\":\"histogram\"}],\"scattergl\":[{\"type\":\"scattergl\",\"marker\":{\"colorbar\":{\"outlinewidth\":0,\"ticks\":\"\"}}}],\"scatter3d\":[{\"type\":\"scatter3d\",\"line\":{\"colorbar\":{\"outlinewidth\":0,\"ticks\":\"\"}},\"marker\":{\"colorbar\":{\"outlinewidth\":0,\"ticks\":\"\"}}}],\"scattermapbox\":[{\"type\":\"scattermapbox\",\"marker\":{\"colorbar\":{\"outlinewidth\":0,\"ticks\":\"\"}}}],\"scatterternary\":[{\"type\":\"scatterternary\",\"marker\":{\"colorbar\":{\"outlinewidth\":0,\"ticks\":\"\"}}}],\"scattercarpet\":[{\"type\":\"scattercarpet\",\"marker\":{\"colorbar\":{\"outlinewidth\":0,\"ticks\":\"\"}}}],\"carpet\":[{\"aaxis\":{\"endlinecolor\":\"#2a3f5f\",\"gridcolor\":\"white\",\"linecolor\":\"white\",\"minorgridcolor\":\"white\",\"startlinecolor\":\"#2a3f5f\"},\"baxis\":{\"endlinecolor\":\"#2a3f5f\",\"gridcolor\":\"white\",\"linecolor\":\"white\",\"minorgridcolor\":\"white\",\"startlinecolor\":\"#2a3f5f\"},\"type\":\"carpet\"}],\"table\":[{\"cells\":{\"fill\":{\"color\":\"#EBF0F8\"},\"line\":{\"color\":\"white\"}},\"header\":{\"fill\":{\"color\":\"#C8D4E3\"},\"line\":{\"color\":\"white\"}},\"type\":\"table\"}],\"barpolar\":[{\"marker\":{\"line\":{\"color\":\"#E5ECF6\",\"width\":0.5},\"pattern\":{\"fillmode\":\"overlay\",\"size\":10,\"solidity\":0.2}},\"type\":\"barpolar\"}],\"pie\":[{\"automargin\":true,\"type\":\"pie\"}]},\"layout\":{\"autotypenumbers\":\"strict\",\"colorway\":[\"#636efa\",\"#EF553B\",\"#00cc96\",\"#ab63fa\",\"#FFA15A\",\"#19d3f3\",\"#FF6692\",\"#B6E880\",\"#FF97FF\",\"#FECB52\"],\"font\":{\"color\":\"#2a3f5f\"},\"hovermode\":\"closest\",\"hoverlabel\":{\"align\":\"left\"},\"paper_bgcolor\":\"white\",\"plot_bgcolor\":\"#E5ECF6\",\"polar\":{\"bgcolor\":\"#E5ECF6\",\"angularaxis\":{\"gridcolor\":\"white\",\"linecolor\":\"white\",\"ticks\":\"\"},\"radialaxis\":{\"gridcolor\":\"white\",\"linecolor\":\"white\",\"ticks\":\"\"}},\"ternary\":{\"bgcolor\":\"#E5ECF6\",\"aaxis\":{\"gridcolor\":\"white\",\"linecolor\":\"white\",\"ticks\":\"\"},\"baxis\":{\"gridcolor\":\"white\",\"linecolor\":\"white\",\"ticks\":\"\"},\"caxis\":{\"gridcolor\":\"white\",\"linecolor\":\"white\",\"ticks\":\"\"}},\"coloraxis\":{\"colorbar\":{\"outlinewidth\":0,\"ticks\":\"\"}},\"colorscale\":{\"sequential\":[[0.0,\"#0d0887\"],[0.1111111111111111,\"#46039f\"],[0.2222222222222222,\"#7201a8\"],[0.3333333333333333,\"#9c179e\"],[0.4444444444444444,\"#bd3786\"],[0.5555555555555556,\"#d8576b\"],[0.6666666666666666,\"#ed7953\"],[0.7777777777777778,\"#fb9f3a\"],[0.8888888888888888,\"#fdca26\"],[1.0,\"#f0f921\"]],\"sequentialminus\":[[0.0,\"#0d0887\"],[0.1111111111111111,\"#46039f\"],[0.2222222222222222,\"#7201a8\"],[0.3333333333333333,\"#9c179e\"],[0.4444444444444444,\"#bd3786\"],[0.5555555555555556,\"#d8576b\"],[0.6666666666666666,\"#ed7953\"],[0.7777777777777778,\"#fb9f3a\"],[0.8888888888888888,\"#fdca26\"],[1.0,\"#f0f921\"]],\"diverging\":[[0,\"#8e0152\"],[0.1,\"#c51b7d\"],[0.2,\"#de77ae\"],[0.3,\"#f1b6da\"],[0.4,\"#fde0ef\"],[0.5,\"#f7f7f7\"],[0.6,\"#e6f5d0\"],[0.7,\"#b8e186\"],[0.8,\"#7fbc41\"],[0.9,\"#4d9221\"],[1,\"#276419\"]]},\"xaxis\":{\"gridcolor\":\"white\",\"linecolor\":\"white\",\"ticks\":\"\",\"title\":{\"standoff\":15},\"zerolinecolor\":\"white\",\"automargin\":true,\"zerolinewidth\":2},\"yaxis\":{\"gridcolor\":\"white\",\"linecolor\":\"white\",\"ticks\":\"\",\"title\":{\"standoff\":15},\"zerolinecolor\":\"white\",\"automargin\":true,\"zerolinewidth\":2},\"scene\":{\"xaxis\":{\"backgroundcolor\":\"#E5ECF6\",\"gridcolor\":\"white\",\"linecolor\":\"white\",\"showbackground\":true,\"ticks\":\"\",\"zerolinecolor\":\"white\",\"gridwidth\":2},\"yaxis\":{\"backgroundcolor\":\"#E5ECF6\",\"gridcolor\":\"white\",\"linecolor\":\"white\",\"showbackground\":true,\"ticks\":\"\",\"zerolinecolor\":\"white\",\"gridwidth\":2},\"zaxis\":{\"backgroundcolor\":\"#E5ECF6\",\"gridcolor\":\"white\",\"linecolor\":\"white\",\"showbackground\":true,\"ticks\":\"\",\"zerolinecolor\":\"white\",\"gridwidth\":2}},\"shapedefaults\":{\"line\":{\"color\":\"#2a3f5f\"}},\"annotationdefaults\":{\"arrowcolor\":\"#2a3f5f\",\"arrowhead\":0,\"arrowwidth\":1},\"geo\":{\"bgcolor\":\"white\",\"landcolor\":\"#E5ECF6\",\"subunitcolor\":\"white\",\"showland\":true,\"showlakes\":true,\"lakecolor\":\"white\"},\"title\":{\"x\":0.05},\"mapbox\":{\"style\":\"light\"}}},\"xaxis\":{\"anchor\":\"y\",\"domain\":[0.0,1.0],\"title\":{\"text\":\"X0\"}},\"yaxis\":{\"anchor\":\"x\",\"domain\":[0.0,1.0],\"title\":{\"text\":\"X1\"}},\"legend\":{\"title\":{\"text\":\"Class\"},\"tracegroupgap\":0},\"title\":{\"text\":\"t-SNE Visualization\"},\"width\":800,\"height\":600},                        {\"responsive\": true}                    ).then(function(){\n",
       "                            \n",
       "var gd = document.getElementById('c9e54d4c-38d8-4b2c-9c47-c276f8288014');\n",
       "var x = new MutationObserver(function (mutations, observer) {{\n",
       "        var display = window.getComputedStyle(gd).display;\n",
       "        if (!display || display === 'none') {{\n",
       "            console.log([gd, 'removed!']);\n",
       "            Plotly.purge(gd);\n",
       "            observer.disconnect();\n",
       "        }}\n",
       "}});\n",
       "\n",
       "// Listen for the removal of the full notebook cells\n",
       "var notebookContainer = gd.closest('#notebook-container');\n",
       "if (notebookContainer) {{\n",
       "    x.observe(notebookContainer, {childList: true});\n",
       "}}\n",
       "\n",
       "// Listen for the clearing of the current output cell\n",
       "var outputEl = gd.closest('.output');\n",
       "if (outputEl) {{\n",
       "    x.observe(outputEl, {childList: true});\n",
       "}}\n",
       "\n",
       "                        })                };                });            </script>        </div>"
      ]
     },
     "metadata": {},
     "output_type": "display_data"
    }
   ],
   "source": [
    "import numpy as np\n",
    "import pandas as pd\n",
    "from sklearn.manifold import TSNE\n",
    "import plotly.express as px\n",
    "\n",
    "# Define your data\n",
    "X = np.random.randn(256, 128)\n",
    "\n",
    "# Apply t-SNE\n",
    "X_embedded = TSNE(n_components=2, learning_rate='auto',\n",
    "                  init='random').fit_transform(X)\n",
    "\n",
    "# Create a DataFrame with t-SNE results and class labels\n",
    "classes = np.random.randint(0, 16, 256)  # Assuming you have 16 classes\n",
    "classes = [f\"Class {c}\" for c in classes]\n",
    "data = {'X0': X_embedded[:, 0], 'X1': X_embedded[:, 1], 'Class': classes}\n",
    "df = pd.DataFrame(data)\n",
    "\n",
    "# Define a color map for each class\n",
    "color_map = {class_label: f'rgb({np.random.randint(0, 256)}, {np.random.randint(0, 256)}, {np.random.randint(0, 256)})'\n",
    "             for class_label in df['Class'].unique()}\n",
    "\n",
    "# Set the size of the Plotly figure and use the color map\n",
    "fig = px.scatter(df, x='X0', y='X1', color='Class', title='t-SNE Visualization')\n",
    "                #  labels={'Class': 'Class'}, color_discrete_sequence=color_map)\n",
    "\n",
    "# Set the width and height of the figure (you can adjust these values)\n",
    "fig.update_layout(width=600, height=600)\n",
    "\n",
    "# Show the figure\n",
    "fig.show()\n"
   ]
  },
  {
   "cell_type": "code",
   "execution_count": 20,
   "metadata": {},
   "outputs": [
    {
     "data": {
      "application/vnd.plotly.v1+json": {
       "config": {
        "plotlyServerURL": "https://plot.ly"
       },
       "data": [
        {
         "customdata": [
          [
           0.2
          ],
          [
           0.2
          ],
          [
           0.2
          ],
          [
           0.2
          ],
          [
           0.2
          ],
          [
           0.4
          ],
          [
           0.3
          ],
          [
           0.2
          ],
          [
           0.2
          ],
          [
           0.1
          ],
          [
           0.2
          ],
          [
           0.2
          ],
          [
           0.1
          ],
          [
           0.1
          ],
          [
           0.2
          ],
          [
           0.4
          ],
          [
           0.4
          ],
          [
           0.3
          ],
          [
           0.3
          ],
          [
           0.3
          ],
          [
           0.2
          ],
          [
           0.4
          ],
          [
           0.2
          ],
          [
           0.5
          ],
          [
           0.2
          ],
          [
           0.2
          ],
          [
           0.4
          ],
          [
           0.2
          ],
          [
           0.2
          ],
          [
           0.2
          ],
          [
           0.2
          ],
          [
           0.4
          ],
          [
           0.1
          ],
          [
           0.2
          ],
          [
           0.1
          ],
          [
           0.2
          ],
          [
           0.2
          ],
          [
           0.1
          ],
          [
           0.2
          ],
          [
           0.2
          ],
          [
           0.3
          ],
          [
           0.3
          ],
          [
           0.2
          ],
          [
           0.6
          ],
          [
           0.4
          ],
          [
           0.3
          ],
          [
           0.2
          ],
          [
           0.2
          ],
          [
           0.2
          ],
          [
           0.2
          ]
         ],
         "hovertemplate": "species=setosa<br>sepal_width=%{x}<br>sepal_length=%{y}<br>petal_length=%{marker.size}<br>petal_width=%{customdata[0]}<extra></extra>",
         "legendgroup": "setosa",
         "marker": {
          "color": "#636efa",
          "size": [
           1.4,
           1.4,
           1.3,
           1.5,
           1.4,
           1.7,
           1.4,
           1.5,
           1.4,
           1.5,
           1.5,
           1.6,
           1.4,
           1.1,
           1.2,
           1.5,
           1.3,
           1.4,
           1.7,
           1.5,
           1.7,
           1.5,
           1,
           1.7,
           1.9,
           1.6,
           1.6,
           1.5,
           1.4,
           1.6,
           1.6,
           1.5,
           1.5,
           1.4,
           1.5,
           1.2,
           1.3,
           1.5,
           1.3,
           1.5,
           1.3,
           1.3,
           1.3,
           1.6,
           1.9,
           1.4,
           1.6,
           1.4,
           1.5,
           1.4
          ],
          "sizemode": "area",
          "sizeref": 0.01725,
          "symbol": "circle"
         },
         "mode": "markers",
         "name": "setosa",
         "orientation": "v",
         "showlegend": true,
         "type": "scatter",
         "x": [
          3.5,
          3,
          3.2,
          3.1,
          3.6,
          3.9,
          3.4,
          3.4,
          2.9,
          3.1,
          3.7,
          3.4,
          3,
          3,
          4,
          4.4,
          3.9,
          3.5,
          3.8,
          3.8,
          3.4,
          3.7,
          3.6,
          3.3,
          3.4,
          3,
          3.4,
          3.5,
          3.4,
          3.2,
          3.1,
          3.4,
          4.1,
          4.2,
          3.1,
          3.2,
          3.5,
          3.1,
          3,
          3.4,
          3.5,
          2.3,
          3.2,
          3.5,
          3.8,
          3,
          3.8,
          3.2,
          3.7,
          3.3
         ],
         "xaxis": "x",
         "y": [
          5.1,
          4.9,
          4.7,
          4.6,
          5,
          5.4,
          4.6,
          5,
          4.4,
          4.9,
          5.4,
          4.8,
          4.8,
          4.3,
          5.8,
          5.7,
          5.4,
          5.1,
          5.7,
          5.1,
          5.4,
          5.1,
          4.6,
          5.1,
          4.8,
          5,
          5,
          5.2,
          5.2,
          4.7,
          4.8,
          5.4,
          5.2,
          5.5,
          4.9,
          5,
          5.5,
          4.9,
          4.4,
          5.1,
          5,
          4.5,
          4.4,
          5,
          5.1,
          4.8,
          5.1,
          4.6,
          5.3,
          5
         ],
         "yaxis": "y"
        },
        {
         "customdata": [
          [
           1.4
          ],
          [
           1.5
          ],
          [
           1.5
          ],
          [
           1.3
          ],
          [
           1.5
          ],
          [
           1.3
          ],
          [
           1.6
          ],
          [
           1
          ],
          [
           1.3
          ],
          [
           1.4
          ],
          [
           1
          ],
          [
           1.5
          ],
          [
           1
          ],
          [
           1.4
          ],
          [
           1.3
          ],
          [
           1.4
          ],
          [
           1.5
          ],
          [
           1
          ],
          [
           1.5
          ],
          [
           1.1
          ],
          [
           1.8
          ],
          [
           1.3
          ],
          [
           1.5
          ],
          [
           1.2
          ],
          [
           1.3
          ],
          [
           1.4
          ],
          [
           1.4
          ],
          [
           1.7
          ],
          [
           1.5
          ],
          [
           1
          ],
          [
           1.1
          ],
          [
           1
          ],
          [
           1.2
          ],
          [
           1.6
          ],
          [
           1.5
          ],
          [
           1.6
          ],
          [
           1.5
          ],
          [
           1.3
          ],
          [
           1.3
          ],
          [
           1.3
          ],
          [
           1.2
          ],
          [
           1.4
          ],
          [
           1.2
          ],
          [
           1
          ],
          [
           1.3
          ],
          [
           1.2
          ],
          [
           1.3
          ],
          [
           1.3
          ],
          [
           1.1
          ],
          [
           1.3
          ]
         ],
         "hovertemplate": "species=versicolor<br>sepal_width=%{x}<br>sepal_length=%{y}<br>petal_length=%{marker.size}<br>petal_width=%{customdata[0]}<extra></extra>",
         "legendgroup": "versicolor",
         "marker": {
          "color": "#EF553B",
          "size": [
           4.7,
           4.5,
           4.9,
           4,
           4.6,
           4.5,
           4.7,
           3.3,
           4.6,
           3.9,
           3.5,
           4.2,
           4,
           4.7,
           3.6,
           4.4,
           4.5,
           4.1,
           4.5,
           3.9,
           4.8,
           4,
           4.9,
           4.7,
           4.3,
           4.4,
           4.8,
           5,
           4.5,
           3.5,
           3.8,
           3.7,
           3.9,
           5.1,
           4.5,
           4.5,
           4.7,
           4.4,
           4.1,
           4,
           4.4,
           4.6,
           4,
           3.3,
           4.2,
           4.2,
           4.2,
           4.3,
           3,
           4.1
          ],
          "sizemode": "area",
          "sizeref": 0.01725,
          "symbol": "circle"
         },
         "mode": "markers",
         "name": "versicolor",
         "orientation": "v",
         "showlegend": true,
         "type": "scatter",
         "x": [
          3.2,
          3.2,
          3.1,
          2.3,
          2.8,
          2.8,
          3.3,
          2.4,
          2.9,
          2.7,
          2,
          3,
          2.2,
          2.9,
          2.9,
          3.1,
          3,
          2.7,
          2.2,
          2.5,
          3.2,
          2.8,
          2.5,
          2.8,
          2.9,
          3,
          2.8,
          3,
          2.9,
          2.6,
          2.4,
          2.4,
          2.7,
          2.7,
          3,
          3.4,
          3.1,
          2.3,
          3,
          2.5,
          2.6,
          3,
          2.6,
          2.3,
          2.7,
          3,
          2.9,
          2.9,
          2.5,
          2.8
         ],
         "xaxis": "x",
         "y": [
          7,
          6.4,
          6.9,
          5.5,
          6.5,
          5.7,
          6.3,
          4.9,
          6.6,
          5.2,
          5,
          5.9,
          6,
          6.1,
          5.6,
          6.7,
          5.6,
          5.8,
          6.2,
          5.6,
          5.9,
          6.1,
          6.3,
          6.1,
          6.4,
          6.6,
          6.8,
          6.7,
          6,
          5.7,
          5.5,
          5.5,
          5.8,
          6,
          5.4,
          6,
          6.7,
          6.3,
          5.6,
          5.5,
          5.5,
          6.1,
          5.8,
          5,
          5.6,
          5.7,
          5.7,
          6.2,
          5.1,
          5.7
         ],
         "yaxis": "y"
        },
        {
         "customdata": [
          [
           2.5
          ],
          [
           1.9
          ],
          [
           2.1
          ],
          [
           1.8
          ],
          [
           2.2
          ],
          [
           2.1
          ],
          [
           1.7
          ],
          [
           1.8
          ],
          [
           1.8
          ],
          [
           2.5
          ],
          [
           2
          ],
          [
           1.9
          ],
          [
           2.1
          ],
          [
           2
          ],
          [
           2.4
          ],
          [
           2.3
          ],
          [
           1.8
          ],
          [
           2.2
          ],
          [
           2.3
          ],
          [
           1.5
          ],
          [
           2.3
          ],
          [
           2
          ],
          [
           2
          ],
          [
           1.8
          ],
          [
           2.1
          ],
          [
           1.8
          ],
          [
           1.8
          ],
          [
           1.8
          ],
          [
           2.1
          ],
          [
           1.6
          ],
          [
           1.9
          ],
          [
           2
          ],
          [
           2.2
          ],
          [
           1.5
          ],
          [
           1.4
          ],
          [
           2.3
          ],
          [
           2.4
          ],
          [
           1.8
          ],
          [
           1.8
          ],
          [
           2.1
          ],
          [
           2.4
          ],
          [
           2.3
          ],
          [
           1.9
          ],
          [
           2.3
          ],
          [
           2.5
          ],
          [
           2.3
          ],
          [
           1.9
          ],
          [
           2
          ],
          [
           2.3
          ],
          [
           1.8
          ]
         ],
         "hovertemplate": "species=virginica<br>sepal_width=%{x}<br>sepal_length=%{y}<br>petal_length=%{marker.size}<br>petal_width=%{customdata[0]}<extra></extra>",
         "legendgroup": "virginica",
         "marker": {
          "color": "#00cc96",
          "size": [
           6,
           5.1,
           5.9,
           5.6,
           5.8,
           6.6,
           4.5,
           6.3,
           5.8,
           6.1,
           5.1,
           5.3,
           5.5,
           5,
           5.1,
           5.3,
           5.5,
           6.7,
           6.9,
           5,
           5.7,
           4.9,
           6.7,
           4.9,
           5.7,
           6,
           4.8,
           4.9,
           5.6,
           5.8,
           6.1,
           6.4,
           5.6,
           5.1,
           5.6,
           6.1,
           5.6,
           5.5,
           4.8,
           5.4,
           5.6,
           5.1,
           5.1,
           5.9,
           5.7,
           5.2,
           5,
           5.2,
           5.4,
           5.1
          ],
          "sizemode": "area",
          "sizeref": 0.01725,
          "symbol": "circle"
         },
         "mode": "markers",
         "name": "virginica",
         "orientation": "v",
         "showlegend": true,
         "type": "scatter",
         "x": [
          3.3,
          2.7,
          3,
          2.9,
          3,
          3,
          2.5,
          2.9,
          2.5,
          3.6,
          3.2,
          2.7,
          3,
          2.5,
          2.8,
          3.2,
          3,
          3.8,
          2.6,
          2.2,
          3.2,
          2.8,
          2.8,
          2.7,
          3.3,
          3.2,
          2.8,
          3,
          2.8,
          3,
          2.8,
          3.8,
          2.8,
          2.8,
          2.6,
          3,
          3.4,
          3.1,
          3,
          3.1,
          3.1,
          3.1,
          2.7,
          3.2,
          3.3,
          3,
          2.5,
          3,
          3.4,
          3
         ],
         "xaxis": "x",
         "y": [
          6.3,
          5.8,
          7.1,
          6.3,
          6.5,
          7.6,
          4.9,
          7.3,
          6.7,
          7.2,
          6.5,
          6.4,
          6.8,
          5.7,
          5.8,
          6.4,
          6.5,
          7.7,
          7.7,
          6,
          6.9,
          5.6,
          7.7,
          6.3,
          6.7,
          7.2,
          6.2,
          6.1,
          6.4,
          7.2,
          7.4,
          7.9,
          6.4,
          6.3,
          6.1,
          7.7,
          6.3,
          6.4,
          6,
          6.9,
          6.7,
          6.9,
          5.8,
          6.8,
          6.7,
          6.7,
          6.3,
          6.5,
          6.2,
          5.9
         ],
         "yaxis": "y"
        }
       ],
       "layout": {
        "legend": {
         "itemsizing": "constant",
         "title": {
          "text": "species"
         },
         "tracegroupgap": 0
        },
        "margin": {
         "t": 60
        },
        "template": {
         "data": {
          "bar": [
           {
            "error_x": {
             "color": "#2a3f5f"
            },
            "error_y": {
             "color": "#2a3f5f"
            },
            "marker": {
             "line": {
              "color": "#E5ECF6",
              "width": 0.5
             },
             "pattern": {
              "fillmode": "overlay",
              "size": 10,
              "solidity": 0.2
             }
            },
            "type": "bar"
           }
          ],
          "barpolar": [
           {
            "marker": {
             "line": {
              "color": "#E5ECF6",
              "width": 0.5
             },
             "pattern": {
              "fillmode": "overlay",
              "size": 10,
              "solidity": 0.2
             }
            },
            "type": "barpolar"
           }
          ],
          "carpet": [
           {
            "aaxis": {
             "endlinecolor": "#2a3f5f",
             "gridcolor": "white",
             "linecolor": "white",
             "minorgridcolor": "white",
             "startlinecolor": "#2a3f5f"
            },
            "baxis": {
             "endlinecolor": "#2a3f5f",
             "gridcolor": "white",
             "linecolor": "white",
             "minorgridcolor": "white",
             "startlinecolor": "#2a3f5f"
            },
            "type": "carpet"
           }
          ],
          "choropleth": [
           {
            "colorbar": {
             "outlinewidth": 0,
             "ticks": ""
            },
            "type": "choropleth"
           }
          ],
          "contour": [
           {
            "colorbar": {
             "outlinewidth": 0,
             "ticks": ""
            },
            "colorscale": [
             [
              0,
              "#0d0887"
             ],
             [
              0.1111111111111111,
              "#46039f"
             ],
             [
              0.2222222222222222,
              "#7201a8"
             ],
             [
              0.3333333333333333,
              "#9c179e"
             ],
             [
              0.4444444444444444,
              "#bd3786"
             ],
             [
              0.5555555555555556,
              "#d8576b"
             ],
             [
              0.6666666666666666,
              "#ed7953"
             ],
             [
              0.7777777777777778,
              "#fb9f3a"
             ],
             [
              0.8888888888888888,
              "#fdca26"
             ],
             [
              1,
              "#f0f921"
             ]
            ],
            "type": "contour"
           }
          ],
          "contourcarpet": [
           {
            "colorbar": {
             "outlinewidth": 0,
             "ticks": ""
            },
            "type": "contourcarpet"
           }
          ],
          "heatmap": [
           {
            "colorbar": {
             "outlinewidth": 0,
             "ticks": ""
            },
            "colorscale": [
             [
              0,
              "#0d0887"
             ],
             [
              0.1111111111111111,
              "#46039f"
             ],
             [
              0.2222222222222222,
              "#7201a8"
             ],
             [
              0.3333333333333333,
              "#9c179e"
             ],
             [
              0.4444444444444444,
              "#bd3786"
             ],
             [
              0.5555555555555556,
              "#d8576b"
             ],
             [
              0.6666666666666666,
              "#ed7953"
             ],
             [
              0.7777777777777778,
              "#fb9f3a"
             ],
             [
              0.8888888888888888,
              "#fdca26"
             ],
             [
              1,
              "#f0f921"
             ]
            ],
            "type": "heatmap"
           }
          ],
          "heatmapgl": [
           {
            "colorbar": {
             "outlinewidth": 0,
             "ticks": ""
            },
            "colorscale": [
             [
              0,
              "#0d0887"
             ],
             [
              0.1111111111111111,
              "#46039f"
             ],
             [
              0.2222222222222222,
              "#7201a8"
             ],
             [
              0.3333333333333333,
              "#9c179e"
             ],
             [
              0.4444444444444444,
              "#bd3786"
             ],
             [
              0.5555555555555556,
              "#d8576b"
             ],
             [
              0.6666666666666666,
              "#ed7953"
             ],
             [
              0.7777777777777778,
              "#fb9f3a"
             ],
             [
              0.8888888888888888,
              "#fdca26"
             ],
             [
              1,
              "#f0f921"
             ]
            ],
            "type": "heatmapgl"
           }
          ],
          "histogram": [
           {
            "marker": {
             "pattern": {
              "fillmode": "overlay",
              "size": 10,
              "solidity": 0.2
             }
            },
            "type": "histogram"
           }
          ],
          "histogram2d": [
           {
            "colorbar": {
             "outlinewidth": 0,
             "ticks": ""
            },
            "colorscale": [
             [
              0,
              "#0d0887"
             ],
             [
              0.1111111111111111,
              "#46039f"
             ],
             [
              0.2222222222222222,
              "#7201a8"
             ],
             [
              0.3333333333333333,
              "#9c179e"
             ],
             [
              0.4444444444444444,
              "#bd3786"
             ],
             [
              0.5555555555555556,
              "#d8576b"
             ],
             [
              0.6666666666666666,
              "#ed7953"
             ],
             [
              0.7777777777777778,
              "#fb9f3a"
             ],
             [
              0.8888888888888888,
              "#fdca26"
             ],
             [
              1,
              "#f0f921"
             ]
            ],
            "type": "histogram2d"
           }
          ],
          "histogram2dcontour": [
           {
            "colorbar": {
             "outlinewidth": 0,
             "ticks": ""
            },
            "colorscale": [
             [
              0,
              "#0d0887"
             ],
             [
              0.1111111111111111,
              "#46039f"
             ],
             [
              0.2222222222222222,
              "#7201a8"
             ],
             [
              0.3333333333333333,
              "#9c179e"
             ],
             [
              0.4444444444444444,
              "#bd3786"
             ],
             [
              0.5555555555555556,
              "#d8576b"
             ],
             [
              0.6666666666666666,
              "#ed7953"
             ],
             [
              0.7777777777777778,
              "#fb9f3a"
             ],
             [
              0.8888888888888888,
              "#fdca26"
             ],
             [
              1,
              "#f0f921"
             ]
            ],
            "type": "histogram2dcontour"
           }
          ],
          "mesh3d": [
           {
            "colorbar": {
             "outlinewidth": 0,
             "ticks": ""
            },
            "type": "mesh3d"
           }
          ],
          "parcoords": [
           {
            "line": {
             "colorbar": {
              "outlinewidth": 0,
              "ticks": ""
             }
            },
            "type": "parcoords"
           }
          ],
          "pie": [
           {
            "automargin": true,
            "type": "pie"
           }
          ],
          "scatter": [
           {
            "fillpattern": {
             "fillmode": "overlay",
             "size": 10,
             "solidity": 0.2
            },
            "type": "scatter"
           }
          ],
          "scatter3d": [
           {
            "line": {
             "colorbar": {
              "outlinewidth": 0,
              "ticks": ""
             }
            },
            "marker": {
             "colorbar": {
              "outlinewidth": 0,
              "ticks": ""
             }
            },
            "type": "scatter3d"
           }
          ],
          "scattercarpet": [
           {
            "marker": {
             "colorbar": {
              "outlinewidth": 0,
              "ticks": ""
             }
            },
            "type": "scattercarpet"
           }
          ],
          "scattergeo": [
           {
            "marker": {
             "colorbar": {
              "outlinewidth": 0,
              "ticks": ""
             }
            },
            "type": "scattergeo"
           }
          ],
          "scattergl": [
           {
            "marker": {
             "colorbar": {
              "outlinewidth": 0,
              "ticks": ""
             }
            },
            "type": "scattergl"
           }
          ],
          "scattermapbox": [
           {
            "marker": {
             "colorbar": {
              "outlinewidth": 0,
              "ticks": ""
             }
            },
            "type": "scattermapbox"
           }
          ],
          "scatterpolar": [
           {
            "marker": {
             "colorbar": {
              "outlinewidth": 0,
              "ticks": ""
             }
            },
            "type": "scatterpolar"
           }
          ],
          "scatterpolargl": [
           {
            "marker": {
             "colorbar": {
              "outlinewidth": 0,
              "ticks": ""
             }
            },
            "type": "scatterpolargl"
           }
          ],
          "scatterternary": [
           {
            "marker": {
             "colorbar": {
              "outlinewidth": 0,
              "ticks": ""
             }
            },
            "type": "scatterternary"
           }
          ],
          "surface": [
           {
            "colorbar": {
             "outlinewidth": 0,
             "ticks": ""
            },
            "colorscale": [
             [
              0,
              "#0d0887"
             ],
             [
              0.1111111111111111,
              "#46039f"
             ],
             [
              0.2222222222222222,
              "#7201a8"
             ],
             [
              0.3333333333333333,
              "#9c179e"
             ],
             [
              0.4444444444444444,
              "#bd3786"
             ],
             [
              0.5555555555555556,
              "#d8576b"
             ],
             [
              0.6666666666666666,
              "#ed7953"
             ],
             [
              0.7777777777777778,
              "#fb9f3a"
             ],
             [
              0.8888888888888888,
              "#fdca26"
             ],
             [
              1,
              "#f0f921"
             ]
            ],
            "type": "surface"
           }
          ],
          "table": [
           {
            "cells": {
             "fill": {
              "color": "#EBF0F8"
             },
             "line": {
              "color": "white"
             }
            },
            "header": {
             "fill": {
              "color": "#C8D4E3"
             },
             "line": {
              "color": "white"
             }
            },
            "type": "table"
           }
          ]
         },
         "layout": {
          "annotationdefaults": {
           "arrowcolor": "#2a3f5f",
           "arrowhead": 0,
           "arrowwidth": 1
          },
          "autotypenumbers": "strict",
          "coloraxis": {
           "colorbar": {
            "outlinewidth": 0,
            "ticks": ""
           }
          },
          "colorscale": {
           "diverging": [
            [
             0,
             "#8e0152"
            ],
            [
             0.1,
             "#c51b7d"
            ],
            [
             0.2,
             "#de77ae"
            ],
            [
             0.3,
             "#f1b6da"
            ],
            [
             0.4,
             "#fde0ef"
            ],
            [
             0.5,
             "#f7f7f7"
            ],
            [
             0.6,
             "#e6f5d0"
            ],
            [
             0.7,
             "#b8e186"
            ],
            [
             0.8,
             "#7fbc41"
            ],
            [
             0.9,
             "#4d9221"
            ],
            [
             1,
             "#276419"
            ]
           ],
           "sequential": [
            [
             0,
             "#0d0887"
            ],
            [
             0.1111111111111111,
             "#46039f"
            ],
            [
             0.2222222222222222,
             "#7201a8"
            ],
            [
             0.3333333333333333,
             "#9c179e"
            ],
            [
             0.4444444444444444,
             "#bd3786"
            ],
            [
             0.5555555555555556,
             "#d8576b"
            ],
            [
             0.6666666666666666,
             "#ed7953"
            ],
            [
             0.7777777777777778,
             "#fb9f3a"
            ],
            [
             0.8888888888888888,
             "#fdca26"
            ],
            [
             1,
             "#f0f921"
            ]
           ],
           "sequentialminus": [
            [
             0,
             "#0d0887"
            ],
            [
             0.1111111111111111,
             "#46039f"
            ],
            [
             0.2222222222222222,
             "#7201a8"
            ],
            [
             0.3333333333333333,
             "#9c179e"
            ],
            [
             0.4444444444444444,
             "#bd3786"
            ],
            [
             0.5555555555555556,
             "#d8576b"
            ],
            [
             0.6666666666666666,
             "#ed7953"
            ],
            [
             0.7777777777777778,
             "#fb9f3a"
            ],
            [
             0.8888888888888888,
             "#fdca26"
            ],
            [
             1,
             "#f0f921"
            ]
           ]
          },
          "colorway": [
           "#636efa",
           "#EF553B",
           "#00cc96",
           "#ab63fa",
           "#FFA15A",
           "#19d3f3",
           "#FF6692",
           "#B6E880",
           "#FF97FF",
           "#FECB52"
          ],
          "font": {
           "color": "#2a3f5f"
          },
          "geo": {
           "bgcolor": "white",
           "lakecolor": "white",
           "landcolor": "#E5ECF6",
           "showlakes": true,
           "showland": true,
           "subunitcolor": "white"
          },
          "hoverlabel": {
           "align": "left"
          },
          "hovermode": "closest",
          "mapbox": {
           "style": "light"
          },
          "paper_bgcolor": "white",
          "plot_bgcolor": "#E5ECF6",
          "polar": {
           "angularaxis": {
            "gridcolor": "white",
            "linecolor": "white",
            "ticks": ""
           },
           "bgcolor": "#E5ECF6",
           "radialaxis": {
            "gridcolor": "white",
            "linecolor": "white",
            "ticks": ""
           }
          },
          "scene": {
           "xaxis": {
            "backgroundcolor": "#E5ECF6",
            "gridcolor": "white",
            "gridwidth": 2,
            "linecolor": "white",
            "showbackground": true,
            "ticks": "",
            "zerolinecolor": "white"
           },
           "yaxis": {
            "backgroundcolor": "#E5ECF6",
            "gridcolor": "white",
            "gridwidth": 2,
            "linecolor": "white",
            "showbackground": true,
            "ticks": "",
            "zerolinecolor": "white"
           },
           "zaxis": {
            "backgroundcolor": "#E5ECF6",
            "gridcolor": "white",
            "gridwidth": 2,
            "linecolor": "white",
            "showbackground": true,
            "ticks": "",
            "zerolinecolor": "white"
           }
          },
          "shapedefaults": {
           "line": {
            "color": "#2a3f5f"
           }
          },
          "ternary": {
           "aaxis": {
            "gridcolor": "white",
            "linecolor": "white",
            "ticks": ""
           },
           "baxis": {
            "gridcolor": "white",
            "linecolor": "white",
            "ticks": ""
           },
           "bgcolor": "#E5ECF6",
           "caxis": {
            "gridcolor": "white",
            "linecolor": "white",
            "ticks": ""
           }
          },
          "title": {
           "x": 0.05
          },
          "xaxis": {
           "automargin": true,
           "gridcolor": "white",
           "linecolor": "white",
           "ticks": "",
           "title": {
            "standoff": 15
           },
           "zerolinecolor": "white",
           "zerolinewidth": 2
          },
          "yaxis": {
           "automargin": true,
           "gridcolor": "white",
           "linecolor": "white",
           "ticks": "",
           "title": {
            "standoff": 15
           },
           "zerolinecolor": "white",
           "zerolinewidth": 2
          }
         }
        },
        "xaxis": {
         "anchor": "y",
         "domain": [
          0,
          1
         ],
         "title": {
          "text": "sepal_width"
         }
        },
        "yaxis": {
         "anchor": "x",
         "domain": [
          0,
          1
         ],
         "title": {
          "text": "sepal_length"
         }
        }
       }
      },
      "text/html": [
       "<div>                            <div id=\"20f91b56-4bb2-46db-9ea8-cdbb737385c5\" class=\"plotly-graph-div\" style=\"height:525px; width:100%;\"></div>            <script type=\"text/javascript\">                require([\"plotly\"], function(Plotly) {                    window.PLOTLYENV=window.PLOTLYENV || {};                                    if (document.getElementById(\"20f91b56-4bb2-46db-9ea8-cdbb737385c5\")) {                    Plotly.newPlot(                        \"20f91b56-4bb2-46db-9ea8-cdbb737385c5\",                        [{\"customdata\":[[0.2],[0.2],[0.2],[0.2],[0.2],[0.4],[0.3],[0.2],[0.2],[0.1],[0.2],[0.2],[0.1],[0.1],[0.2],[0.4],[0.4],[0.3],[0.3],[0.3],[0.2],[0.4],[0.2],[0.5],[0.2],[0.2],[0.4],[0.2],[0.2],[0.2],[0.2],[0.4],[0.1],[0.2],[0.1],[0.2],[0.2],[0.1],[0.2],[0.2],[0.3],[0.3],[0.2],[0.6],[0.4],[0.3],[0.2],[0.2],[0.2],[0.2]],\"hovertemplate\":\"species=setosa\\u003cbr\\u003esepal_width=%{x}\\u003cbr\\u003esepal_length=%{y}\\u003cbr\\u003epetal_length=%{marker.size}\\u003cbr\\u003epetal_width=%{customdata[0]}\\u003cextra\\u003e\\u003c\\u002fextra\\u003e\",\"legendgroup\":\"setosa\",\"marker\":{\"color\":\"#636efa\",\"size\":[1.4,1.4,1.3,1.5,1.4,1.7,1.4,1.5,1.4,1.5,1.5,1.6,1.4,1.1,1.2,1.5,1.3,1.4,1.7,1.5,1.7,1.5,1.0,1.7,1.9,1.6,1.6,1.5,1.4,1.6,1.6,1.5,1.5,1.4,1.5,1.2,1.3,1.5,1.3,1.5,1.3,1.3,1.3,1.6,1.9,1.4,1.6,1.4,1.5,1.4],\"sizemode\":\"area\",\"sizeref\":0.01725,\"symbol\":\"circle\"},\"mode\":\"markers\",\"name\":\"setosa\",\"orientation\":\"v\",\"showlegend\":true,\"x\":[3.5,3.0,3.2,3.1,3.6,3.9,3.4,3.4,2.9,3.1,3.7,3.4,3.0,3.0,4.0,4.4,3.9,3.5,3.8,3.8,3.4,3.7,3.6,3.3,3.4,3.0,3.4,3.5,3.4,3.2,3.1,3.4,4.1,4.2,3.1,3.2,3.5,3.1,3.0,3.4,3.5,2.3,3.2,3.5,3.8,3.0,3.8,3.2,3.7,3.3],\"xaxis\":\"x\",\"y\":[5.1,4.9,4.7,4.6,5.0,5.4,4.6,5.0,4.4,4.9,5.4,4.8,4.8,4.3,5.8,5.7,5.4,5.1,5.7,5.1,5.4,5.1,4.6,5.1,4.8,5.0,5.0,5.2,5.2,4.7,4.8,5.4,5.2,5.5,4.9,5.0,5.5,4.9,4.4,5.1,5.0,4.5,4.4,5.0,5.1,4.8,5.1,4.6,5.3,5.0],\"yaxis\":\"y\",\"type\":\"scatter\"},{\"customdata\":[[1.4],[1.5],[1.5],[1.3],[1.5],[1.3],[1.6],[1.0],[1.3],[1.4],[1.0],[1.5],[1.0],[1.4],[1.3],[1.4],[1.5],[1.0],[1.5],[1.1],[1.8],[1.3],[1.5],[1.2],[1.3],[1.4],[1.4],[1.7],[1.5],[1.0],[1.1],[1.0],[1.2],[1.6],[1.5],[1.6],[1.5],[1.3],[1.3],[1.3],[1.2],[1.4],[1.2],[1.0],[1.3],[1.2],[1.3],[1.3],[1.1],[1.3]],\"hovertemplate\":\"species=versicolor\\u003cbr\\u003esepal_width=%{x}\\u003cbr\\u003esepal_length=%{y}\\u003cbr\\u003epetal_length=%{marker.size}\\u003cbr\\u003epetal_width=%{customdata[0]}\\u003cextra\\u003e\\u003c\\u002fextra\\u003e\",\"legendgroup\":\"versicolor\",\"marker\":{\"color\":\"#EF553B\",\"size\":[4.7,4.5,4.9,4.0,4.6,4.5,4.7,3.3,4.6,3.9,3.5,4.2,4.0,4.7,3.6,4.4,4.5,4.1,4.5,3.9,4.8,4.0,4.9,4.7,4.3,4.4,4.8,5.0,4.5,3.5,3.8,3.7,3.9,5.1,4.5,4.5,4.7,4.4,4.1,4.0,4.4,4.6,4.0,3.3,4.2,4.2,4.2,4.3,3.0,4.1],\"sizemode\":\"area\",\"sizeref\":0.01725,\"symbol\":\"circle\"},\"mode\":\"markers\",\"name\":\"versicolor\",\"orientation\":\"v\",\"showlegend\":true,\"x\":[3.2,3.2,3.1,2.3,2.8,2.8,3.3,2.4,2.9,2.7,2.0,3.0,2.2,2.9,2.9,3.1,3.0,2.7,2.2,2.5,3.2,2.8,2.5,2.8,2.9,3.0,2.8,3.0,2.9,2.6,2.4,2.4,2.7,2.7,3.0,3.4,3.1,2.3,3.0,2.5,2.6,3.0,2.6,2.3,2.7,3.0,2.9,2.9,2.5,2.8],\"xaxis\":\"x\",\"y\":[7.0,6.4,6.9,5.5,6.5,5.7,6.3,4.9,6.6,5.2,5.0,5.9,6.0,6.1,5.6,6.7,5.6,5.8,6.2,5.6,5.9,6.1,6.3,6.1,6.4,6.6,6.8,6.7,6.0,5.7,5.5,5.5,5.8,6.0,5.4,6.0,6.7,6.3,5.6,5.5,5.5,6.1,5.8,5.0,5.6,5.7,5.7,6.2,5.1,5.7],\"yaxis\":\"y\",\"type\":\"scatter\"},{\"customdata\":[[2.5],[1.9],[2.1],[1.8],[2.2],[2.1],[1.7],[1.8],[1.8],[2.5],[2.0],[1.9],[2.1],[2.0],[2.4],[2.3],[1.8],[2.2],[2.3],[1.5],[2.3],[2.0],[2.0],[1.8],[2.1],[1.8],[1.8],[1.8],[2.1],[1.6],[1.9],[2.0],[2.2],[1.5],[1.4],[2.3],[2.4],[1.8],[1.8],[2.1],[2.4],[2.3],[1.9],[2.3],[2.5],[2.3],[1.9],[2.0],[2.3],[1.8]],\"hovertemplate\":\"species=virginica\\u003cbr\\u003esepal_width=%{x}\\u003cbr\\u003esepal_length=%{y}\\u003cbr\\u003epetal_length=%{marker.size}\\u003cbr\\u003epetal_width=%{customdata[0]}\\u003cextra\\u003e\\u003c\\u002fextra\\u003e\",\"legendgroup\":\"virginica\",\"marker\":{\"color\":\"#00cc96\",\"size\":[6.0,5.1,5.9,5.6,5.8,6.6,4.5,6.3,5.8,6.1,5.1,5.3,5.5,5.0,5.1,5.3,5.5,6.7,6.9,5.0,5.7,4.9,6.7,4.9,5.7,6.0,4.8,4.9,5.6,5.8,6.1,6.4,5.6,5.1,5.6,6.1,5.6,5.5,4.8,5.4,5.6,5.1,5.1,5.9,5.7,5.2,5.0,5.2,5.4,5.1],\"sizemode\":\"area\",\"sizeref\":0.01725,\"symbol\":\"circle\"},\"mode\":\"markers\",\"name\":\"virginica\",\"orientation\":\"v\",\"showlegend\":true,\"x\":[3.3,2.7,3.0,2.9,3.0,3.0,2.5,2.9,2.5,3.6,3.2,2.7,3.0,2.5,2.8,3.2,3.0,3.8,2.6,2.2,3.2,2.8,2.8,2.7,3.3,3.2,2.8,3.0,2.8,3.0,2.8,3.8,2.8,2.8,2.6,3.0,3.4,3.1,3.0,3.1,3.1,3.1,2.7,3.2,3.3,3.0,2.5,3.0,3.4,3.0],\"xaxis\":\"x\",\"y\":[6.3,5.8,7.1,6.3,6.5,7.6,4.9,7.3,6.7,7.2,6.5,6.4,6.8,5.7,5.8,6.4,6.5,7.7,7.7,6.0,6.9,5.6,7.7,6.3,6.7,7.2,6.2,6.1,6.4,7.2,7.4,7.9,6.4,6.3,6.1,7.7,6.3,6.4,6.0,6.9,6.7,6.9,5.8,6.8,6.7,6.7,6.3,6.5,6.2,5.9],\"yaxis\":\"y\",\"type\":\"scatter\"}],                        {\"template\":{\"data\":{\"histogram2dcontour\":[{\"type\":\"histogram2dcontour\",\"colorbar\":{\"outlinewidth\":0,\"ticks\":\"\"},\"colorscale\":[[0.0,\"#0d0887\"],[0.1111111111111111,\"#46039f\"],[0.2222222222222222,\"#7201a8\"],[0.3333333333333333,\"#9c179e\"],[0.4444444444444444,\"#bd3786\"],[0.5555555555555556,\"#d8576b\"],[0.6666666666666666,\"#ed7953\"],[0.7777777777777778,\"#fb9f3a\"],[0.8888888888888888,\"#fdca26\"],[1.0,\"#f0f921\"]]}],\"choropleth\":[{\"type\":\"choropleth\",\"colorbar\":{\"outlinewidth\":0,\"ticks\":\"\"}}],\"histogram2d\":[{\"type\":\"histogram2d\",\"colorbar\":{\"outlinewidth\":0,\"ticks\":\"\"},\"colorscale\":[[0.0,\"#0d0887\"],[0.1111111111111111,\"#46039f\"],[0.2222222222222222,\"#7201a8\"],[0.3333333333333333,\"#9c179e\"],[0.4444444444444444,\"#bd3786\"],[0.5555555555555556,\"#d8576b\"],[0.6666666666666666,\"#ed7953\"],[0.7777777777777778,\"#fb9f3a\"],[0.8888888888888888,\"#fdca26\"],[1.0,\"#f0f921\"]]}],\"heatmap\":[{\"type\":\"heatmap\",\"colorbar\":{\"outlinewidth\":0,\"ticks\":\"\"},\"colorscale\":[[0.0,\"#0d0887\"],[0.1111111111111111,\"#46039f\"],[0.2222222222222222,\"#7201a8\"],[0.3333333333333333,\"#9c179e\"],[0.4444444444444444,\"#bd3786\"],[0.5555555555555556,\"#d8576b\"],[0.6666666666666666,\"#ed7953\"],[0.7777777777777778,\"#fb9f3a\"],[0.8888888888888888,\"#fdca26\"],[1.0,\"#f0f921\"]]}],\"heatmapgl\":[{\"type\":\"heatmapgl\",\"colorbar\":{\"outlinewidth\":0,\"ticks\":\"\"},\"colorscale\":[[0.0,\"#0d0887\"],[0.1111111111111111,\"#46039f\"],[0.2222222222222222,\"#7201a8\"],[0.3333333333333333,\"#9c179e\"],[0.4444444444444444,\"#bd3786\"],[0.5555555555555556,\"#d8576b\"],[0.6666666666666666,\"#ed7953\"],[0.7777777777777778,\"#fb9f3a\"],[0.8888888888888888,\"#fdca26\"],[1.0,\"#f0f921\"]]}],\"contourcarpet\":[{\"type\":\"contourcarpet\",\"colorbar\":{\"outlinewidth\":0,\"ticks\":\"\"}}],\"contour\":[{\"type\":\"contour\",\"colorbar\":{\"outlinewidth\":0,\"ticks\":\"\"},\"colorscale\":[[0.0,\"#0d0887\"],[0.1111111111111111,\"#46039f\"],[0.2222222222222222,\"#7201a8\"],[0.3333333333333333,\"#9c179e\"],[0.4444444444444444,\"#bd3786\"],[0.5555555555555556,\"#d8576b\"],[0.6666666666666666,\"#ed7953\"],[0.7777777777777778,\"#fb9f3a\"],[0.8888888888888888,\"#fdca26\"],[1.0,\"#f0f921\"]]}],\"surface\":[{\"type\":\"surface\",\"colorbar\":{\"outlinewidth\":0,\"ticks\":\"\"},\"colorscale\":[[0.0,\"#0d0887\"],[0.1111111111111111,\"#46039f\"],[0.2222222222222222,\"#7201a8\"],[0.3333333333333333,\"#9c179e\"],[0.4444444444444444,\"#bd3786\"],[0.5555555555555556,\"#d8576b\"],[0.6666666666666666,\"#ed7953\"],[0.7777777777777778,\"#fb9f3a\"],[0.8888888888888888,\"#fdca26\"],[1.0,\"#f0f921\"]]}],\"mesh3d\":[{\"type\":\"mesh3d\",\"colorbar\":{\"outlinewidth\":0,\"ticks\":\"\"}}],\"scatter\":[{\"fillpattern\":{\"fillmode\":\"overlay\",\"size\":10,\"solidity\":0.2},\"type\":\"scatter\"}],\"parcoords\":[{\"type\":\"parcoords\",\"line\":{\"colorbar\":{\"outlinewidth\":0,\"ticks\":\"\"}}}],\"scatterpolargl\":[{\"type\":\"scatterpolargl\",\"marker\":{\"colorbar\":{\"outlinewidth\":0,\"ticks\":\"\"}}}],\"bar\":[{\"error_x\":{\"color\":\"#2a3f5f\"},\"error_y\":{\"color\":\"#2a3f5f\"},\"marker\":{\"line\":{\"color\":\"#E5ECF6\",\"width\":0.5},\"pattern\":{\"fillmode\":\"overlay\",\"size\":10,\"solidity\":0.2}},\"type\":\"bar\"}],\"scattergeo\":[{\"type\":\"scattergeo\",\"marker\":{\"colorbar\":{\"outlinewidth\":0,\"ticks\":\"\"}}}],\"scatterpolar\":[{\"type\":\"scatterpolar\",\"marker\":{\"colorbar\":{\"outlinewidth\":0,\"ticks\":\"\"}}}],\"histogram\":[{\"marker\":{\"pattern\":{\"fillmode\":\"overlay\",\"size\":10,\"solidity\":0.2}},\"type\":\"histogram\"}],\"scattergl\":[{\"type\":\"scattergl\",\"marker\":{\"colorbar\":{\"outlinewidth\":0,\"ticks\":\"\"}}}],\"scatter3d\":[{\"type\":\"scatter3d\",\"line\":{\"colorbar\":{\"outlinewidth\":0,\"ticks\":\"\"}},\"marker\":{\"colorbar\":{\"outlinewidth\":0,\"ticks\":\"\"}}}],\"scattermapbox\":[{\"type\":\"scattermapbox\",\"marker\":{\"colorbar\":{\"outlinewidth\":0,\"ticks\":\"\"}}}],\"scatterternary\":[{\"type\":\"scatterternary\",\"marker\":{\"colorbar\":{\"outlinewidth\":0,\"ticks\":\"\"}}}],\"scattercarpet\":[{\"type\":\"scattercarpet\",\"marker\":{\"colorbar\":{\"outlinewidth\":0,\"ticks\":\"\"}}}],\"carpet\":[{\"aaxis\":{\"endlinecolor\":\"#2a3f5f\",\"gridcolor\":\"white\",\"linecolor\":\"white\",\"minorgridcolor\":\"white\",\"startlinecolor\":\"#2a3f5f\"},\"baxis\":{\"endlinecolor\":\"#2a3f5f\",\"gridcolor\":\"white\",\"linecolor\":\"white\",\"minorgridcolor\":\"white\",\"startlinecolor\":\"#2a3f5f\"},\"type\":\"carpet\"}],\"table\":[{\"cells\":{\"fill\":{\"color\":\"#EBF0F8\"},\"line\":{\"color\":\"white\"}},\"header\":{\"fill\":{\"color\":\"#C8D4E3\"},\"line\":{\"color\":\"white\"}},\"type\":\"table\"}],\"barpolar\":[{\"marker\":{\"line\":{\"color\":\"#E5ECF6\",\"width\":0.5},\"pattern\":{\"fillmode\":\"overlay\",\"size\":10,\"solidity\":0.2}},\"type\":\"barpolar\"}],\"pie\":[{\"automargin\":true,\"type\":\"pie\"}]},\"layout\":{\"autotypenumbers\":\"strict\",\"colorway\":[\"#636efa\",\"#EF553B\",\"#00cc96\",\"#ab63fa\",\"#FFA15A\",\"#19d3f3\",\"#FF6692\",\"#B6E880\",\"#FF97FF\",\"#FECB52\"],\"font\":{\"color\":\"#2a3f5f\"},\"hovermode\":\"closest\",\"hoverlabel\":{\"align\":\"left\"},\"paper_bgcolor\":\"white\",\"plot_bgcolor\":\"#E5ECF6\",\"polar\":{\"bgcolor\":\"#E5ECF6\",\"angularaxis\":{\"gridcolor\":\"white\",\"linecolor\":\"white\",\"ticks\":\"\"},\"radialaxis\":{\"gridcolor\":\"white\",\"linecolor\":\"white\",\"ticks\":\"\"}},\"ternary\":{\"bgcolor\":\"#E5ECF6\",\"aaxis\":{\"gridcolor\":\"white\",\"linecolor\":\"white\",\"ticks\":\"\"},\"baxis\":{\"gridcolor\":\"white\",\"linecolor\":\"white\",\"ticks\":\"\"},\"caxis\":{\"gridcolor\":\"white\",\"linecolor\":\"white\",\"ticks\":\"\"}},\"coloraxis\":{\"colorbar\":{\"outlinewidth\":0,\"ticks\":\"\"}},\"colorscale\":{\"sequential\":[[0.0,\"#0d0887\"],[0.1111111111111111,\"#46039f\"],[0.2222222222222222,\"#7201a8\"],[0.3333333333333333,\"#9c179e\"],[0.4444444444444444,\"#bd3786\"],[0.5555555555555556,\"#d8576b\"],[0.6666666666666666,\"#ed7953\"],[0.7777777777777778,\"#fb9f3a\"],[0.8888888888888888,\"#fdca26\"],[1.0,\"#f0f921\"]],\"sequentialminus\":[[0.0,\"#0d0887\"],[0.1111111111111111,\"#46039f\"],[0.2222222222222222,\"#7201a8\"],[0.3333333333333333,\"#9c179e\"],[0.4444444444444444,\"#bd3786\"],[0.5555555555555556,\"#d8576b\"],[0.6666666666666666,\"#ed7953\"],[0.7777777777777778,\"#fb9f3a\"],[0.8888888888888888,\"#fdca26\"],[1.0,\"#f0f921\"]],\"diverging\":[[0,\"#8e0152\"],[0.1,\"#c51b7d\"],[0.2,\"#de77ae\"],[0.3,\"#f1b6da\"],[0.4,\"#fde0ef\"],[0.5,\"#f7f7f7\"],[0.6,\"#e6f5d0\"],[0.7,\"#b8e186\"],[0.8,\"#7fbc41\"],[0.9,\"#4d9221\"],[1,\"#276419\"]]},\"xaxis\":{\"gridcolor\":\"white\",\"linecolor\":\"white\",\"ticks\":\"\",\"title\":{\"standoff\":15},\"zerolinecolor\":\"white\",\"automargin\":true,\"zerolinewidth\":2},\"yaxis\":{\"gridcolor\":\"white\",\"linecolor\":\"white\",\"ticks\":\"\",\"title\":{\"standoff\":15},\"zerolinecolor\":\"white\",\"automargin\":true,\"zerolinewidth\":2},\"scene\":{\"xaxis\":{\"backgroundcolor\":\"#E5ECF6\",\"gridcolor\":\"white\",\"linecolor\":\"white\",\"showbackground\":true,\"ticks\":\"\",\"zerolinecolor\":\"white\",\"gridwidth\":2},\"yaxis\":{\"backgroundcolor\":\"#E5ECF6\",\"gridcolor\":\"white\",\"linecolor\":\"white\",\"showbackground\":true,\"ticks\":\"\",\"zerolinecolor\":\"white\",\"gridwidth\":2},\"zaxis\":{\"backgroundcolor\":\"#E5ECF6\",\"gridcolor\":\"white\",\"linecolor\":\"white\",\"showbackground\":true,\"ticks\":\"\",\"zerolinecolor\":\"white\",\"gridwidth\":2}},\"shapedefaults\":{\"line\":{\"color\":\"#2a3f5f\"}},\"annotationdefaults\":{\"arrowcolor\":\"#2a3f5f\",\"arrowhead\":0,\"arrowwidth\":1},\"geo\":{\"bgcolor\":\"white\",\"landcolor\":\"#E5ECF6\",\"subunitcolor\":\"white\",\"showland\":true,\"showlakes\":true,\"lakecolor\":\"white\"},\"title\":{\"x\":0.05},\"mapbox\":{\"style\":\"light\"}}},\"xaxis\":{\"anchor\":\"y\",\"domain\":[0.0,1.0],\"title\":{\"text\":\"sepal_width\"}},\"yaxis\":{\"anchor\":\"x\",\"domain\":[0.0,1.0],\"title\":{\"text\":\"sepal_length\"}},\"legend\":{\"title\":{\"text\":\"species\"},\"tracegroupgap\":0,\"itemsizing\":\"constant\"},\"margin\":{\"t\":60}},                        {\"responsive\": true}                    ).then(function(){\n",
       "                            \n",
       "var gd = document.getElementById('20f91b56-4bb2-46db-9ea8-cdbb737385c5');\n",
       "var x = new MutationObserver(function (mutations, observer) {{\n",
       "        var display = window.getComputedStyle(gd).display;\n",
       "        if (!display || display === 'none') {{\n",
       "            console.log([gd, 'removed!']);\n",
       "            Plotly.purge(gd);\n",
       "            observer.disconnect();\n",
       "        }}\n",
       "}});\n",
       "\n",
       "// Listen for the removal of the full notebook cells\n",
       "var notebookContainer = gd.closest('#notebook-container');\n",
       "if (notebookContainer) {{\n",
       "    x.observe(notebookContainer, {childList: true});\n",
       "}}\n",
       "\n",
       "// Listen for the clearing of the current output cell\n",
       "var outputEl = gd.closest('.output');\n",
       "if (outputEl) {{\n",
       "    x.observe(outputEl, {childList: true});\n",
       "}}\n",
       "\n",
       "                        })                };                });            </script>        </div>"
      ]
     },
     "metadata": {},
     "output_type": "display_data"
    }
   ],
   "source": [
    "import plotly.express as px\n",
    "df = px.data.iris()\n",
    "fig = px.scatter(df, x=\"sepal_width\", y=\"sepal_length\", color=\"species\",\n",
    "                 size='petal_length', hover_data=['petal_width'])\n",
    "fig.show()"
   ]
  },
  {
   "cell_type": "code",
   "execution_count": 21,
   "metadata": {},
   "outputs": [
    {
     "data": {
      "text/html": [
       "<div>\n",
       "<style scoped>\n",
       "    .dataframe tbody tr th:only-of-type {\n",
       "        vertical-align: middle;\n",
       "    }\n",
       "\n",
       "    .dataframe tbody tr th {\n",
       "        vertical-align: top;\n",
       "    }\n",
       "\n",
       "    .dataframe thead th {\n",
       "        text-align: right;\n",
       "    }\n",
       "</style>\n",
       "<table border=\"1\" class=\"dataframe\">\n",
       "  <thead>\n",
       "    <tr style=\"text-align: right;\">\n",
       "      <th></th>\n",
       "      <th>sepal_length</th>\n",
       "      <th>sepal_width</th>\n",
       "      <th>petal_length</th>\n",
       "      <th>petal_width</th>\n",
       "      <th>species</th>\n",
       "      <th>species_id</th>\n",
       "    </tr>\n",
       "  </thead>\n",
       "  <tbody>\n",
       "    <tr>\n",
       "      <th>0</th>\n",
       "      <td>5.1</td>\n",
       "      <td>3.5</td>\n",
       "      <td>1.4</td>\n",
       "      <td>0.2</td>\n",
       "      <td>setosa</td>\n",
       "      <td>1</td>\n",
       "    </tr>\n",
       "    <tr>\n",
       "      <th>1</th>\n",
       "      <td>4.9</td>\n",
       "      <td>3.0</td>\n",
       "      <td>1.4</td>\n",
       "      <td>0.2</td>\n",
       "      <td>setosa</td>\n",
       "      <td>1</td>\n",
       "    </tr>\n",
       "    <tr>\n",
       "      <th>2</th>\n",
       "      <td>4.7</td>\n",
       "      <td>3.2</td>\n",
       "      <td>1.3</td>\n",
       "      <td>0.2</td>\n",
       "      <td>setosa</td>\n",
       "      <td>1</td>\n",
       "    </tr>\n",
       "    <tr>\n",
       "      <th>3</th>\n",
       "      <td>4.6</td>\n",
       "      <td>3.1</td>\n",
       "      <td>1.5</td>\n",
       "      <td>0.2</td>\n",
       "      <td>setosa</td>\n",
       "      <td>1</td>\n",
       "    </tr>\n",
       "    <tr>\n",
       "      <th>4</th>\n",
       "      <td>5.0</td>\n",
       "      <td>3.6</td>\n",
       "      <td>1.4</td>\n",
       "      <td>0.2</td>\n",
       "      <td>setosa</td>\n",
       "      <td>1</td>\n",
       "    </tr>\n",
       "    <tr>\n",
       "      <th>...</th>\n",
       "      <td>...</td>\n",
       "      <td>...</td>\n",
       "      <td>...</td>\n",
       "      <td>...</td>\n",
       "      <td>...</td>\n",
       "      <td>...</td>\n",
       "    </tr>\n",
       "    <tr>\n",
       "      <th>145</th>\n",
       "      <td>6.7</td>\n",
       "      <td>3.0</td>\n",
       "      <td>5.2</td>\n",
       "      <td>2.3</td>\n",
       "      <td>virginica</td>\n",
       "      <td>3</td>\n",
       "    </tr>\n",
       "    <tr>\n",
       "      <th>146</th>\n",
       "      <td>6.3</td>\n",
       "      <td>2.5</td>\n",
       "      <td>5.0</td>\n",
       "      <td>1.9</td>\n",
       "      <td>virginica</td>\n",
       "      <td>3</td>\n",
       "    </tr>\n",
       "    <tr>\n",
       "      <th>147</th>\n",
       "      <td>6.5</td>\n",
       "      <td>3.0</td>\n",
       "      <td>5.2</td>\n",
       "      <td>2.0</td>\n",
       "      <td>virginica</td>\n",
       "      <td>3</td>\n",
       "    </tr>\n",
       "    <tr>\n",
       "      <th>148</th>\n",
       "      <td>6.2</td>\n",
       "      <td>3.4</td>\n",
       "      <td>5.4</td>\n",
       "      <td>2.3</td>\n",
       "      <td>virginica</td>\n",
       "      <td>3</td>\n",
       "    </tr>\n",
       "    <tr>\n",
       "      <th>149</th>\n",
       "      <td>5.9</td>\n",
       "      <td>3.0</td>\n",
       "      <td>5.1</td>\n",
       "      <td>1.8</td>\n",
       "      <td>virginica</td>\n",
       "      <td>3</td>\n",
       "    </tr>\n",
       "  </tbody>\n",
       "</table>\n",
       "<p>150 rows × 6 columns</p>\n",
       "</div>"
      ],
      "text/plain": [
       "     sepal_length  sepal_width  petal_length  petal_width    species  \\\n",
       "0             5.1          3.5           1.4          0.2     setosa   \n",
       "1             4.9          3.0           1.4          0.2     setosa   \n",
       "2             4.7          3.2           1.3          0.2     setosa   \n",
       "3             4.6          3.1           1.5          0.2     setosa   \n",
       "4             5.0          3.6           1.4          0.2     setosa   \n",
       "..            ...          ...           ...          ...        ...   \n",
       "145           6.7          3.0           5.2          2.3  virginica   \n",
       "146           6.3          2.5           5.0          1.9  virginica   \n",
       "147           6.5          3.0           5.2          2.0  virginica   \n",
       "148           6.2          3.4           5.4          2.3  virginica   \n",
       "149           5.9          3.0           5.1          1.8  virginica   \n",
       "\n",
       "     species_id  \n",
       "0             1  \n",
       "1             1  \n",
       "2             1  \n",
       "3             1  \n",
       "4             1  \n",
       "..          ...  \n",
       "145           3  \n",
       "146           3  \n",
       "147           3  \n",
       "148           3  \n",
       "149           3  \n",
       "\n",
       "[150 rows x 6 columns]"
      ]
     },
     "execution_count": 21,
     "metadata": {},
     "output_type": "execute_result"
    }
   ],
   "source": [
    "df"
   ]
  }
 ],
 "metadata": {
  "kernelspec": {
   "display_name": "pytorch3d",
   "language": "python",
   "name": "python3"
  },
  "language_info": {
   "codemirror_mode": {
    "name": "ipython",
    "version": 3
   },
   "file_extension": ".py",
   "mimetype": "text/x-python",
   "name": "python",
   "nbconvert_exporter": "python",
   "pygments_lexer": "ipython3",
   "version": "3.9.18"
  }
 },
 "nbformat": 4,
 "nbformat_minor": 2
}
