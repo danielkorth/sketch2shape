{
 "cells": [
  {
   "cell_type": "code",
   "execution_count": 3,
   "metadata": {},
   "outputs": [],
   "source": [
    "import torch\n",
    "embeddings = torch.randn(128, 512)\n",
    "labels = torch.randint(0, 10, size=(128,))\n",
    "ref_emb = torch.randn(128, 512)\n",
    "ref_labels = torch.randint(0, 10, size=(32,))"
   ]
  },
  {
   "cell_type": "code",
   "execution_count": 4,
   "metadata": {},
   "outputs": [
    {
     "data": {
      "text/plain": [
       "tensor(127)"
      ]
     },
     "execution_count": 4,
     "metadata": {},
     "output_type": "execute_result"
    }
   ],
   "source": [
    "from pytorch_metric_learning import miners, losses\n",
    "miner_func = miners.TripletMarginMiner(margin=0.02)\n",
    "loss_func = losses.TripletMarginLoss()\n",
    "miner_output = miner_func(embeddings=embeddings, labels=labels, ref_emb=ref_emb, ref_labels=labels)\n",
    "losses = loss_func(embeddings, labels, miner_output)\n",
    "miner_output[1].max()"
   ]
  }
 ],
 "metadata": {
  "kernelspec": {
   "display_name": "pytorch3d",
   "language": "python",
   "name": "python3"
  },
  "language_info": {
   "codemirror_mode": {
    "name": "ipython",
    "version": 3
   },
   "file_extension": ".py",
   "mimetype": "text/x-python",
   "name": "python",
   "nbconvert_exporter": "python",
   "pygments_lexer": "ipython3",
   "version": "3.9.18"
  }
 },
 "nbformat": 4,
 "nbformat_minor": 2
}
