{
 "cells": [
  {
   "cell_type": "markdown",
   "metadata": {},
   "source": [
    "# Utils"
   ]
  },
  {
   "cell_type": "code",
   "execution_count": null,
   "metadata": {},
   "outputs": [],
   "source": [
    "import torch\n",
    "from torchvision.transforms import v2\n",
    "from PIL import Image\n",
    "import matplotlib.pyplot as plt\n",
    "from lib.data.metainfo import MetaInfo\n",
    "\n",
    "def plot_images(images, size: int = 4):\n",
    "    if isinstance(images, list):\n",
    "        _, axes = plt.subplots(1, len(images), figsize=(size, size))\n",
    "        for ax, image in zip(axes, images):\n",
    "            ax.imshow(image.permute(1, 2, 0).detach().cpu().numpy())\n",
    "            ax.axis(\"off\")  # Turn off axis\n",
    "        plt.show()\n",
    "    else:\n",
    "        plt.figure(figsize=(size, size))\n",
    "        plt.imshow(images.permute(1, 2, 0).detach().cpu().numpy())\n",
    "        plt.show()"
   ]
  },
  {
   "cell_type": "markdown",
   "metadata": {},
   "source": [
    "# Phong Shader Inf Far Away"
   ]
  },
  {
   "cell_type": "code",
   "execution_count": null,
   "metadata": {},
   "outputs": [],
   "source": [
    "obj_id = 16\n",
    "light_direction = [1, 1, 1]\n",
    "ambient = 0.5\n",
    "diffuse = 0.5\n",
    "\n",
    "metainfo = MetaInfo(data_dir=\"/home/borth/sketch2shape/data/shapenet_chair_4096\")\n",
    "trans = v2.Compose([\n",
    "    v2.ToImage(),\n",
    "    v2.ToDtype(torch.float32, scale=True),\n",
    "    v2.Normalize(mean=[0.5], std=[0.5])\n",
    "])\n",
    "normal = trans(metainfo.load_normal(metainfo.obj_ids[obj_id], \"00011\"))\n",
    "mask = normal.sum(0) > 2.95\n",
    "# normal[0, :, :] *= -1  # flip the shadow so that it looks from every side the same\n",
    "normal[:, mask] = 0.0\n",
    "\n",
    "L = torch.tensor(light_direction)  #  (3,)\n",
    "L = L / L.sum()\n",
    "image = torch.zeros_like(normal)\n",
    "image += ambient\n",
    "image += diffuse * (L[..., None, None] * normal).sum(0)[None, ...]\n",
    "image[:, mask] = 1\n",
    "plot_images(image, size=4)"
   ]
  },
  {
   "cell_type": "markdown",
   "metadata": {},
   "source": [
    "# Mean Shader"
   ]
  },
  {
   "cell_type": "code",
   "execution_count": null,
   "metadata": {},
   "outputs": [],
   "source": [
    "obj_id = 0\n",
    "metainfo = MetaInfo(data_dir=\"/home/borth/sketch2shape/data/shapenet_chair_4096\")\n",
    "trans = v2.Compose([\n",
    "    v2.ToImage(),\n",
    "    v2.ToDtype(torch.float32, scale=True),\n",
    "])\n",
    "# normal = trans(metainfo.load_normal(metainfo.obj_ids[obj_id], \"00081\"))\n",
    "normal = trans(metainfo.load_normal(metainfo.obj_ids[obj_id], \"00011\"))\n",
    "mask = normal.sum(0) > 2.95\n",
    "# normal[2, :, :] *= -1  # flip the shadow\n",
    "normal[:, mask] = 1\n",
    "mean = normal.mean(0)\n",
    "image = torch.stack([mean, mean, mean], dim=0)\n",
    "plot_images(image, size=4)"
   ]
  },
  {
   "cell_type": "code",
   "execution_count": null,
   "metadata": {},
   "outputs": [],
   "source": []
  }
 ],
 "metadata": {
  "kernelspec": {
   "display_name": "sketch2shape",
   "language": "python",
   "name": "python3"
  },
  "language_info": {
   "codemirror_mode": {
    "name": "ipython",
    "version": 3
   },
   "file_extension": ".py",
   "mimetype": "text/x-python",
   "name": "python",
   "nbconvert_exporter": "python",
   "pygments_lexer": "ipython3",
   "version": "3.11.7"
  }
 },
 "nbformat": 4,
 "nbformat_minor": 2
}
