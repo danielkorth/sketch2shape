{
 "cells": [
  {
   "cell_type": "code",
   "execution_count": null,
   "metadata": {},
   "outputs": [],
   "source": [
    "from lib.data.metainfo import MetaInfo\n",
    "from lib.visualize.open3d import visualize_object, visualize_pointcloud\n",
    "\n",
    "data_dir = \"/home/borth/sketch2shape/data/shapenet_chair_16\"\n",
    "metainfo = MetaInfo(data_dir=data_dir)"
   ]
  },
  {
   "cell_type": "code",
   "execution_count": null,
   "metadata": {},
   "outputs": [],
   "source": [
    "obj_id = metainfo.obj_ids[3]\n",
    "mesh = metainfo.load_normalized_mesh(obj_id=obj_id)\n",
    "points, sdf = metainfo.load_sdf_samples(obj_id=obj_id)\n",
    "visualize_pointcloud(points[sdf < 0], sdf[sdf < 0])\n",
    "visualize_object(mesh)"
   ]
  }
 ],
 "metadata": {
  "kernelspec": {
   "display_name": "sketch2shape",
   "language": "python",
   "name": "python3"
  },
  "language_info": {
   "codemirror_mode": {
    "name": "ipython",
    "version": 3
   },
   "file_extension": ".py",
   "mimetype": "text/x-python",
   "name": "python",
   "nbconvert_exporter": "python",
   "pygments_lexer": "ipython3",
   "version": "3.11.7"
  }
 },
 "nbformat": 4,
 "nbformat_minor": 2
}
