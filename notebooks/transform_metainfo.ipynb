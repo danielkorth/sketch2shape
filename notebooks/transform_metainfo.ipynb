{
 "cells": [
  {
   "cell_type": "code",
   "execution_count": 45,
   "metadata": {},
   "outputs": [
    {
     "name": "stderr",
     "output_type": "stream",
     "text": [
      "100%|██████████| 6778/6778 [00:00<00:00, 9966.06it/s] \n"
     ]
    }
   ],
   "source": [
    "from lib.data.metainfo import MetaInfo\n",
    "from tqdm import tqdm\n",
    "from pathlib import Path\n",
    "import pandas as pd\n",
    "\n",
    "data_dir = \"/home/borth/sketch2shape/data/siamese_chair_large\"\n",
    "metainfo = MetaInfo(data_dir=data_dir)\n",
    "\n",
    "\n",
    "data = []\n",
    "label = 1\n",
    "for obj_id, split in tqdm(metainfo.obj_ids_splits, total=metainfo.obj_id_count):\n",
    "    image_paths = Path(data_dir, obj_id, \"images\").glob(\"*.jpg\")\n",
    "    for image_id in sorted(list(path.stem for path in image_paths)):\n",
    "        data.append(\n",
    "            {\n",
    "                \"obj_id\": str(obj_id),\n",
    "                \"image_id\": str(image_id),\n",
    "                \"label\": label,\n",
    "                \"split\": str(split),\n",
    "            }\n",
    "        )\n",
    "    label += 1\n",
    "df = pd.DataFrame(data)\n",
    "df.to_csv(Path(data_dir,\"sketch_image_pairs.csv\"), index=None)"
   ]
  }
 ],
 "metadata": {
  "kernelspec": {
   "display_name": "pytorch3d",
   "language": "python",
   "name": "python3"
  },
  "language_info": {
   "codemirror_mode": {
    "name": "ipython",
    "version": 3
   },
   "file_extension": ".py",
   "mimetype": "text/x-python",
   "name": "python",
   "nbconvert_exporter": "python",
   "pygments_lexer": "ipython3",
   "version": "3.9.18"
  }
 },
 "nbformat": 4,
 "nbformat_minor": 2
}
